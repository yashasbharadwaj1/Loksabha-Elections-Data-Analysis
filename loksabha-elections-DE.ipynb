{
 "cells": [
  {
   "cell_type": "code",
   "execution_count": null,
   "metadata": {
    "application/vnd.databricks.v1+cell": {
     "cellMetadata": {
      "byteLimit": 2048000,
      "rowLimit": 10000
     },
     "inputWidgets": {},
     "nuid": "28824248-6ef8-43ef-8c64-93cce03f7537",
     "showTitle": false,
     "title": ""
    }
   },
   "outputs": [],
   "source": [
    "from pyspark.sql import Window\n",
    "from pyspark.sql.types import * \n",
    "from pyspark.sql.functions import * "
   ]
  },
  {
   "cell_type": "code",
   "execution_count": null,
   "metadata": {
    "application/vnd.databricks.v1+cell": {
     "cellMetadata": {
      "byteLimit": 2048000,
      "rowLimit": 10000
     },
     "inputWidgets": {},
     "nuid": "ea7840ec-b3d3-4c46-a724-d10317450d9e",
     "showTitle": false,
     "title": ""
    }
   },
   "outputs": [],
   "source": [
    "configs = {\n",
    "    \"fs.azure.account.auth.type\": \"OAuth\",\n",
    "    \"fs.azure.account.oauth.provider.type\": \"org.apache.hadoop.fs.azurebfs.oauth2.ClientCredsTokenProvider\",\n",
    "    \"fs.azure.account.oauth2.client.id\": \"\",\n",
    "    \"fs.azure.account.oauth2.client.secret\": \"\",\n",
    "    \"fs.azure.account.oauth2.client.endpoint\": \"\"\n",
    "}\n"
   ]
  },
  {
   "cell_type": "markdown",
   "metadata": {
    "application/vnd.databricks.v1+cell": {
     "cellMetadata": {
      "byteLimit": 2048000,
      "rowLimit": 10000
     },
     "inputWidgets": {},
     "nuid": "fc576e95-ae58-4fdb-acd4-3ba537dcb0d8",
     "showTitle": false,
     "title": ""
    }
   },
   "source": [
    "##mount raw-data"
   ]
  },
  {
   "cell_type": "code",
   "execution_count": null,
   "metadata": {
    "application/vnd.databricks.v1+cell": {
     "cellMetadata": {
      "byteLimit": 2048000,
      "rowLimit": 10000
     },
     "inputWidgets": {},
     "nuid": "8c142f79-15d3-4357-b9bb-e0d37ff69915",
     "showTitle": false,
     "title": ""
    }
   },
   "outputs": [
    {
     "data": {
      "text/plain": [
       "True"
      ]
     },
     "execution_count": 53,
     "metadata": {},
     "output_type": "execute_result"
    }
   ],
   "source": [
    "# container@storageacc\n",
    "dbutils.fs.mount(\n",
    "    source = \"abfss://raw-data@myprojects.dfs.core.windows.net\",\n",
    "    mount_point = \"/mnt/raw-election-data\",\n",
    "    extra_configs = configs\n",
    ")\n",
    "\n",
    "     "
   ]
  },
  {
   "cell_type": "code",
   "execution_count": null,
   "metadata": {
    "application/vnd.databricks.v1+cell": {
     "cellMetadata": {
      "byteLimit": 2048000,
      "rowLimit": 10000
     },
     "inputWidgets": {},
     "nuid": "07f10c04-0e27-491d-a63c-079c331b7f5c",
     "showTitle": false,
     "title": ""
    }
   },
   "outputs": [
    {
     "data": {
      "text/plain": [
       "[FileInfo(path='dbfs:/mnt/raw-election-data/2014/', name='2014/', size=0, modificationTime=1717484336000),\n",
       " FileInfo(path='dbfs:/mnt/raw-election-data/2019/', name='2019/', size=0, modificationTime=1717484963000)]"
      ]
     },
     "execution_count": 54,
     "metadata": {},
     "output_type": "execute_result"
    }
   ],
   "source": [
    "dbutils.fs.ls(\"/mnt/raw-election-data\")"
   ]
  },
  {
   "cell_type": "code",
   "execution_count": null,
   "metadata": {
    "application/vnd.databricks.v1+cell": {
     "cellMetadata": {
      "byteLimit": 2048000,
      "rowLimit": 10000
     },
     "inputWidgets": {},
     "nuid": "e7ce994f-bdc7-464e-aead-0f6c17efeabe",
     "showTitle": false,
     "title": ""
    }
   },
   "outputs": [
    {
     "data": {
      "text/plain": [
       "[FileInfo(path='dbfs:/mnt/raw-election-data/2014/results.csv', name='results.csv', size=705846, modificationTime=1717497446000)]"
      ]
     },
     "execution_count": 55,
     "metadata": {},
     "output_type": "execute_result"
    }
   ],
   "source": [
    "dbutils.fs.ls(\"/mnt/raw-election-data/2014/\")"
   ]
  },
  {
   "cell_type": "markdown",
   "metadata": {
    "application/vnd.databricks.v1+cell": {
     "cellMetadata": {},
     "inputWidgets": {},
     "nuid": "cbccc46e-1125-432d-a02b-cd94d4cf08f5",
     "showTitle": false,
     "title": ""
    }
   },
   "source": [
    "##load dim-states dimension table form transformed-data folder"
   ]
  },
  {
   "cell_type": "code",
   "execution_count": null,
   "metadata": {
    "application/vnd.databricks.v1+cell": {
     "cellMetadata": {
      "byteLimit": 2048000,
      "rowLimit": 10000
     },
     "inputWidgets": {},
     "nuid": "9a0e9171-f711-4288-a259-48d811e48780",
     "showTitle": false,
     "title": ""
    }
   },
   "outputs": [
    {
     "data": {
      "text/plain": [
       "True"
      ]
     },
     "execution_count": 10,
     "metadata": {},
     "output_type": "execute_result"
    }
   ],
   "source": [
    "# container@storageacc\n",
    "dbutils.fs.mount(\n",
    "    source = \"abfss://transformed-data@myprojects.dfs.core.windows.net\",\n",
    "    mount_point = \"/mnt/dim-electiondata\",\n",
    "    extra_configs = configs\n",
    ")"
   ]
  },
  {
   "cell_type": "code",
   "execution_count": null,
   "metadata": {
    "application/vnd.databricks.v1+cell": {
     "cellMetadata": {
      "byteLimit": 2048000,
      "rowLimit": 10000
     },
     "inputWidgets": {},
     "nuid": "98d76571-c9c1-48df-bbf7-06dbaa96545e",
     "showTitle": false,
     "title": ""
    }
   },
   "outputs": [
    {
     "data": {
      "text/plain": [
       "[FileInfo(path='dbfs:/mnt/dim-electiondata/dimension-tables/', name='dimension-tables/', size=0, modificationTime=1717485955000)]"
      ]
     },
     "execution_count": 235,
     "metadata": {},
     "output_type": "execute_result"
    }
   ],
   "source": [
    "dbutils.fs.ls(\"/mnt/dim-electiondata\")"
   ]
  },
  {
   "cell_type": "code",
   "execution_count": null,
   "metadata": {
    "application/vnd.databricks.v1+cell": {
     "cellMetadata": {
      "byteLimit": 2048000,
      "rowLimit": 10000
     },
     "inputWidgets": {},
     "nuid": "4503cbbe-4e2a-4268-88dc-faa59f6a7c31",
     "showTitle": false,
     "title": ""
    }
   },
   "outputs": [
    {
     "data": {
      "text/plain": [
       "[FileInfo(path='dbfs:/mnt/dim-electiondata/dimension-tables/dim_candidate_2014/', name='dim_candidate_2014/', size=0, modificationTime=1717582243000),\n",
       " FileInfo(path='dbfs:/mnt/dim-electiondata/dimension-tables/dim_states/', name='dim_states/', size=0, modificationTime=1717582306000),\n",
       " FileInfo(path='dbfs:/mnt/dim-electiondata/dimension-tables/dim_states_codes.csv', name='dim_states_codes.csv', size=539, modificationTime=1717582487000)]"
      ]
     },
     "execution_count": 236,
     "metadata": {},
     "output_type": "execute_result"
    }
   ],
   "source": [
    "dbutils.fs.ls(\"/mnt/dim-electiondata/dimension-tables/\")"
   ]
  },
  {
   "cell_type": "code",
   "execution_count": null,
   "metadata": {
    "application/vnd.databricks.v1+cell": {
     "cellMetadata": {
      "byteLimit": 2048000,
      "rowLimit": 10000
     },
     "inputWidgets": {},
     "nuid": "abd07077-395e-44a3-ba79-82d1fb70574e",
     "showTitle": false,
     "title": ""
    }
   },
   "outputs": [
    {
     "data": {
      "text/html": [
       "\n",
       "            <div>\n",
       "                <p><b>SparkSession - hive</b></p>\n",
       "                \n",
       "        <div>\n",
       "            <p><b>SparkContext</b></p>\n",
       "\n",
       "            <p><a href=\"/?o=1618374503809733#setting/sparkui/0604-080329-heahptv5/driver-2896437914267908053\">Spark UI</a></p>\n",
       "\n",
       "            <dl>\n",
       "              <dt>Version</dt>\n",
       "                <dd><code>v3.5.0</code></dd>\n",
       "              <dt>Master</dt>\n",
       "                <dd><code>local[*, 4]</code></dd>\n",
       "              <dt>AppName</dt>\n",
       "                <dd><code>Databricks Shell</code></dd>\n",
       "            </dl>\n",
       "        </div>\n",
       "        \n",
       "            </div>\n",
       "        "
      ],
      "text/plain": [
       "<pyspark.sql.session.SparkSession at 0x7f943c81ce90>"
      ]
     },
     "execution_count": 237,
     "metadata": {},
     "output_type": "execute_result"
    }
   ],
   "source": [
    "spark"
   ]
  },
  {
   "cell_type": "markdown",
   "metadata": {
    "application/vnd.databricks.v1+cell": {
     "cellMetadata": {},
     "inputWidgets": {},
     "nuid": "c9e0ac1b-8eff-42cf-8127-99715065a48b",
     "showTitle": false,
     "title": ""
    }
   },
   "source": [
    "##Load state_codes data"
   ]
  },
  {
   "cell_type": "code",
   "execution_count": null,
   "metadata": {
    "application/vnd.databricks.v1+cell": {
     "cellMetadata": {
      "byteLimit": 2048000,
      "rowLimit": 10000
     },
     "inputWidgets": {},
     "nuid": "ea99b74b-a78d-4547-8698-60b58f5f6da0",
     "showTitle": false,
     "title": ""
    }
   },
   "outputs": [],
   "source": [
    "dim_states_df = spark.read.format(\"csv\")\\\n",
    ".option(\"inferschema\",\"true\")\\\n",
    ".option(\"header\",\"true\")\\\n",
    ".option(\"mode\",\"failfast\")\\\n",
    ".load(\"dbfs:/mnt/dim-electiondata/dimension-tables/dim_states_codes.csv\")\n"
   ]
  },
  {
   "cell_type": "code",
   "execution_count": null,
   "metadata": {
    "application/vnd.databricks.v1+cell": {
     "cellMetadata": {
      "byteLimit": 2048000,
      "rowLimit": 10000
     },
     "inputWidgets": {},
     "nuid": "352000ef-eff5-4c6c-93d0-543fad739d0f",
     "showTitle": false,
     "title": ""
    }
   },
   "outputs": [
    {
     "name": "stdout",
     "output_type": "stream",
     "text": [
      "+--------------------+------------+\n",
      "|          state_name|abbreviation|\n",
      "+--------------------+------------+\n",
      "|Andaman & Nicobar...|          AN|\n",
      "|      Andhra Pradesh|          AP|\n",
      "|   Arunachal Pradesh|          AR|\n",
      "|               Assam|          AS|\n",
      "|               Bihar|          BR|\n",
      "|          Chandigarh|          CH|\n",
      "|        Chhattisgarh|          CT|\n",
      "|Dadra & Nagar Haveli|          DN|\n",
      "|         Daman & Diu|          DD|\n",
      "|        NCT OF Delhi|          DL|\n",
      "|                 Goa|          GA|\n",
      "|             Gujarat|          GJ|\n",
      "|             Haryana|          HR|\n",
      "|    Himachal Pradesh|          HP|\n",
      "|     Jammu & Kashmir|          JK|\n",
      "|           Jharkhand|          JH|\n",
      "|           Karnataka|          KA|\n",
      "|              Kerala|          KL|\n",
      "|         Lakshadweep|          LD|\n",
      "|      Madhya Pradesh|          MP|\n",
      "+--------------------+------------+\n",
      "only showing top 20 rows\n",
      "\n"
     ]
    }
   ],
   "source": [
    "dim_states_df.show()"
   ]
  },
  {
   "cell_type": "code",
   "execution_count": null,
   "metadata": {
    "application/vnd.databricks.v1+cell": {
     "cellMetadata": {
      "byteLimit": 2048000,
      "rowLimit": 10000
     },
     "inputWidgets": {},
     "nuid": "cf8a27b9-6cf2-44da-b7fc-9299aededcdc",
     "showTitle": false,
     "title": ""
    }
   },
   "outputs": [
    {
     "data": {
      "text/plain": [
       "36"
      ]
     },
     "execution_count": 161,
     "metadata": {},
     "output_type": "execute_result"
    }
   ],
   "source": [
    "dim_states_df.count()"
   ]
  },
  {
   "cell_type": "markdown",
   "metadata": {
    "application/vnd.databricks.v1+cell": {
     "cellMetadata": {},
     "inputWidgets": {},
     "nuid": "26e87ffe-3c91-4784-906a-3630070eb447",
     "showTitle": false,
     "title": ""
    }
   },
   "source": [
    "##Load 2014 results data"
   ]
  },
  {
   "cell_type": "code",
   "execution_count": null,
   "metadata": {
    "application/vnd.databricks.v1+cell": {
     "cellMetadata": {
      "byteLimit": 2048000,
      "rowLimit": 10000
     },
     "inputWidgets": {},
     "nuid": "b29a9791-c6eb-4e1b-86f9-b2ecf5569c45",
     "showTitle": false,
     "title": ""
    }
   },
   "outputs": [],
   "source": [
    "raw_2014_results_df = spark.read.format(\"csv\")\\\n",
    ".option(\"inferschema\",\"true\")\\\n",
    ".option(\"header\",\"true\")\\\n",
    ".option(\"mode\",\"failfast\")\\\n",
    ".load(\"dbfs:/mnt/raw-election-data/2014/results.csv\")\n"
   ]
  },
  {
   "cell_type": "code",
   "execution_count": null,
   "metadata": {
    "application/vnd.databricks.v1+cell": {
     "cellMetadata": {
      "byteLimit": 2048000,
      "rowLimit": 10000
     },
     "inputWidgets": {},
     "nuid": "579d9591-17a2-43c6-a010-659594cfa333",
     "showTitle": false,
     "title": ""
    }
   },
   "outputs": [
    {
     "name": "stdout",
     "output_type": "stream",
     "text": [
      "+--------------+---------+-------------+---+----+--------+-----+------------+-------------+------------+-----------+--------------+\n",
      "|         state|  pc_name|    candidate|sex| age|category|party|party_symbol|general_votes|postal_votes|total_votes|total_electors|\n",
      "+--------------+---------+-------------+---+----+--------+-----+------------+-------------+------------+-----------+--------------+\n",
      "|Andhra Pradesh|Adilabad | GODAM NAGESH|  M|49.0|      ST|  TRS|         Car|       425762|        5085|     430847|       1386282|\n",
      "|Andhra Pradesh|Adilabad |       NARESH|  M|37.0|      ST|  INC|        Hand|       257994|        1563|     259557|       1386282|\n",
      "|Andhra Pradesh|Adilabad |RAMESH RATHOD|  M|48.0|      ST|  TDP|     Bicycle|       182879|        1319|     184198|       1386282|\n",
      "+--------------+---------+-------------+---+----+--------+-----+------------+-------------+------------+-----------+--------------+\n",
      "only showing top 3 rows\n",
      "\n"
     ]
    }
   ],
   "source": [
    "raw_2014_results_df.show(3)"
   ]
  },
  {
   "cell_type": "code",
   "execution_count": null,
   "metadata": {
    "application/vnd.databricks.v1+cell": {
     "cellMetadata": {
      "byteLimit": 2048000,
      "rowLimit": 10000
     },
     "inputWidgets": {},
     "nuid": "e8236e1e-462d-42c7-84e7-50bbd3b569f8",
     "showTitle": false,
     "title": ""
    }
   },
   "outputs": [
    {
     "data": {
      "text/plain": [
       "8355"
      ]
     },
     "execution_count": 243,
     "metadata": {},
     "output_type": "execute_result"
    }
   ],
   "source": [
    "raw_2014_results_df.count()"
   ]
  },
  {
   "cell_type": "code",
   "execution_count": null,
   "metadata": {
    "application/vnd.databricks.v1+cell": {
     "cellMetadata": {
      "byteLimit": 2048000,
      "rowLimit": 10000
     },
     "inputWidgets": {},
     "nuid": "fe753a89-ae5f-4dfe-b955-686dd44a4060",
     "showTitle": false,
     "title": ""
    }
   },
   "outputs": [
    {
     "name": "stdout",
     "output_type": "stream",
     "text": [
      "root\n",
      " |-- state: string (nullable = true)\n",
      " |-- pc_name: string (nullable = true)\n",
      " |-- candidate: string (nullable = true)\n",
      " |-- sex: string (nullable = true)\n",
      " |-- age: double (nullable = true)\n",
      " |-- category: string (nullable = true)\n",
      " |-- party: string (nullable = true)\n",
      " |-- party_symbol: string (nullable = true)\n",
      " |-- general_votes: integer (nullable = true)\n",
      " |-- postal_votes: integer (nullable = true)\n",
      " |-- total_votes: integer (nullable = true)\n",
      " |-- total_electors: integer (nullable = true)\n",
      "\n"
     ]
    }
   ],
   "source": [
    "raw_2019_results_df.printSchema()"
   ]
  },
  {
   "cell_type": "markdown",
   "metadata": {
    "application/vnd.databricks.v1+cell": {
     "cellMetadata": {},
     "inputWidgets": {},
     "nuid": "b60e51c9-8e6b-4513-9813-ae4fd5845ecb",
     "showTitle": false,
     "title": ""
    }
   },
   "source": [
    "##Load 2019 results data"
   ]
  },
  {
   "cell_type": "code",
   "execution_count": null,
   "metadata": {
    "application/vnd.databricks.v1+cell": {
     "cellMetadata": {
      "byteLimit": 2048000,
      "rowLimit": 10000
     },
     "inputWidgets": {},
     "nuid": "728644c5-32f6-49aa-82e7-0382c1d1fa18",
     "showTitle": false,
     "title": ""
    }
   },
   "outputs": [],
   "source": [
    "raw_2019_results_df = spark.read.format(\"csv\")\\\n",
    ".option(\"inferschema\",\"true\")\\\n",
    ".option(\"header\",\"true\")\\\n",
    ".option(\"mode\",\"failfast\")\\\n",
    ".load(\"dbfs:/mnt/raw-election-data/2019/results.csv\")"
   ]
  },
  {
   "cell_type": "code",
   "execution_count": null,
   "metadata": {
    "application/vnd.databricks.v1+cell": {
     "cellMetadata": {
      "byteLimit": 2048000,
      "rowLimit": 10000
     },
     "inputWidgets": {},
     "nuid": "d192b2f4-f35d-45f8-99e5-3529a95eb6f3",
     "showTitle": false,
     "title": ""
    }
   },
   "outputs": [
    {
     "name": "stdout",
     "output_type": "stream",
     "text": [
      "+--------------+-------+--------------------+------+----+--------+-----+------------+-------------+------------+-----------+--------------+\n",
      "|         state|pc_name|           candidate|   sex| age|category|party|party_symbol|general_votes|postal_votes|total_votes|total_electors|\n",
      "+--------------+-------+--------------------+------+----+--------+-----+------------+-------------+------------+-----------+--------------+\n",
      "|Andhra Pradesh| Aruku | KISHORE CHANDRA DEO|  MALE|72.0|      ST|  TDP|     Bicycle|       336163|        1938|     338101|       1451418|\n",
      "|Andhra Pradesh| Aruku |Dr. KOSURI KASI V...|  MALE|54.0|      ST|  BJP|       Lotus|        17578|         289|      17867|       1451418|\n",
      "|Andhra Pradesh| Aruku |    GODDETI. MADHAVI|FEMALE|26.0|      ST|YSRCP| Ceiling Fan|       557561|        4629|     562190|       1451418|\n",
      "+--------------+-------+--------------------+------+----+--------+-----+------------+-------------+------------+-----------+--------------+\n",
      "only showing top 3 rows\n",
      "\n"
     ]
    }
   ],
   "source": [
    "raw_2019_results_df.show(3)"
   ]
  },
  {
   "cell_type": "code",
   "execution_count": null,
   "metadata": {
    "application/vnd.databricks.v1+cell": {
     "cellMetadata": {
      "byteLimit": 2048000,
      "rowLimit": 10000
     },
     "inputWidgets": {},
     "nuid": "2bc93dfb-7830-495a-98d2-f1aa21f296e6",
     "showTitle": false,
     "title": ""
    }
   },
   "outputs": [
    {
     "name": "stdout",
     "output_type": "stream",
     "text": [
      "root\n",
      " |-- state: string (nullable = true)\n",
      " |-- pc_name: string (nullable = true)\n",
      " |-- candidate: string (nullable = true)\n",
      " |-- sex: string (nullable = true)\n",
      " |-- age: double (nullable = true)\n",
      " |-- category: string (nullable = true)\n",
      " |-- party: string (nullable = true)\n",
      " |-- party_symbol: string (nullable = true)\n",
      " |-- general_votes: integer (nullable = true)\n",
      " |-- postal_votes: integer (nullable = true)\n",
      " |-- total_votes: integer (nullable = true)\n",
      " |-- total_electors: integer (nullable = true)\n",
      "\n"
     ]
    }
   ],
   "source": [
    "raw_2019_results_df.printSchema()"
   ]
  },
  {
   "cell_type": "code",
   "execution_count": null,
   "metadata": {
    "application/vnd.databricks.v1+cell": {
     "cellMetadata": {
      "byteLimit": 2048000,
      "rowLimit": 10000
     },
     "inputWidgets": {},
     "nuid": "c3ef275b-fd26-46f2-b57a-a1e99bd7f221",
     "showTitle": false,
     "title": ""
    }
   },
   "outputs": [
    {
     "data": {
      "text/plain": [
       "8597"
      ]
     },
     "execution_count": 246,
     "metadata": {},
     "output_type": "execute_result"
    }
   ],
   "source": [
    "raw_2019_results_df.count()"
   ]
  },
  {
   "cell_type": "markdown",
   "metadata": {
    "application/vnd.databricks.v1+cell": {
     "cellMetadata": {},
     "inputWidgets": {},
     "nuid": "8101fed1-ec30-4c8a-b9cd-cc54efa96b24",
     "showTitle": false,
     "title": ""
    }
   },
   "source": [
    "##Data Cleaning"
   ]
  },
  {
   "cell_type": "markdown",
   "metadata": {
    "application/vnd.databricks.v1+cell": {
     "cellMetadata": {},
     "inputWidgets": {},
     "nuid": "7d7bef67-f4cb-48fc-8429-b09d9db95c57",
     "showTitle": false,
     "title": ""
    }
   },
   "source": [
    "1. Data might contain constituencies spelling mismatches and some constituencies\n",
    "may be listed with identical names. Proper validation is required."
   ]
  },
  {
   "cell_type": "markdown",
   "metadata": {
    "application/vnd.databricks.v1+cell": {
     "cellMetadata": {},
     "inputWidgets": {},
     "nuid": "5a4b33dc-8e05-4e67-81d2-062279b77c94",
     "showTitle": false,
     "title": ""
    }
   },
   "source": [
    "Approach:- Standardizing  Names (remove extra spaces, convert to lower case)"
   ]
  },
  {
   "cell_type": "code",
   "execution_count": null,
   "metadata": {
    "application/vnd.databricks.v1+cell": {
     "cellMetadata": {
      "byteLimit": 2048000,
      "rowLimit": 10000
     },
     "inputWidgets": {},
     "nuid": "334a8b98-f3ff-41bd-ae28-67d35cf26a24",
     "showTitle": false,
     "title": ""
    }
   },
   "outputs": [],
   "source": [
    "\n",
    "def standardize_data(df):\n",
    "    for column in df.columns:\n",
    "        df = df.withColumn(column, trim(lower(col(column))))\n",
    "    return df\n",
    "\n",
    "raw_2014_results_df = standardize_data(raw_2014_results_df)\n",
    "raw_2019_results_df = standardize_data(raw_2019_results_df) \n",
    "dim_states_df = standardize_data(dim_states_df)\n",
    "\n"
   ]
  },
  {
   "cell_type": "code",
   "execution_count": null,
   "metadata": {
    "application/vnd.databricks.v1+cell": {
     "cellMetadata": {
      "byteLimit": 2048000,
      "rowLimit": 10000
     },
     "inputWidgets": {},
     "nuid": "55467260-3879-4cdd-a1ce-fd95f9b460c6",
     "showTitle": false,
     "title": ""
    }
   },
   "outputs": [
    {
     "name": "stdout",
     "output_type": "stream",
     "text": [
      "+--------------+----------+--------------------+----+----+--------+-----+--------------+-------------+------------+-----------+--------------+\n",
      "|         state|   pc_name|           candidate| sex| age|category|party|  party_symbol|general_votes|postal_votes|total_votes|total_electors|\n",
      "+--------------+----------+--------------------+----+----+--------+-----+--------------+-------------+------------+-----------+--------------+\n",
      "|andhra pradesh|  adilabad|        godam nagesh|   m|49.0|      st|  trs|           car|       425762|        5085|     430847|       1386282|\n",
      "|andhra pradesh|  adilabad|              naresh|   m|37.0|      st|  inc|          hand|       257994|        1563|     259557|       1386282|\n",
      "|andhra pradesh|  adilabad|       ramesh rathod|   m|48.0|      st|  tdp|       bicycle|       182879|        1319|     184198|       1386282|\n",
      "|andhra pradesh|  adilabad|     rathod sadashiv|   m|55.0|      st|  bsp|      elephant|        94363|          57|      94420|       1386282|\n",
      "|andhra pradesh|  adilabad|    nethawath ramdas|   m|44.0|      st|  ind|auto- rickshaw|        41028|           4|      41032|       1386282|\n",
      "|andhra pradesh|  adilabad|       pawar krishna|   m|33.0|      st|  ind|           bat|         5051|           4|       5055|       1386282|\n",
      "|andhra pradesh|  adilabad|       banka sahadev|   m|53.0|      st|  ind|  gas cylinder|         4780|           7|       4787|       1386282|\n",
      "|andhra pradesh|  adilabad|    mosali chinnaiah|   m|40.0|      st|  ind|       almirah|         8842|          17|       8859|       1386282|\n",
      "|andhra pradesh|  adilabad|   none of the above|NULL|NULL|    NULL| nota|          nota|        17021|          63|      17084|       1386282|\n",
      "|andhra pradesh|peddapalle|dr.janapati sarat...|   m|42.0|      sc|  tdp|       bicycle|        63174|         160|      63334|       1425355|\n",
      "|andhra pradesh|peddapalle| tagaram shankar lal|   m|37.0|      sc|  bsp|      elephant|         9430|          19|       9449|       1425355|\n",
      "|andhra pradesh|peddapalle|         balka suman|   m|31.0|      sc|  trs|           car|       563214|        2282|     565496|       1425355|\n",
      "|andhra pradesh|peddapalle|       g. vivekanand|   m|56.0|      sc|  inc|          hand|       273441|         897|     274338|       1425355|\n",
      "|andhra pradesh|peddapalle|     kalvala shankar|   m|44.0|      sc| ppoi|    television|         9288|           2|       9290|       1425355|\n",
      "|andhra pradesh|peddapalle|     kalvala sanjeev|   m|37.0|      sc|  rpi|sewing machine|         8609|           0|       8609|       1425355|\n",
      "|andhra pradesh|peddapalle|botha venkata mal...|   m|58.0|      sc| bcuf|      chappals|         2245|           0|       2245|       1425355|\n",
      "|andhra pradesh|peddapalle|           j.v. raju|   m|50.0|      sc|  nip|  cup & saucer|         3020|           0|       3020|       1425355|\n",
      "|andhra pradesh|peddapalle| venkata swamy injam|   m|42.0|      sc| masp|          ring|         3861|           5|       3866|       1425355|\n",
      "|andhra pradesh|peddapalle|   velthuru mallaiah|   m|57.0|      sc|rp(k)|auto- rickshaw|        45976|           1|      45977|       1425355|\n",
      "|andhra pradesh|peddapalle|    kamilla jaya rao|   m|43.0|      sc|  ind|      scissors|         2741|           1|       2742|       1425355|\n",
      "+--------------+----------+--------------------+----+----+--------+-----+--------------+-------------+------------+-----------+--------------+\n",
      "only showing top 20 rows\n",
      "\n"
     ]
    }
   ],
   "source": [
    "raw_2014_results_df.show()"
   ]
  },
  {
   "cell_type": "code",
   "execution_count": null,
   "metadata": {
    "application/vnd.databricks.v1+cell": {
     "cellMetadata": {
      "byteLimit": 2048000,
      "rowLimit": 10000
     },
     "inputWidgets": {},
     "nuid": "39c73f88-11e4-4793-b7e3-0b4f98d8b536",
     "showTitle": false,
     "title": ""
    }
   },
   "outputs": [
    {
     "name": "stdout",
     "output_type": "stream",
     "text": [
      "+--------------+----------+--------------------+------+----+--------+-----+-------------+-------------+------------+-----------+--------------+\n",
      "|         state|   pc_name|           candidate|   sex| age|category|party| party_symbol|general_votes|postal_votes|total_votes|total_electors|\n",
      "+--------------+----------+--------------------+------+----+--------+-----+-------------+-------------+------------+-----------+--------------+\n",
      "|andhra pradesh|     aruku| kishore chandra deo|  male|72.0|      st|  tdp|      bicycle|       336163|        1938|     338101|       1451418|\n",
      "|andhra pradesh|     aruku|dr. kosuri kasi v...|  male|54.0|      st|  bjp|        lotus|        17578|         289|      17867|       1451418|\n",
      "|andhra pradesh|     aruku|    goddeti. madhavi|female|26.0|      st|ysrcp|  ceiling fan|       557561|        4629|     562190|       1451418|\n",
      "|andhra pradesh|     aruku|shruti devi vyric...|female|46.0|      st|  inc|         hand|        17656|          74|      17730|       1451418|\n",
      "|andhra pradesh|     aruku| gangulaiah vampuru.|  male|49.0|      st|  jnp|glass tumbler|        42245|         549|      42794|       1451418|\n",
      "|andhra pradesh|     aruku|swamula. subrahma...|  male|50.0|      st|jajgp|         mike|         4705|           5|       4710|       1451418|\n",
      "|andhra pradesh|     aruku|anumula vamsikrishna|  male|41.0|      st|  ind|   helicopter|        10211|          29|      10240|       1451418|\n",
      "|andhra pradesh|     aruku|    kangala baludora|  male|61.0|      st|  ind| cup & saucer|        13810|          16|      13826|       1451418|\n",
      "|andhra pradesh|     aruku|   narava satyavathi|female|37.0|      st|  ind|      bangles|        11231|           5|      11236|       1451418|\n",
      "|andhra pradesh|     aruku|    biddika ramayya.|  male|57.0|      st|  ind|battery torch|         7863|           4|       7867|       1451418|\n",
      "|andhra pradesh|     aruku|                nota|  NULL|NULL|    NULL| nota|         NULL|        47955|          22|      47977|       1451418|\n",
      "|andhra pradesh|srikakulam|kinjarapu ram moh...|  male|32.0| general|  tdp|      bicycle|       529213|        5331|     534544|       1553860|\n",
      "|andhra pradesh|srikakulam|          dola jagan|  male|53.0| general|  inc|         hand|        13456|         289|      13745|       1553860|\n",
      "|andhra pradesh|srikakulam|    duvvada srinivas|  male|52.0| general|ysrcp|  ceiling fan|       520931|        6960|     527891|       1553860|\n",
      "|andhra pradesh|srikakulam|  perla samba murthy|  male|58.0| general|  bjp|        lotus|         7357|        1033|       8390|       1553860|\n",
      "|andhra pradesh|srikakulam|matta satish chak...|  male|37.0| general| ppoi|        flute|         1441|           7|       1448|       1553860|\n",
      "|andhra pradesh|srikakulam|       metta ramarao|  male|53.0| general|  jnp|glass tumbler|        31319|         637|      31956|       1553860|\n",
      "|andhra pradesh|srikakulam|namballa krishna ...|  male|44.0| general|  ind|electric pole|         4829|           7|       4836|       1553860|\n",
      "|andhra pradesh|srikakulam|naidugari rajasekhar|  male|35.0| general|  ind|   helicopter|         5151|           5|       5156|       1553860|\n",
      "|andhra pradesh|srikakulam|betha vivekananda...|  male|33.0| general|  ind|     football|         3814|           4|       3818|       1553860|\n",
      "+--------------+----------+--------------------+------+----+--------+-----+-------------+-------------+------------+-----------+--------------+\n",
      "only showing top 20 rows\n",
      "\n"
     ]
    }
   ],
   "source": [
    "raw_2019_results_df.show()"
   ]
  },
  {
   "cell_type": "code",
   "execution_count": null,
   "metadata": {
    "application/vnd.databricks.v1+cell": {
     "cellMetadata": {
      "byteLimit": 2048000,
      "rowLimit": 10000
     },
     "inputWidgets": {},
     "nuid": "fc57f740-5f0a-4897-bff4-5081c85cff57",
     "showTitle": false,
     "title": ""
    }
   },
   "outputs": [
    {
     "name": "stdout",
     "output_type": "stream",
     "text": [
      "+-------------------------+------------+\n",
      "|state_name               |abbreviation|\n",
      "+-------------------------+------------+\n",
      "|andaman & nicobar islands|an          |\n",
      "|andhra pradesh           |ap          |\n",
      "|arunachal pradesh        |ar          |\n",
      "|assam                    |as          |\n",
      "|bihar                    |br          |\n",
      "|chandigarh               |ch          |\n",
      "|chhattisgarh             |ct          |\n",
      "|dadra & nagar haveli     |dn          |\n",
      "|daman & diu              |dd          |\n",
      "|nct of delhi             |dl          |\n",
      "|goa                      |ga          |\n",
      "|gujarat                  |gj          |\n",
      "|haryana                  |hr          |\n",
      "|himachal pradesh         |hp          |\n",
      "|jammu & kashmir          |jk          |\n",
      "|jharkhand                |jh          |\n",
      "|karnataka                |ka          |\n",
      "|kerala                   |kl          |\n",
      "|lakshadweep              |ld          |\n",
      "|madhya pradesh           |mp          |\n",
      "+-------------------------+------------+\n",
      "only showing top 20 rows\n",
      "\n"
     ]
    }
   ],
   "source": [
    "dim_states_df.show(truncate=False)"
   ]
  },
  {
   "cell_type": "markdown",
   "metadata": {
    "application/vnd.databricks.v1+cell": {
     "cellMetadata": {},
     "inputWidgets": {},
     "nuid": "70f1251f-240f-418e-b787-dd338818790a",
     "showTitle": false,
     "title": ""
    }
   },
   "source": [
    "2. In 2014, Andhra Pradesh underwent bifurcation. For simplicity, all constituencies\n",
    "from that year should be attributed to Telangana state. This includes constituencies\n",
    "such as Adilabad, Hyderabad, Warangal, etc., which should be considered part of\n",
    "Telangana ratherthan Andhra Pradesh forthe year 2014."
   ]
  },
  {
   "cell_type": "markdown",
   "metadata": {
    "application/vnd.databricks.v1+cell": {
     "cellMetadata": {},
     "inputWidgets": {},
     "nuid": "3c772fe7-3c6d-4eb9-aa4c-449dcb6a6940",
     "showTitle": false,
     "title": ""
    }
   },
   "source": [
    "Approach Step 1:- \n",
    "\n",
    "2019 dataset has telangana in dataset so from 2019 dataset ill collect all telangana related constituences into a list \n",
    "\n"
   ]
  },
  {
   "cell_type": "code",
   "execution_count": null,
   "metadata": {
    "application/vnd.databricks.v1+cell": {
     "cellMetadata": {
      "byteLimit": 2048000,
      "rowLimit": 10000
     },
     "inputWidgets": {},
     "nuid": "0a1a8722-c7fe-4a70-8c12-62153cc3b053",
     "showTitle": false,
     "title": ""
    }
   },
   "outputs": [
    {
     "name": "stdout",
     "output_type": "stream",
     "text": [
      "+------------+\n",
      "|     pc_name|\n",
      "+------------+\n",
      "|     bhongir|\n",
      "|   nizamabad|\n",
      "|nagarkurnool|\n",
      "|  peddapalle|\n",
      "|    chevella|\n",
      "| mahbubnagar|\n",
      "|   hyderabad|\n",
      "|    nalgonda|\n",
      "|  malkajgiri|\n",
      "|   zahirabad|\n",
      "|    warangal|\n",
      "|  karimnagar|\n",
      "|       medak|\n",
      "|    adilabad|\n",
      "| mahabubabad|\n",
      "|     khammam|\n",
      "| secundrabad|\n",
      "+------------+\n",
      "\n"
     ]
    }
   ],
   "source": [
    "telangana_constituencies_df= raw_2019_results_df.filter(col(\"state\")==\"telangana\").groupBy(\"pc_name\").agg(count(\"*\"))\\\n",
    ".select(col(\"pc_name\")) \n",
    "telangana_constituencies_df.show()"
   ]
  },
  {
   "cell_type": "code",
   "execution_count": null,
   "metadata": {
    "application/vnd.databricks.v1+cell": {
     "cellMetadata": {
      "byteLimit": 2048000,
      "rowLimit": 10000
     },
     "inputWidgets": {},
     "nuid": "f5d3c745-aa9f-4885-a75c-95515b17ee7b",
     "showTitle": false,
     "title": ""
    }
   },
   "outputs": [
    {
     "data": {
      "text/plain": [
       "17"
      ]
     },
     "execution_count": 253,
     "metadata": {},
     "output_type": "execute_result"
    }
   ],
   "source": [
    "telangana_constituencies_df.count()"
   ]
  },
  {
   "cell_type": "code",
   "execution_count": null,
   "metadata": {
    "application/vnd.databricks.v1+cell": {
     "cellMetadata": {
      "byteLimit": 2048000,
      "rowLimit": 10000
     },
     "inputWidgets": {},
     "nuid": "b8079656-5f63-4f98-86a3-a51dac1a1faf",
     "showTitle": false,
     "title": ""
    }
   },
   "outputs": [],
   "source": [
    "telangana_constituencies_list = [row.pc_name for row in telangana_constituencies_df.collect()]"
   ]
  },
  {
   "cell_type": "code",
   "execution_count": null,
   "metadata": {
    "application/vnd.databricks.v1+cell": {
     "cellMetadata": {
      "byteLimit": 2048000,
      "rowLimit": 10000
     },
     "inputWidgets": {},
     "nuid": "71c4381d-a85d-44f8-bcea-7c1b008d7597",
     "showTitle": false,
     "title": ""
    }
   },
   "outputs": [
    {
     "data": {
      "text/plain": [
       "['bhongir',\n",
       " 'nizamabad',\n",
       " 'nagarkurnool',\n",
       " 'peddapalle',\n",
       " 'chevella',\n",
       " 'mahbubnagar',\n",
       " 'hyderabad',\n",
       " 'nalgonda',\n",
       " 'malkajgiri',\n",
       " 'zahirabad',\n",
       " 'warangal',\n",
       " 'karimnagar',\n",
       " 'medak',\n",
       " 'adilabad',\n",
       " 'mahabubabad',\n",
       " 'khammam',\n",
       " 'secundrabad']"
      ]
     },
     "execution_count": 255,
     "metadata": {},
     "output_type": "execute_result"
    }
   ],
   "source": [
    "telangana_constituencies_list "
   ]
  },
  {
   "cell_type": "markdown",
   "metadata": {
    "application/vnd.databricks.v1+cell": {
     "cellMetadata": {},
     "inputWidgets": {},
     "nuid": "e51a57c4-636c-42c1-825d-6fa473ba2876",
     "showTitle": false,
     "title": ""
    }
   },
   "source": [
    "Approach Step2:-\n",
    "\n",
    "in 2014 dataset in state of Andra pradesh where ever this telangana related constituences comes in ill resplace state name to telangana "
   ]
  },
  {
   "cell_type": "code",
   "execution_count": null,
   "metadata": {
    "application/vnd.databricks.v1+cell": {
     "cellMetadata": {
      "byteLimit": 2048000,
      "rowLimit": 10000
     },
     "inputWidgets": {},
     "nuid": "4e0aa967-1b88-44ee-8f66-5ec79227dc7d",
     "showTitle": false,
     "title": ""
    }
   },
   "outputs": [],
   "source": [
    "raw_2014_results_df = raw_2014_results_df.withColumn(\n",
    "    \"state\",\n",
    "    when((col(\"state\") == \"andhra pradesh\") & (col(\"pc_name\").isin(telangana_constituencies_list)), \"telangana\")\n",
    "    .otherwise(col(\"state\"))\n",
    ")"
   ]
  },
  {
   "cell_type": "markdown",
   "metadata": {
    "application/vnd.databricks.v1+cell": {
     "cellMetadata": {},
     "inputWidgets": {},
     "nuid": "68e1b006-39dc-4448-845c-64d4f70f63f5",
     "showTitle": false,
     "title": ""
    }
   },
   "source": [
    "Approach validation"
   ]
  },
  {
   "cell_type": "code",
   "execution_count": null,
   "metadata": {
    "application/vnd.databricks.v1+cell": {
     "cellMetadata": {
      "byteLimit": 2048000,
      "rowLimit": 10000
     },
     "inputWidgets": {},
     "nuid": "0e146f68-73e8-4032-be55-0f310100ee79",
     "showTitle": false,
     "title": ""
    }
   },
   "outputs": [
    {
     "name": "stdout",
     "output_type": "stream",
     "text": [
      "+------------+\n",
      "|     pc_name|\n",
      "+------------+\n",
      "|     bhongir|\n",
      "|   nizamabad|\n",
      "|nagarkurnool|\n",
      "|  peddapalle|\n",
      "| mahbubnagar|\n",
      "|   hyderabad|\n",
      "|    nalgonda|\n",
      "|  malkajgiri|\n",
      "|   zahirabad|\n",
      "|    warangal|\n",
      "|  karimnagar|\n",
      "|       medak|\n",
      "|    adilabad|\n",
      "| mahabubabad|\n",
      "|     khammam|\n",
      "| secundrabad|\n",
      "+------------+\n",
      "\n"
     ]
    }
   ],
   "source": [
    "raw_2014_results_df.filter(col(\"state\")==\"telangana\").groupBy(\"pc_name\").agg(count(\"*\"))\\\n",
    ".select(col(\"pc_name\")).show()\n"
   ]
  },
  {
   "cell_type": "code",
   "execution_count": null,
   "metadata": {
    "application/vnd.databricks.v1+cell": {
     "cellMetadata": {
      "byteLimit": 2048000,
      "rowLimit": 10000
     },
     "inputWidgets": {},
     "nuid": "6005d0a6-09ac-405a-badd-0556508617cc",
     "showTitle": false,
     "title": ""
    }
   },
   "outputs": [
    {
     "name": "stdout",
     "output_type": "stream",
     "text": [
      "+---------+----------+--------------------+----+----+--------+-----+--------------+-------------+------------+-----------+--------------+\n",
      "|    state|   pc_name|           candidate| sex| age|category|party|  party_symbol|general_votes|postal_votes|total_votes|total_electors|\n",
      "+---------+----------+--------------------+----+----+--------+-----+--------------+-------------+------------+-----------+--------------+\n",
      "|telangana|  adilabad|        godam nagesh|   m|49.0|      st|  trs|           car|       425762|        5085|     430847|       1386282|\n",
      "|telangana|  adilabad|              naresh|   m|37.0|      st|  inc|          hand|       257994|        1563|     259557|       1386282|\n",
      "|telangana|  adilabad|       ramesh rathod|   m|48.0|      st|  tdp|       bicycle|       182879|        1319|     184198|       1386282|\n",
      "|telangana|  adilabad|     rathod sadashiv|   m|55.0|      st|  bsp|      elephant|        94363|          57|      94420|       1386282|\n",
      "|telangana|  adilabad|    nethawath ramdas|   m|44.0|      st|  ind|auto- rickshaw|        41028|           4|      41032|       1386282|\n",
      "|telangana|  adilabad|       pawar krishna|   m|33.0|      st|  ind|           bat|         5051|           4|       5055|       1386282|\n",
      "|telangana|  adilabad|       banka sahadev|   m|53.0|      st|  ind|  gas cylinder|         4780|           7|       4787|       1386282|\n",
      "|telangana|  adilabad|    mosali chinnaiah|   m|40.0|      st|  ind|       almirah|         8842|          17|       8859|       1386282|\n",
      "|telangana|  adilabad|   none of the above|NULL|NULL|    NULL| nota|          nota|        17021|          63|      17084|       1386282|\n",
      "|telangana|peddapalle|dr.janapati sarat...|   m|42.0|      sc|  tdp|       bicycle|        63174|         160|      63334|       1425355|\n",
      "|telangana|peddapalle| tagaram shankar lal|   m|37.0|      sc|  bsp|      elephant|         9430|          19|       9449|       1425355|\n",
      "|telangana|peddapalle|         balka suman|   m|31.0|      sc|  trs|           car|       563214|        2282|     565496|       1425355|\n",
      "|telangana|peddapalle|       g. vivekanand|   m|56.0|      sc|  inc|          hand|       273441|         897|     274338|       1425355|\n",
      "|telangana|peddapalle|     kalvala shankar|   m|44.0|      sc| ppoi|    television|         9288|           2|       9290|       1425355|\n",
      "|telangana|peddapalle|     kalvala sanjeev|   m|37.0|      sc|  rpi|sewing machine|         8609|           0|       8609|       1425355|\n",
      "|telangana|peddapalle|botha venkata mal...|   m|58.0|      sc| bcuf|      chappals|         2245|           0|       2245|       1425355|\n",
      "|telangana|peddapalle|           j.v. raju|   m|50.0|      sc|  nip|  cup & saucer|         3020|           0|       3020|       1425355|\n",
      "|telangana|peddapalle| venkata swamy injam|   m|42.0|      sc| masp|          ring|         3861|           5|       3866|       1425355|\n",
      "|telangana|peddapalle|   velthuru mallaiah|   m|57.0|      sc|rp(k)|auto- rickshaw|        45976|           1|      45977|       1425355|\n",
      "|telangana|peddapalle|    kamilla jaya rao|   m|43.0|      sc|  ind|      scissors|         2741|           1|       2742|       1425355|\n",
      "+---------+----------+--------------------+----+----+--------+-----+--------------+-------------+------------+-----------+--------------+\n",
      "only showing top 20 rows\n",
      "\n"
     ]
    }
   ],
   "source": [
    "raw_2014_results_df.filter(col(\"state\")==\"telangana\").show()"
   ]
  },
  {
   "cell_type": "markdown",
   "metadata": {
    "application/vnd.databricks.v1+cell": {
     "cellMetadata": {},
     "inputWidgets": {},
     "nuid": "3a20826b-de77-4fc2-976b-06b3c14a7c69",
     "showTitle": false,
     "title": ""
    }
   },
   "source": [
    "##Data Transformation"
   ]
  },
  {
   "cell_type": "markdown",
   "metadata": {
    "application/vnd.databricks.v1+cell": {
     "cellMetadata": {},
     "inputWidgets": {},
     "nuid": "6f2d7020-8437-4861-ba79-1d19e7915ad5",
     "showTitle": false,
     "title": ""
    }
   },
   "source": [
    "  dim_states creation \n",
    "- state_id (Primary Key)\n",
    "- state_name (String)\n",
    "- abbreviation (String)"
   ]
  },
  {
   "cell_type": "code",
   "execution_count": null,
   "metadata": {
    "application/vnd.databricks.v1+cell": {
     "cellMetadata": {
      "byteLimit": 2048000,
      "rowLimit": 10000
     },
     "inputWidgets": {},
     "nuid": "423a2d96-0e26-4019-8bdd-62f613ec630e",
     "showTitle": false,
     "title": ""
    }
   },
   "outputs": [
    {
     "name": "stdout",
     "output_type": "stream",
     "text": [
      "root\n",
      " |-- state_name: string (nullable = true)\n",
      " |-- abbreviation: string (nullable = true)\n",
      "\n"
     ]
    }
   ],
   "source": [
    "dim_states_df.printSchema()"
   ]
  },
  {
   "cell_type": "code",
   "execution_count": null,
   "metadata": {
    "application/vnd.databricks.v1+cell": {
     "cellMetadata": {
      "byteLimit": 2048000,
      "rowLimit": 10000
     },
     "inputWidgets": {},
     "nuid": "84497550-5199-48d0-8a46-57f5f1400426",
     "showTitle": false,
     "title": ""
    }
   },
   "outputs": [
    {
     "data": {
      "text/plain": [
       "36"
      ]
     },
     "execution_count": 261,
     "metadata": {},
     "output_type": "execute_result"
    }
   ],
   "source": [
    "dim_states_df.count()"
   ]
  },
  {
   "cell_type": "code",
   "execution_count": null,
   "metadata": {
    "application/vnd.databricks.v1+cell": {
     "cellMetadata": {
      "byteLimit": 2048000,
      "rowLimit": 10000
     },
     "inputWidgets": {},
     "nuid": "9943a2ff-2c38-4f59-802c-b98217fde9e4",
     "showTitle": false,
     "title": ""
    }
   },
   "outputs": [],
   "source": [
    "window_spec = Window.partitionBy().orderBy(\"state_name\")\n",
    "dim_states_with_id_df = dim_states_df.withColumn(\"state_id\", row_number().over(window_spec))"
   ]
  },
  {
   "cell_type": "code",
   "execution_count": null,
   "metadata": {
    "application/vnd.databricks.v1+cell": {
     "cellMetadata": {
      "byteLimit": 2048000,
      "rowLimit": 10000
     },
     "inputWidgets": {},
     "nuid": "2c905922-a90b-4b64-9fc1-a5715c16b9b2",
     "showTitle": false,
     "title": ""
    }
   },
   "outputs": [],
   "source": [
    "dim_states_transformed_df = dim_states_with_id_df.select(\"state_id\", \"state_name\", \"abbreviation\")"
   ]
  },
  {
   "cell_type": "code",
   "execution_count": null,
   "metadata": {
    "application/vnd.databricks.v1+cell": {
     "cellMetadata": {
      "byteLimit": 2048000,
      "rowLimit": 10000
     },
     "inputWidgets": {},
     "nuid": "4a1700e0-592e-41d9-811b-7d6b2bcdf39e",
     "showTitle": false,
     "title": ""
    }
   },
   "outputs": [
    {
     "name": "stdout",
     "output_type": "stream",
     "text": [
      "+--------+--------------------+------------+\n",
      "|state_id|          state_name|abbreviation|\n",
      "+--------+--------------------+------------+\n",
      "|       1|andaman & nicobar...|          an|\n",
      "|       2|      andhra pradesh|          ap|\n",
      "|       3|   arunachal pradesh|          ar|\n",
      "|       4|               assam|          as|\n",
      "|       5|               bihar|          br|\n",
      "|       6|          chandigarh|          ch|\n",
      "|       7|        chhattisgarh|          ct|\n",
      "|       8|dadra & nagar haveli|          dn|\n",
      "|       9|         daman & diu|          dd|\n",
      "|      10|                 goa|          ga|\n",
      "|      11|             gujarat|          gj|\n",
      "|      12|             haryana|          hr|\n",
      "|      13|    himachal pradesh|          hp|\n",
      "|      14|     jammu & kashmir|          jk|\n",
      "|      15|           jharkhand|          jh|\n",
      "|      16|           karnataka|          ka|\n",
      "|      17|              kerala|          kl|\n",
      "|      18|         lakshadweep|          ld|\n",
      "|      19|      madhya pradesh|          mp|\n",
      "|      20|         maharashtra|          mh|\n",
      "|      21|             manipur|          mn|\n",
      "|      22|           meghalaya|          ml|\n",
      "|      23|             mizoram|          mz|\n",
      "|      24|            nagaland|          nl|\n",
      "|      25|        nct of delhi|          dl|\n",
      "|      26|              odisha|          or|\n",
      "|      27|          puducherry|          py|\n",
      "|      28|              punjab|          pb|\n",
      "|      29|           rajasthan|          rj|\n",
      "|      30|              sikkim|          sk|\n",
      "|      31|          tamil nadu|          tn|\n",
      "|      32|           telangana|          tg|\n",
      "|      33|             tripura|          tr|\n",
      "|      34|       uttar pradesh|          up|\n",
      "|      35|         uttarakhand|          ut|\n",
      "|      36|         west bengal|          wb|\n",
      "+--------+--------------------+------------+\n",
      "\n"
     ]
    }
   ],
   "source": [
    "dim_states_transformed_df.show(36)"
   ]
  },
  {
   "cell_type": "code",
   "execution_count": null,
   "metadata": {
    "application/vnd.databricks.v1+cell": {
     "cellMetadata": {
      "byteLimit": 2048000,
      "rowLimit": 10000
     },
     "inputWidgets": {},
     "nuid": "47ab8eae-31fa-49d8-9455-7a10784f33bc",
     "showTitle": false,
     "title": ""
    }
   },
   "outputs": [],
   "source": [
    "dim_states_transformed_df.write.format(\"csv\") \\\n",
    ".option(\"header\", \"true\") \\\n",
    ".option(\"path\", \"dbfs:/mnt/dim-electiondata/dimension-tables/dim_states\") \\\n",
    ".save()"
   ]
  },
  {
   "cell_type": "code",
   "execution_count": null,
   "metadata": {
    "application/vnd.databricks.v1+cell": {
     "cellMetadata": {
      "byteLimit": 2048000,
      "rowLimit": 10000
     },
     "inputWidgets": {},
     "nuid": "0393a82c-a591-4b1e-a61f-aa14527a71f4",
     "showTitle": false,
     "title": ""
    }
   },
   "outputs": [
    {
     "data": {
      "text/plain": [
       "[FileInfo(path='dbfs:/mnt/dim-electiondata/dimension-tables/dim_states/_SUCCESS', name='_SUCCESS', size=0, modificationTime=1717582306000),\n",
       " FileInfo(path='dbfs:/mnt/dim-electiondata/dimension-tables/dim_states/_committed_2841320491649554479', name='_committed_2841320491649554479', size=113, modificationTime=1717582306000),\n",
       " FileInfo(path='dbfs:/mnt/dim-electiondata/dimension-tables/dim_states/_started_2841320491649554479', name='_started_2841320491649554479', size=0, modificationTime=1717582306000),\n",
       " FileInfo(path='dbfs:/mnt/dim-electiondata/dimension-tables/dim_states/part-00000-tid-2841320491649554479-1c11fdd8-1834-4b27-b752-e581e1650487-245-1-c000.csv', name='part-00000-tid-2841320491649554479-1c11fdd8-1834-4b27-b752-e581e1650487-245-1-c000.csv', size=644, modificationTime=1717582306000)]"
      ]
     },
     "execution_count": 265,
     "metadata": {},
     "output_type": "execute_result"
    }
   ],
   "source": [
    "dbutils.fs.ls(\"dbfs:/mnt/dim-electiondata/dimension-tables/dim_states\")"
   ]
  },
  {
   "cell_type": "code",
   "execution_count": null,
   "metadata": {
    "application/vnd.databricks.v1+cell": {
     "cellMetadata": {
      "byteLimit": 2048000,
      "rowLimit": 10000
     },
     "inputWidgets": {},
     "nuid": "295a0f56-b605-4fa5-ba90-0b09bdc542b1",
     "showTitle": false,
     "title": ""
    }
   },
   "outputs": [
    {
     "name": "stdout",
     "output_type": "stream",
     "text": [
      "root\n",
      " |-- state: string (nullable = true)\n",
      " |-- pc_name: string (nullable = true)\n",
      " |-- candidate: string (nullable = true)\n",
      " |-- sex: string (nullable = true)\n",
      " |-- age: string (nullable = true)\n",
      " |-- category: string (nullable = true)\n",
      " |-- party: string (nullable = true)\n",
      " |-- party_symbol: string (nullable = true)\n",
      " |-- general_votes: string (nullable = true)\n",
      " |-- postal_votes: string (nullable = true)\n",
      " |-- total_votes: string (nullable = true)\n",
      " |-- total_electors: string (nullable = true)\n",
      "\n"
     ]
    }
   ],
   "source": [
    "raw_2014_results_df.printSchema()"
   ]
  },
  {
   "cell_type": "markdown",
   "metadata": {
    "application/vnd.databricks.v1+cell": {
     "cellMetadata": {},
     "inputWidgets": {},
     "nuid": "9a787758-0515-48fa-ba35-e8b274880313",
     "showTitle": false,
     "title": ""
    }
   },
   "source": [
    "**All data types are string which is not correct hence casting appropriate data**"
   ]
  },
  {
   "cell_type": "code",
   "execution_count": null,
   "metadata": {
    "application/vnd.databricks.v1+cell": {
     "cellMetadata": {
      "byteLimit": 2048000,
      "rowLimit": 10000
     },
     "inputWidgets": {},
     "nuid": "b0c7abca-97ed-417a-8f44-8ad303709ae8",
     "showTitle": false,
     "title": ""
    }
   },
   "outputs": [],
   "source": [
    "transformed_2014_data_df = raw_2014_results_df.withColumn(\"age\", col(\"age\").cast(\"integer\")) \\\n",
    "                                         .withColumn(\"general_votes\", col(\"general_votes\").cast(\"long\")) \\\n",
    "                                         .withColumn(\"postal_votes\", col(\"postal_votes\").cast(\"long\")) \\\n",
    "                                         .withColumn(\"total_votes\", col(\"total_votes\").cast(\"long\")) \\\n",
    "                                         .withColumn(\"total_electors\", col(\"total_electors\").cast(\"long\"))"
   ]
  },
  {
   "cell_type": "code",
   "execution_count": null,
   "metadata": {
    "application/vnd.databricks.v1+cell": {
     "cellMetadata": {
      "byteLimit": 2048000,
      "rowLimit": 10000
     },
     "inputWidgets": {},
     "nuid": "2625ef3c-5a3f-4979-b66a-7286b473dae5",
     "showTitle": false,
     "title": ""
    }
   },
   "outputs": [
    {
     "name": "stdout",
     "output_type": "stream",
     "text": [
      "root\n",
      " |-- state: string (nullable = true)\n",
      " |-- pc_name: string (nullable = true)\n",
      " |-- candidate: string (nullable = true)\n",
      " |-- sex: string (nullable = true)\n",
      " |-- age: integer (nullable = true)\n",
      " |-- category: string (nullable = true)\n",
      " |-- party: string (nullable = true)\n",
      " |-- party_symbol: string (nullable = true)\n",
      " |-- general_votes: long (nullable = true)\n",
      " |-- postal_votes: long (nullable = true)\n",
      " |-- total_votes: long (nullable = true)\n",
      " |-- total_electors: long (nullable = true)\n",
      "\n"
     ]
    }
   ],
   "source": [
    "transformed_2014_data_df.printSchema()"
   ]
  },
  {
   "cell_type": "markdown",
   "metadata": {
    "application/vnd.databricks.v1+cell": {
     "cellMetadata": {},
     "inputWidgets": {},
     "nuid": "b63fa3e3-205a-4f61-be64-df10b5fee02c",
     "showTitle": false,
     "title": ""
    }
   },
   "source": [
    "**doing the same thing for 2019 data**"
   ]
  },
  {
   "cell_type": "code",
   "execution_count": null,
   "metadata": {
    "application/vnd.databricks.v1+cell": {
     "cellMetadata": {
      "byteLimit": 2048000,
      "rowLimit": 10000
     },
     "inputWidgets": {},
     "nuid": "e3fcc455-399d-4038-a788-3ec905391a39",
     "showTitle": false,
     "title": ""
    }
   },
   "outputs": [],
   "source": [
    "transformed_2019_data_df = raw_2019_results_df.withColumn(\"age\", col(\"age\").cast(\"integer\")) \\\n",
    "                                         .withColumn(\"general_votes\", col(\"general_votes\").cast(\"long\")) \\\n",
    "                                         .withColumn(\"postal_votes\", col(\"postal_votes\").cast(\"long\")) \\\n",
    "                                         .withColumn(\"total_votes\", col(\"total_votes\").cast(\"long\")) \\\n",
    "                                         .withColumn(\"total_electors\", col(\"total_electors\").cast(\"long\"))"
   ]
  },
  {
   "cell_type": "code",
   "execution_count": null,
   "metadata": {
    "application/vnd.databricks.v1+cell": {
     "cellMetadata": {
      "byteLimit": 2048000,
      "rowLimit": 10000
     },
     "inputWidgets": {},
     "nuid": "cf3ff0f8-3dfc-4bf7-b4ec-4e57dccab1b7",
     "showTitle": false,
     "title": ""
    }
   },
   "outputs": [
    {
     "name": "stdout",
     "output_type": "stream",
     "text": [
      "root\n",
      " |-- state: string (nullable = true)\n",
      " |-- pc_name: string (nullable = true)\n",
      " |-- candidate: string (nullable = true)\n",
      " |-- sex: string (nullable = true)\n",
      " |-- age: integer (nullable = true)\n",
      " |-- category: string (nullable = true)\n",
      " |-- party: string (nullable = true)\n",
      " |-- party_symbol: string (nullable = true)\n",
      " |-- general_votes: long (nullable = true)\n",
      " |-- postal_votes: long (nullable = true)\n",
      " |-- total_votes: long (nullable = true)\n",
      " |-- total_electors: long (nullable = true)\n",
      "\n"
     ]
    }
   ],
   "source": [
    "transformed_2019_data_df.printSchema()"
   ]
  },
  {
   "cell_type": "code",
   "execution_count": null,
   "metadata": {
    "application/vnd.databricks.v1+cell": {
     "cellMetadata": {},
     "inputWidgets": {},
     "nuid": "737569c1-cb88-4351-9a75-3db64001d2bc",
     "showTitle": false,
     "title": ""
    }
   },
   "outputs": [
    {
     "data": {
      "text/html": [
       "<style scoped>\n",
       "  .ansiout {\n",
       "    display: block;\n",
       "    unicode-bidi: embed;\n",
       "    white-space: pre-wrap;\n",
       "    word-wrap: break-word;\n",
       "    word-break: break-all;\n",
       "    font-family: \"Menlo\", \"Monaco\", \"Consolas\", \"Ubuntu Mono\", \"Source Code Pro\", monospace;\n",
       "    font-size: 13px;\n",
       "    color: #555;\n",
       "    margin-left: 4px;\n",
       "    line-height: 19px;\n",
       "  }\n",
       "</style>\n",
       "<div class=\"ansiout\">Mounts successfully refreshed.\n",
       "res6: Boolean = true\n",
       "</div>"
      ]
     },
     "metadata": {
      "application/vnd.databricks.v1+output": {
       "addedWidgets": {},
       "arguments": {},
       "data": "<div class=\"ansiout\">Mounts successfully refreshed.\nres6: Boolean = true\n</div>",
       "datasetInfos": [],
       "metadata": {
        "isDbfsCommandResult": false
       },
       "removedWidgets": [],
       "type": "html"
      }
     },
     "output_type": "display_data"
    }
   ],
   "source": [
    "%fs refreshMounts"
   ]
  },
  {
   "cell_type": "markdown",
   "metadata": {
    "application/vnd.databricks.v1+cell": {
     "cellMetadata": {},
     "inputWidgets": {},
     "nuid": "5d71f8c4-f8d9-4def-8495-3e80292826c4",
     "showTitle": false,
     "title": ""
    }
   },
   "source": [
    "Upon looking up data in excel\n",
    "\n",
    "**Problem** :- \n",
    "\n",
    "the electorate has pressed None of above (NOTA) for the party \n",
    "In our dataset row party value is recorded as Nota , candidate value as None of Above or in some data points as NOTA , sex value is empty , age value is empty , category value is empty \n",
    "party_symbol is empty \n",
    "\n"
   ]
  },
  {
   "cell_type": "code",
   "execution_count": null,
   "metadata": {
    "application/vnd.databricks.v1+cell": {
     "cellMetadata": {
      "byteLimit": 2048000,
      "rowLimit": 10000
     },
     "inputWidgets": {},
     "nuid": "076bccde-2a1d-4097-a836-a81c03262239",
     "showTitle": false,
     "title": ""
    }
   },
   "outputs": [],
   "source": [
    "#Normalize NOTA values and fill missing values for NOTA rows \n",
    "\n",
    "def normalize_nota_values(df):\n",
    "    df = df.withColumn(\n",
    "        \"candidate\", \n",
    "        when(col(\"candidate\").isin([\"none of the above\", \"nota\"]), \"nota\").otherwise(col(\"candidate\"))\n",
    "    ).withColumn(\n",
    "        \"sex\", \n",
    "        when(col(\"candidate\") == \"nota\", lit(\"na\")).otherwise(col(\"sex\"))\n",
    "    ).withColumn(\n",
    "        \"age\", \n",
    "        when(col(\"candidate\") == \"nota\", lit(-1)).otherwise(col(\"age\"))\n",
    "    ).withColumn(\n",
    "        \"category\", \n",
    "        when(col(\"candidate\") == \"nota\", lit(\"na\")).otherwise(col(\"category\"))\n",
    "    ).withColumn(\n",
    "        \"party_symbol\", \n",
    "        when(col(\"candidate\") == \"nota\", lit(\"na\")).otherwise(col(\"party_symbol\"))\n",
    "    )\n",
    "    return df \n",
    "\n",
    "transformed_2014_data_df = normalize_nota_values(transformed_2014_data_df) \n",
    "transformed_2019_data_df = normalize_nota_values(transformed_2019_data_df) \n"
   ]
  },
  {
   "cell_type": "code",
   "execution_count": null,
   "metadata": {
    "application/vnd.databricks.v1+cell": {
     "cellMetadata": {
      "byteLimit": 2048000,
      "rowLimit": 10000
     },
     "inputWidgets": {},
     "nuid": "cbb45561-11c6-4b7b-8bc6-7d9b42c11aee",
     "showTitle": false,
     "title": ""
    }
   },
   "outputs": [
    {
     "name": "stdout",
     "output_type": "stream",
     "text": [
      "+---------+---+---+--------+\n",
      "|candidate|sex|age|category|\n",
      "+---------+---+---+--------+\n",
      "+---------+---+---+--------+\n",
      "\n"
     ]
    }
   ],
   "source": [
    "transformed_2014_data_df.select(\"candidate\", \"sex\", \"age\", \"category\").filter(\n",
    "    (col(\"candidate\").isNull()) |\n",
    "    (col(\"sex\").isNull()) |\n",
    "    (col(\"age\").isNull()) |\n",
    "    (col(\"category\").isNull())\n",
    ").show()"
   ]
  },
  {
   "cell_type": "code",
   "execution_count": null,
   "metadata": {
    "application/vnd.databricks.v1+cell": {
     "cellMetadata": {
      "byteLimit": 2048000,
      "rowLimit": 10000
     },
     "inputWidgets": {},
     "nuid": "1cc54a47-ae67-4aaa-b634-ee96797ee74a",
     "showTitle": false,
     "title": ""
    }
   },
   "outputs": [
    {
     "name": "stdout",
     "output_type": "stream",
     "text": [
      "+---------+---+---+--------+\n",
      "|candidate|sex|age|category|\n",
      "+---------+---+---+--------+\n",
      "|     nota| na| -1|      na|\n",
      "|     nota| na| -1|      na|\n",
      "|     nota| na| -1|      na|\n",
      "|     nota| na| -1|      na|\n",
      "|     nota| na| -1|      na|\n",
      "|     nota| na| -1|      na|\n",
      "|     nota| na| -1|      na|\n",
      "|     nota| na| -1|      na|\n",
      "|     nota| na| -1|      na|\n",
      "|     nota| na| -1|      na|\n",
      "|     nota| na| -1|      na|\n",
      "|     nota| na| -1|      na|\n",
      "|     nota| na| -1|      na|\n",
      "|     nota| na| -1|      na|\n",
      "|     nota| na| -1|      na|\n",
      "|     nota| na| -1|      na|\n",
      "|     nota| na| -1|      na|\n",
      "|     nota| na| -1|      na|\n",
      "|     nota| na| -1|      na|\n",
      "|     nota| na| -1|      na|\n",
      "+---------+---+---+--------+\n",
      "only showing top 20 rows\n",
      "\n"
     ]
    }
   ],
   "source": [
    "transformed_2014_data_df.select(\"candidate\", \"sex\", \"age\", \"category\").filter(col(\"candidate\")==\"nota\").show()"
   ]
  },
  {
   "cell_type": "code",
   "execution_count": null,
   "metadata": {
    "application/vnd.databricks.v1+cell": {
     "cellMetadata": {
      "byteLimit": 2048000,
      "rowLimit": 10000
     },
     "inputWidgets": {},
     "nuid": "d6e029d3-549f-4f0c-af01-6f83d9947649",
     "showTitle": false,
     "title": ""
    }
   },
   "outputs": [
    {
     "name": "stdout",
     "output_type": "stream",
     "text": [
      "+---------+---+---+--------+\n",
      "|candidate|sex|age|category|\n",
      "+---------+---+---+--------+\n",
      "+---------+---+---+--------+\n",
      "\n"
     ]
    }
   ],
   "source": [
    "transformed_2019_data_df.select(\"candidate\", \"sex\", \"age\", \"category\").filter(\n",
    "    (col(\"candidate\").isNull()) |\n",
    "    (col(\"sex\").isNull()) |\n",
    "    (col(\"age\").isNull()) |\n",
    "    (col(\"category\").isNull())\n",
    ").show()"
   ]
  },
  {
   "cell_type": "markdown",
   "metadata": {
    "application/vnd.databricks.v1+cell": {
     "cellMetadata": {},
     "inputWidgets": {},
     "nuid": "ba2c208f-381a-47e9-8de8-7c3c7ef6e9ae",
     "showTitle": false,
     "title": ""
    }
   },
   "source": [
    "**Creating Dimension Tables**"
   ]
  },
  {
   "cell_type": "markdown",
   "metadata": {
    "application/vnd.databricks.v1+cell": {
     "cellMetadata": {},
     "inputWidgets": {},
     "nuid": "04528289-27aa-4354-b1de-be6e74123829",
     "showTitle": false,
     "title": ""
    }
   },
   "source": [
    "**dim_candidate_2014**"
   ]
  },
  {
   "cell_type": "code",
   "execution_count": null,
   "metadata": {
    "application/vnd.databricks.v1+cell": {
     "cellMetadata": {
      "byteLimit": 2048000,
      "rowLimit": 10000
     },
     "inputWidgets": {},
     "nuid": "8e945682-c267-4db6-ade4-196e32a65180",
     "showTitle": false,
     "title": ""
    }
   },
   "outputs": [],
   "source": [
    "\n",
    "candidate_df = transformed_2014_data_df.select(\"candidate\", \"sex\", \"age\", \"category\").distinct()\n",
    "\n",
    "window_spec = Window.partitionBy().orderBy(\"candidate\")\n",
    "\n",
    "dim_candidate_2014 = candidate_df.withColumn(\"candidate_id\", row_number().over(window_spec))\n",
    "\n",
    "dim_candidate_2014 = dim_candidate_2014.select(\"candidate_id\", \"candidate\", \"sex\", \"age\", \"category\")\n"
   ]
  },
  {
   "cell_type": "code",
   "execution_count": null,
   "metadata": {
    "application/vnd.databricks.v1+cell": {
     "cellMetadata": {
      "byteLimit": 2048000,
      "rowLimit": 10000
     },
     "inputWidgets": {},
     "nuid": "3e6a35b7-7187-4d1c-bdbb-f070906c5509",
     "showTitle": false,
     "title": ""
    }
   },
   "outputs": [
    {
     "data": {
      "text/plain": [
       "7829"
      ]
     },
     "execution_count": 695,
     "metadata": {},
     "output_type": "execute_result"
    }
   ],
   "source": [
    "dim_candidate_2014.count()"
   ]
  },
  {
   "cell_type": "code",
   "execution_count": null,
   "metadata": {
    "application/vnd.databricks.v1+cell": {
     "cellMetadata": {
      "byteLimit": 2048000,
      "rowLimit": 10000
     },
     "inputWidgets": {},
     "nuid": "f89c3e56-b109-4134-9b46-89bb0e2da486",
     "showTitle": false,
     "title": ""
    }
   },
   "outputs": [
    {
     "name": "stdout",
     "output_type": "stream",
     "text": [
      "+------------+---------------------------+---+---+--------+\n",
      "|candidate_id|candidate                  |sex|age|category|\n",
      "+------------+---------------------------+---+---+--------+\n",
      "|1           |\"\"\"comando\"\" kamal kishor\" |m  |62 |sc      |\n",
      "|2           |\"\"\"sandeep soni\"\"\"         |m  |36 |gen     |\n",
      "|3           |\"\"\"yogesh nanaji samrite\"\"\"|m  |42 |gen     |\n",
      "|4           |\"ajay shah \"\"makrai\"\"\"     |m  |58 |st      |\n",
      "|5           |\"ashok shukla \"\" senani\"\"\" |m  |43 |gen     |\n",
      "+------------+---------------------------+---+---+--------+\n",
      "only showing top 5 rows\n",
      "\n"
     ]
    }
   ],
   "source": [
    "dim_candidate_2014.show(5,truncate=False)"
   ]
  },
  {
   "cell_type": "code",
   "execution_count": null,
   "metadata": {
    "application/vnd.databricks.v1+cell": {
     "cellMetadata": {
      "byteLimit": 2048000,
      "rowLimit": 10000
     },
     "inputWidgets": {},
     "nuid": "a47e92d0-da42-4b56-9121-6f22208e215e",
     "showTitle": false,
     "title": ""
    }
   },
   "outputs": [
    {
     "name": "stdout",
     "output_type": "stream",
     "text": [
      "root\n",
      " |-- candidate_id: integer (nullable = false)\n",
      " |-- candidate: string (nullable = true)\n",
      " |-- sex: string (nullable = true)\n",
      " |-- age: integer (nullable = true)\n",
      " |-- category: string (nullable = true)\n",
      "\n"
     ]
    }
   ],
   "source": [
    "dim_candidate_2014.printSchema()"
   ]
  },
  {
   "cell_type": "code",
   "execution_count": null,
   "metadata": {
    "application/vnd.databricks.v1+cell": {
     "cellMetadata": {
      "byteLimit": 2048000,
      "rowLimit": 10000
     },
     "inputWidgets": {},
     "nuid": "568226f7-c526-465a-bd35-f1f35b830223",
     "showTitle": false,
     "title": ""
    }
   },
   "outputs": [],
   "source": [
    "dim_candidate_2014.write.format(\"csv\")\\\n",
    ".option(\"header\",\"true\")\\\n",
    ".mode(\"overwrite\")\\\n",
    ".save(\"dbfs:/mnt/dim-electiondata/dimension-tables/dim_candidates_2014\")"
   ]
  },
  {
   "cell_type": "code",
   "execution_count": null,
   "metadata": {
    "application/vnd.databricks.v1+cell": {
     "cellMetadata": {
      "byteLimit": 2048000,
      "rowLimit": 10000
     },
     "inputWidgets": {},
     "nuid": "7122c2f4-f000-4bc9-8b30-588b976b9069",
     "showTitle": false,
     "title": ""
    }
   },
   "outputs": [
    {
     "data": {
      "text/plain": [
       "[FileInfo(path='dbfs:/mnt/dim-electiondata/dimension-tables/dim_candidates_2014/_SUCCESS', name='_SUCCESS', size=0, modificationTime=1717681315000),\n",
       " FileInfo(path='dbfs:/mnt/dim-electiondata/dimension-tables/dim_candidates_2014/_committed_3506348337970583856', name='_committed_3506348337970583856', size=213, modificationTime=1717681315000),\n",
       " FileInfo(path='dbfs:/mnt/dim-electiondata/dimension-tables/dim_candidates_2014/_committed_6499819068117468041', name='_committed_6499819068117468041', size=113, modificationTime=1717586001000),\n",
       " FileInfo(path='dbfs:/mnt/dim-electiondata/dimension-tables/dim_candidates_2014/_committed_vacuum8432399382141231816', name='_committed_vacuum8432399382141231816', size=96, modificationTime=1717681315000),\n",
       " FileInfo(path='dbfs:/mnt/dim-electiondata/dimension-tables/dim_candidates_2014/_started_3506348337970583856', name='_started_3506348337970583856', size=0, modificationTime=1717681315000),\n",
       " FileInfo(path='dbfs:/mnt/dim-electiondata/dimension-tables/dim_candidates_2014/part-00000-tid-3506348337970583856-56ef0fb4-e2f0-40ed-8705-1594b18c59d1-1006-1-c000.csv', name='part-00000-tid-3506348337970583856-56ef0fb4-e2f0-40ed-8705-1594b18c59d1-1006-1-c000.csv', size=245586, modificationTime=1717681315000)]"
      ]
     },
     "execution_count": 699,
     "metadata": {},
     "output_type": "execute_result"
    }
   ],
   "source": [
    "dbutils.fs.ls(\"dbfs:/mnt/dim-electiondata/dimension-tables/dim_candidates_2014\")"
   ]
  },
  {
   "cell_type": "markdown",
   "metadata": {
    "application/vnd.databricks.v1+cell": {
     "cellMetadata": {},
     "inputWidgets": {},
     "nuid": "6c829ed8-150c-446f-bbe9-814073064613",
     "showTitle": false,
     "title": ""
    }
   },
   "source": [
    "**dim_candidate_2019**"
   ]
  },
  {
   "cell_type": "code",
   "execution_count": null,
   "metadata": {
    "application/vnd.databricks.v1+cell": {
     "cellMetadata": {
      "byteLimit": 2048000,
      "rowLimit": 10000
     },
     "inputWidgets": {},
     "nuid": "b29187b2-f758-4e4b-800f-3618d1469dd1",
     "showTitle": false,
     "title": ""
    }
   },
   "outputs": [],
   "source": [
    "candidate_df = transformed_2019_data_df.select(\"candidate\", \"sex\", \"age\", \"category\").distinct()\n",
    "\n",
    "window_spec = Window.partitionBy().orderBy(\"candidate\")\n",
    "\n",
    "dim_candidate_2019 = candidate_df.withColumn(\"candidate_id\", row_number().over(window_spec))\n",
    "\n",
    "dim_candidate_2019 = dim_candidate_2019.select(\"candidate_id\", \"candidate\", \"sex\", \"age\", \"category\")"
   ]
  },
  {
   "cell_type": "code",
   "execution_count": null,
   "metadata": {
    "application/vnd.databricks.v1+cell": {
     "cellMetadata": {
      "byteLimit": 2048000,
      "rowLimit": 10000
     },
     "inputWidgets": {},
     "nuid": "f5237f22-6c2d-421f-930e-96ac2f337769",
     "showTitle": false,
     "title": ""
    }
   },
   "outputs": [
    {
     "name": "stdout",
     "output_type": "stream",
     "text": [
      "+------------+--------------------------------+----+---+--------+\n",
      "|candidate_id|candidate                       |sex |age|category|\n",
      "+------------+--------------------------------+----+---+--------+\n",
      "|1           |\"badrilal \"\"akela\"\"\"            |male|43 |sc      |\n",
      "|2           |\"chandra bhadra singh \"\"ssonu\"\"\"|male|43 |general |\n",
      "|3           |\"charan singh \"\"babrik\"\"\"       |male|50 |sc      |\n",
      "|4           |\"deepak kumar \"\"nanhe\"\"\"        |male|32 |sc      |\n",
      "|5           |\"devendra jain \"\" milan\"\"\"      |male|73 |general |\n",
      "+------------+--------------------------------+----+---+--------+\n",
      "only showing top 5 rows\n",
      "\n"
     ]
    }
   ],
   "source": [
    "dim_candidate_2019.show(5,truncate=False)"
   ]
  },
  {
   "cell_type": "code",
   "execution_count": null,
   "metadata": {
    "application/vnd.databricks.v1+cell": {
     "cellMetadata": {
      "byteLimit": 2048000,
      "rowLimit": 10000
     },
     "inputWidgets": {},
     "nuid": "4c5a7d70-78a8-43aa-9aac-805c2da066a2",
     "showTitle": false,
     "title": ""
    }
   },
   "outputs": [
    {
     "data": {
      "text/plain": [
       "8026"
      ]
     },
     "execution_count": 706,
     "metadata": {},
     "output_type": "execute_result"
    }
   ],
   "source": [
    "dim_candidate_2019.count()"
   ]
  },
  {
   "cell_type": "code",
   "execution_count": null,
   "metadata": {
    "application/vnd.databricks.v1+cell": {
     "cellMetadata": {
      "byteLimit": 2048000,
      "rowLimit": 10000
     },
     "inputWidgets": {},
     "nuid": "7a97dd0e-214a-4859-be06-9363bfa3373c",
     "showTitle": false,
     "title": ""
    }
   },
   "outputs": [],
   "source": [
    "dim_candidate_2019.write.format(\"csv\")\\\n",
    ".option(\"header\", \"true\")\\\n",
    ".mode(\"overwrite\")\\\n",
    ".save(\"dbfs:/mnt/dim-electiondata/dimension-tables/dim_candidates_2019\")\n"
   ]
  },
  {
   "cell_type": "code",
   "execution_count": null,
   "metadata": {
    "application/vnd.databricks.v1+cell": {
     "cellMetadata": {
      "byteLimit": 2048000,
      "rowLimit": 10000
     },
     "inputWidgets": {},
     "nuid": "1452cece-9a3e-4ab9-9a56-d79956afd384",
     "showTitle": false,
     "title": ""
    }
   },
   "outputs": [
    {
     "data": {
      "text/plain": [
       "[FileInfo(path='dbfs:/mnt/dim-electiondata/dimension-tables/dim_candidates_2019/_committed_4252852686347576550', name='_committed_4252852686347576550', size=202, modificationTime=1717681382000),\n",
       " FileInfo(path='dbfs:/mnt/dim-electiondata/dimension-tables/dim_candidates_2019/_committed_4271809794576177511', name='_committed_4271809794576177511', size=212, modificationTime=1717670942000),\n",
       " FileInfo(path='dbfs:/mnt/dim-electiondata/dimension-tables/dim_candidates_2019/_started_4252852686347576550', name='_started_4252852686347576550', size=0, modificationTime=1717681382000),\n",
       " FileInfo(path='dbfs:/mnt/dim-electiondata/dimension-tables/dim_candidates_2019/part-00000-tid-4252852686347576550-6dbcf119-fa0f-422c-b7c5-f01a3e603a6b-1020-1-c000.csv', name='part-00000-tid-4252852686347576550-6dbcf119-fa0f-422c-b7c5-f01a3e603a6b-1020-1-c000.csv', size=299399, modificationTime=1717681382000)]"
      ]
     },
     "execution_count": 708,
     "metadata": {},
     "output_type": "execute_result"
    }
   ],
   "source": [
    "dbutils.fs.ls(\"dbfs:/mnt/dim-electiondata/dimension-tables/dim_candidates_2019\")"
   ]
  },
  {
   "cell_type": "markdown",
   "metadata": {
    "application/vnd.databricks.v1+cell": {
     "cellMetadata": {},
     "inputWidgets": {},
     "nuid": "8962e741-cc2b-466f-b60f-f74a022692a5",
     "showTitle": false,
     "title": ""
    }
   },
   "source": [
    "**dim_parties_2014**"
   ]
  },
  {
   "cell_type": "code",
   "execution_count": null,
   "metadata": {
    "application/vnd.databricks.v1+cell": {
     "cellMetadata": {
      "byteLimit": 2048000,
      "rowLimit": 10000
     },
     "inputWidgets": {},
     "nuid": "7f6127a1-f6c3-4d6a-8d89-ff820ec173c4",
     "showTitle": false,
     "title": ""
    }
   },
   "outputs": [],
   "source": [
    "party_df = transformed_2014_data_df.select(\"party\", \"party_symbol\").distinct()\n",
    "\n",
    "windowSpec = Window.orderBy(\"party\")\n",
    "\n",
    "dim_party_2014 = party_df.withColumn(\"party_id\", row_number().over(windowSpec))\n",
    "\n",
    "\n",
    "dim_party_2014 = dim_party_2014.select(\"party_id\", \"party\", \"party_symbol\")"
   ]
  },
  {
   "cell_type": "code",
   "execution_count": null,
   "metadata": {
    "application/vnd.databricks.v1+cell": {
     "cellMetadata": {
      "byteLimit": 2048000,
      "rowLimit": 10000
     },
     "inputWidgets": {},
     "nuid": "c8f634eb-c3da-4983-94fc-af03a079bd4d",
     "showTitle": false,
     "title": ""
    }
   },
   "outputs": [
    {
     "data": {
      "text/plain": [
       "785"
      ]
     },
     "execution_count": 710,
     "metadata": {},
     "output_type": "execute_result"
    }
   ],
   "source": [
    "dim_party_2014.count()"
   ]
  },
  {
   "cell_type": "code",
   "execution_count": null,
   "metadata": {
    "application/vnd.databricks.v1+cell": {
     "cellMetadata": {
      "byteLimit": 2048000,
      "rowLimit": 10000
     },
     "inputWidgets": {},
     "nuid": "41423203-ef2b-4c76-a68b-70d9403c84aa",
     "showTitle": false,
     "title": ""
    }
   },
   "outputs": [],
   "source": [
    "dim_party_2014.write.format(\"csv\")\\\n",
    ".option(\"header\",\"true\")\\\n",
    ".mode(\"overwrite\")\\\n",
    ".save(\"dbfs:/mnt/dim-electiondata/dimension-tables/dim_party_2014\")"
   ]
  },
  {
   "cell_type": "code",
   "execution_count": null,
   "metadata": {
    "application/vnd.databricks.v1+cell": {
     "cellMetadata": {
      "byteLimit": 2048000,
      "rowLimit": 10000
     },
     "inputWidgets": {},
     "nuid": "26502a21-9413-4bb4-8018-55ba57edc476",
     "showTitle": false,
     "title": ""
    }
   },
   "outputs": [
    {
     "data": {
      "text/plain": [
       "[FileInfo(path='dbfs:/mnt/dim-electiondata/dimension-tables/dim_party_2014/_SUCCESS', name='_SUCCESS', size=0, modificationTime=1717681429000),\n",
       " FileInfo(path='dbfs:/mnt/dim-electiondata/dimension-tables/dim_party_2014/_committed_2818562097415332561', name='_committed_2818562097415332561', size=113, modificationTime=1717586985000),\n",
       " FileInfo(path='dbfs:/mnt/dim-electiondata/dimension-tables/dim_party_2014/_committed_3741891464046765812', name='_committed_3741891464046765812', size=213, modificationTime=1717681429000),\n",
       " FileInfo(path='dbfs:/mnt/dim-electiondata/dimension-tables/dim_party_2014/_committed_vacuum369667157037208071', name='_committed_vacuum369667157037208071', size=95, modificationTime=1717681429000),\n",
       " FileInfo(path='dbfs:/mnt/dim-electiondata/dimension-tables/dim_party_2014/_started_3741891464046765812', name='_started_3741891464046765812', size=0, modificationTime=1717681429000),\n",
       " FileInfo(path='dbfs:/mnt/dim-electiondata/dimension-tables/dim_party_2014/part-00000-tid-3741891464046765812-af6eb51e-7ce3-4f35-a003-d91aac37850b-1026-1-c000.csv', name='part-00000-tid-3741891464046765812-af6eb51e-7ce3-4f35-a003-d91aac37850b-1026-1-c000.csv', size=14827, modificationTime=1717681429000)]"
      ]
     },
     "execution_count": 712,
     "metadata": {},
     "output_type": "execute_result"
    }
   ],
   "source": [
    "dbutils.fs.ls(\"dbfs:/mnt/dim-electiondata/dimension-tables/dim_party_2014\")"
   ]
  },
  {
   "cell_type": "markdown",
   "metadata": {
    "application/vnd.databricks.v1+cell": {
     "cellMetadata": {},
     "inputWidgets": {},
     "nuid": "9c3071c9-464c-43b0-98a7-9553a3b259fd",
     "showTitle": false,
     "title": ""
    }
   },
   "source": [
    "**dim_parties_2019**"
   ]
  },
  {
   "cell_type": "code",
   "execution_count": null,
   "metadata": {
    "application/vnd.databricks.v1+cell": {
     "cellMetadata": {
      "byteLimit": 2048000,
      "rowLimit": 10000
     },
     "inputWidgets": {},
     "nuid": "4bdef1f8-2826-492e-8d83-7c8067baf4c5",
     "showTitle": false,
     "title": ""
    }
   },
   "outputs": [
    {
     "data": {
      "text/plain": [
       "DataFrame[party_id: int, party: string, party_symbol: string]"
      ]
     },
     "execution_count": 713,
     "metadata": {},
     "output_type": "execute_result"
    }
   ],
   "source": [
    "window_spec = Window.orderBy(\"party\") \n",
    "\n",
    "party_df = transformed_2019_data_df.select(\"party\",\"party_symbol\").distinct() \n",
    "\n",
    "dim_party_2019 = party_df.withColumn(\"party_id\",row_number().over(window_spec)) \n",
    "\n",
    "dim_party_2019.select(\"party_id\",\"party\",\"party_symbol\")"
   ]
  },
  {
   "cell_type": "code",
   "execution_count": null,
   "metadata": {
    "application/vnd.databricks.v1+cell": {
     "cellMetadata": {
      "byteLimit": 2048000,
      "rowLimit": 10000
     },
     "inputWidgets": {},
     "nuid": "4358e142-20f3-43a6-9008-d1eaa7594a65",
     "showTitle": false,
     "title": ""
    }
   },
   "outputs": [
    {
     "data": {
      "text/plain": [
       "1146"
      ]
     },
     "execution_count": 714,
     "metadata": {},
     "output_type": "execute_result"
    }
   ],
   "source": [
    "dim_party_2019.count()"
   ]
  },
  {
   "cell_type": "code",
   "execution_count": null,
   "metadata": {
    "application/vnd.databricks.v1+cell": {
     "cellMetadata": {
      "byteLimit": 2048000,
      "rowLimit": 10000
     },
     "inputWidgets": {},
     "nuid": "476fa017-f484-4786-9329-a3e420cd8b7e",
     "showTitle": false,
     "title": ""
    }
   },
   "outputs": [
    {
     "name": "stdout",
     "output_type": "stream",
     "text": [
      "+------+--------------------+--------+\n",
      "| party|        party_symbol|party_id|\n",
      "+------+--------------------+--------+\n",
      "|  aaap|               broom|       1|\n",
      "|aabhap|             balloon|       2|\n",
      "|  aacp|             batsman|       3|\n",
      "|aahpty|               apple|       4|\n",
      "|   aam|      chapati roller|       5|\n",
      "|  aapp|       battery torch|       6|\n",
      "|   abd|            neck tie|       7|\n",
      "|  abep|   man blowing turha|       8|\n",
      "|  abgp|                 saw|       9|\n",
      "|  abgp|       battery torch|      10|\n",
      "|  abhm|plate containing ...|      11|\n",
      "|  abhm|      auto- rickshaw|      12|\n",
      "|  abhm|             diamond|      13|\n",
      "|  abhp|           ear rings|      14|\n",
      "|  abhs|        gas cylinder|      15|\n",
      "|  abjs|         ganna kisan|      16|\n",
      "|  abjs|          helicopter|      17|\n",
      "|  abjs|                 key|      18|\n",
      "|  abjs|tractor chalata k...|      19|\n",
      "|  abjs|       battery torch|      20|\n",
      "+------+--------------------+--------+\n",
      "only showing top 20 rows\n",
      "\n"
     ]
    }
   ],
   "source": [
    "dim_party_2019.show()"
   ]
  },
  {
   "cell_type": "code",
   "execution_count": null,
   "metadata": {
    "application/vnd.databricks.v1+cell": {
     "cellMetadata": {
      "byteLimit": 2048000,
      "rowLimit": 10000
     },
     "inputWidgets": {},
     "nuid": "0eaf1fb9-3720-476f-b94c-1f3790bd78e6",
     "showTitle": false,
     "title": ""
    }
   },
   "outputs": [],
   "source": [
    "dim_party_2019.write.format(\"csv\")\\\n",
    ".option(\"header\",\"true\")\\\n",
    ".mode(\"overwrite\")\\\n",
    ".save(\"dbfs:/mnt/dim-electiondata/dimension-tables/dim_party_2019\")"
   ]
  },
  {
   "cell_type": "code",
   "execution_count": null,
   "metadata": {
    "application/vnd.databricks.v1+cell": {
     "cellMetadata": {
      "byteLimit": 2048000,
      "rowLimit": 10000
     },
     "inputWidgets": {},
     "nuid": "9fb3bc43-3ab3-4018-a81c-faf507935431",
     "showTitle": false,
     "title": ""
    }
   },
   "outputs": [
    {
     "data": {
      "text/plain": [
       "[FileInfo(path='dbfs:/mnt/dim-electiondata/dimension-tables/dim_party_2019/_SUCCESS', name='_SUCCESS', size=0, modificationTime=1717681476000),\n",
       " FileInfo(path='dbfs:/mnt/dim-electiondata/dimension-tables/dim_party_2019/_committed_1996756012143222330', name='_committed_1996756012143222330', size=113, modificationTime=1717586907000),\n",
       " FileInfo(path='dbfs:/mnt/dim-electiondata/dimension-tables/dim_party_2019/_committed_2394674530473628009', name='_committed_2394674530473628009', size=213, modificationTime=1717681476000),\n",
       " FileInfo(path='dbfs:/mnt/dim-electiondata/dimension-tables/dim_party_2019/_committed_vacuum3404610880866159259', name='_committed_vacuum3404610880866159259', size=96, modificationTime=1717681476000),\n",
       " FileInfo(path='dbfs:/mnt/dim-electiondata/dimension-tables/dim_party_2019/_started_2394674530473628009', name='_started_2394674530473628009', size=0, modificationTime=1717681475000),\n",
       " FileInfo(path='dbfs:/mnt/dim-electiondata/dimension-tables/dim_party_2019/part-00000-tid-2394674530473628009-a162cc33-e284-4c06-b097-5fe46402d82c-1034-1-c000.csv', name='part-00000-tid-2394674530473628009-a162cc33-e284-4c06-b097-5fe46402d82c-1034-1-c000.csv', size=23065, modificationTime=1717681475000)]"
      ]
     },
     "execution_count": 717,
     "metadata": {},
     "output_type": "execute_result"
    }
   ],
   "source": [
    "dbutils.fs.ls(\"dbfs:/mnt/dim-electiondata/dimension-tables/dim_party_2019\")"
   ]
  },
  {
   "cell_type": "markdown",
   "metadata": {
    "application/vnd.databricks.v1+cell": {
     "cellMetadata": {},
     "inputWidgets": {},
     "nuid": "d0bd4fd3-8e5d-43b0-81f8-d3ecb751ea0c",
     "showTitle": false,
     "title": ""
    }
   },
   "source": [
    "**Load all news formed Dimension tables**"
   ]
  },
  {
   "cell_type": "code",
   "execution_count": null,
   "metadata": {
    "application/vnd.databricks.v1+cell": {
     "cellMetadata": {
      "byteLimit": 2048000,
      "rowLimit": 10000
     },
     "inputWidgets": {},
     "nuid": "c5d98ea8-c4ea-45e8-b283-5efe5ed7f924",
     "showTitle": false,
     "title": ""
    }
   },
   "outputs": [],
   "source": [
    "states_dimension_df = spark.read.format(\"csv\")\\\n",
    ".option(\"header\",\"true\")\\\n",
    ".option(\"inferschema\",\"true\")\\\n",
    ".load(\"dbfs:/mnt/dim-electiondata/dimension-tables/dim_states\")"
   ]
  },
  {
   "cell_type": "code",
   "execution_count": null,
   "metadata": {
    "application/vnd.databricks.v1+cell": {
     "cellMetadata": {
      "byteLimit": 2048000,
      "rowLimit": 10000
     },
     "inputWidgets": {},
     "nuid": "bbf69111-5f52-4f86-8705-24437f7c3e61",
     "showTitle": false,
     "title": ""
    }
   },
   "outputs": [
    {
     "name": "stdout",
     "output_type": "stream",
     "text": [
      "+--------+--------------------+------------+\n",
      "|state_id|          state_name|abbreviation|\n",
      "+--------+--------------------+------------+\n",
      "|       1|andaman & nicobar...|          an|\n",
      "|       2|      andhra pradesh|          ap|\n",
      "+--------+--------------------+------------+\n",
      "only showing top 2 rows\n",
      "\n"
     ]
    }
   ],
   "source": [
    "states_dimension_df.show(2)"
   ]
  },
  {
   "cell_type": "code",
   "execution_count": null,
   "metadata": {
    "application/vnd.databricks.v1+cell": {
     "cellMetadata": {
      "byteLimit": 2048000,
      "rowLimit": 10000
     },
     "inputWidgets": {},
     "nuid": "8de09617-1c3b-4abe-b6c2-c049f1c3eb95",
     "showTitle": false,
     "title": ""
    }
   },
   "outputs": [],
   "source": [
    "candidates_2014_dimension_df = spark.read.format(\"csv\")\\\n",
    ".option(\"header\",\"true\")\\\n",
    ".option(\"inferschema\",\"true\")\\\n",
    ".load(\"dbfs:/mnt/dim-electiondata/dimension-tables/dim_candidates_2014\")"
   ]
  },
  {
   "cell_type": "code",
   "execution_count": null,
   "metadata": {
    "application/vnd.databricks.v1+cell": {
     "cellMetadata": {
      "byteLimit": 2048000,
      "rowLimit": 10000
     },
     "inputWidgets": {},
     "nuid": "ee801fcb-c58e-4ac9-9642-df2f3a3ffd96",
     "showTitle": false,
     "title": ""
    }
   },
   "outputs": [
    {
     "name": "stdout",
     "output_type": "stream",
     "text": [
      "+------------+--------------------+---+---+--------+\n",
      "|candidate_id|           candidate|sex|age|category|\n",
      "+------------+--------------------+---+---+--------+\n",
      "|           1|\"\"\"comando\"\" kama...|  m| 62|      sc|\n",
      "|           2|  \"\"\"sandeep soni\"\"\"|  m| 36|     gen|\n",
      "+------------+--------------------+---+---+--------+\n",
      "only showing top 2 rows\n",
      "\n"
     ]
    }
   ],
   "source": [
    "candidates_2014_dimension_df.show(2)"
   ]
  },
  {
   "cell_type": "code",
   "execution_count": null,
   "metadata": {
    "application/vnd.databricks.v1+cell": {
     "cellMetadata": {
      "byteLimit": 2048000,
      "rowLimit": 10000
     },
     "inputWidgets": {},
     "nuid": "3e92160c-180a-4c97-b8c1-2cc036d8eedf",
     "showTitle": false,
     "title": ""
    }
   },
   "outputs": [],
   "source": [
    "candidates_2019_dimension_df = spark.read.format(\"csv\")\\\n",
    ".option(\"header\",\"true\")\\\n",
    ".option(\"inferschema\",\"true\")\\\n",
    ".load(\"dbfs:/mnt/dim-electiondata/dimension-tables/dim_candidates_2019\")"
   ]
  },
  {
   "cell_type": "code",
   "execution_count": null,
   "metadata": {
    "application/vnd.databricks.v1+cell": {
     "cellMetadata": {
      "byteLimit": 2048000,
      "rowLimit": 10000
     },
     "inputWidgets": {},
     "nuid": "b6684e11-4445-408b-bab0-7f274d5f614e",
     "showTitle": false,
     "title": ""
    }
   },
   "outputs": [
    {
     "name": "stdout",
     "output_type": "stream",
     "text": [
      "+------------+--------------------+----+---+--------+\n",
      "|candidate_id|           candidate| sex|age|category|\n",
      "+------------+--------------------+----+---+--------+\n",
      "|           1|\"badrilal \"\"akela\"\"\"|male| 43|      sc|\n",
      "|           2|\"chandra bhadra s...|male| 43| general|\n",
      "+------------+--------------------+----+---+--------+\n",
      "only showing top 2 rows\n",
      "\n"
     ]
    }
   ],
   "source": [
    "candidates_2019_dimension_df.show(2)"
   ]
  },
  {
   "cell_type": "code",
   "execution_count": null,
   "metadata": {
    "application/vnd.databricks.v1+cell": {
     "cellMetadata": {
      "byteLimit": 2048000,
      "rowLimit": 10000
     },
     "inputWidgets": {},
     "nuid": "f98db034-7310-491b-b18f-dc84c0a3e178",
     "showTitle": false,
     "title": ""
    }
   },
   "outputs": [],
   "source": [
    "parties_2014_dimension_df = spark.read.format(\"csv\")\\\n",
    ".option(\"header\",\"true\")\\\n",
    ".option(\"inferschema\",\"true\")\\\n",
    ".load(\"dbfs:/mnt/dim-electiondata/dimension-tables/dim_party_2014\")"
   ]
  },
  {
   "cell_type": "code",
   "execution_count": null,
   "metadata": {
    "application/vnd.databricks.v1+cell": {
     "cellMetadata": {
      "byteLimit": 2048000,
      "rowLimit": 10000
     },
     "inputWidgets": {},
     "nuid": "613ff3c5-1374-49a2-87d4-44c9107fabe0",
     "showTitle": false,
     "title": ""
    }
   },
   "outputs": [
    {
     "name": "stdout",
     "output_type": "stream",
     "text": [
      "+--------+------+-------------+\n",
      "|party_id| party| party_symbol|\n",
      "+--------+------+-------------+\n",
      "|       1| a s p|walking stick|\n",
      "|       2|aa s p| gas cylinder|\n",
      "+--------+------+-------------+\n",
      "only showing top 2 rows\n",
      "\n"
     ]
    }
   ],
   "source": [
    "parties_2014_dimension_df.show(2)"
   ]
  },
  {
   "cell_type": "code",
   "execution_count": null,
   "metadata": {
    "application/vnd.databricks.v1+cell": {
     "cellMetadata": {
      "byteLimit": 2048000,
      "rowLimit": 10000
     },
     "inputWidgets": {},
     "nuid": "632ede56-fe0c-4920-806f-51fb31757c89",
     "showTitle": false,
     "title": ""
    }
   },
   "outputs": [],
   "source": [
    "parties_2019_dimension_df = spark.read.format(\"csv\")\\\n",
    ".option(\"header\",\"true\")\\\n",
    ".option(\"inferschema\",\"true\")\\\n",
    ".load(\"dbfs:/mnt/dim-electiondata/dimension-tables/dim_party_2019\")"
   ]
  },
  {
   "cell_type": "code",
   "execution_count": null,
   "metadata": {
    "application/vnd.databricks.v1+cell": {
     "cellMetadata": {
      "byteLimit": 2048000,
      "rowLimit": 10000
     },
     "inputWidgets": {},
     "nuid": "61f1f3ce-1734-4f5f-89a8-776362a6ea3d",
     "showTitle": false,
     "title": ""
    }
   },
   "outputs": [
    {
     "name": "stdout",
     "output_type": "stream",
     "text": [
      "+------+------------+--------+\n",
      "| party|party_symbol|party_id|\n",
      "+------+------------+--------+\n",
      "|  aaap|       broom|       1|\n",
      "|aabhap|     balloon|       2|\n",
      "+------+------------+--------+\n",
      "only showing top 2 rows\n",
      "\n"
     ]
    }
   ],
   "source": [
    "parties_2019_dimension_df.show(2)"
   ]
  },
  {
   "cell_type": "markdown",
   "metadata": {
    "application/vnd.databricks.v1+cell": {
     "cellMetadata": {},
     "inputWidgets": {},
     "nuid": "0ab85000-782b-44e9-9c03-cb3c6e8d2607",
     "showTitle": false,
     "title": ""
    }
   },
   "source": [
    "**Creating Fact Tables**"
   ]
  },
  {
   "cell_type": "markdown",
   "metadata": {
    "application/vnd.databricks.v1+cell": {
     "cellMetadata": {},
     "inputWidgets": {},
     "nuid": "48d1dfec-fea5-4407-b50d-2803463a3314",
     "showTitle": false,
     "title": ""
    }
   },
   "source": [
    "**fact_2014**"
   ]
  },
  {
   "cell_type": "code",
   "execution_count": null,
   "metadata": {
    "application/vnd.databricks.v1+cell": {
     "cellMetadata": {
      "byteLimit": 2048000,
      "rowLimit": 10000
     },
     "inputWidgets": {},
     "nuid": "ece84d8b-b6ad-4d87-816e-dc99571592c6",
     "showTitle": false,
     "title": ""
    }
   },
   "outputs": [
    {
     "data": {
      "text/plain": [
       "8355"
      ]
     },
     "execution_count": 728,
     "metadata": {},
     "output_type": "execute_result"
    }
   ],
   "source": [
    "transformed_2014_data_df.count()"
   ]
  },
  {
   "cell_type": "markdown",
   "metadata": {
    "application/vnd.databricks.v1+cell": {
     "cellMetadata": {},
     "inputWidgets": {},
     "nuid": "9a0206d2-45ba-4a6a-9b9a-4976696a2adb",
     "showTitle": false,
     "title": ""
    }
   },
   "source": [
    "join states_dimension_df to get state_id"
   ]
  },
  {
   "cell_type": "markdown",
   "metadata": {
    "application/vnd.databricks.v1+cell": {
     "cellMetadata": {},
     "inputWidgets": {},
     "nuid": "69143f3a-2202-4494-b02e-09207f136984",
     "showTitle": false,
     "title": ""
    }
   },
   "source": [
    "join parties_2014_dimension_df to get party id"
   ]
  },
  {
   "cell_type": "markdown",
   "metadata": {
    "application/vnd.databricks.v1+cell": {
     "cellMetadata": {},
     "inputWidgets": {},
     "nuid": "26aa65cd-2d19-4b74-8e44-5d5c3345d0eb",
     "showTitle": false,
     "title": ""
    }
   },
   "source": [
    "join with candidates_2014_dimension_df to get candidate_id"
   ]
  },
  {
   "cell_type": "code",
   "execution_count": null,
   "metadata": {
    "application/vnd.databricks.v1+cell": {
     "cellMetadata": {
      "byteLimit": 2048000,
      "rowLimit": 10000
     },
     "inputWidgets": {},
     "nuid": "28fb7a72-fcab-45be-8037-de23b0642d45",
     "showTitle": false,
     "title": ""
    }
   },
   "outputs": [],
   "source": [
    "join_with_states_dim_df = transformed_2014_data_df.join(states_dimension_df, \n",
    "                                                transformed_2014_data_df[\"state\"] == states_dimension_df[\"state_name\"], \n",
    "                                                \"inner\").select(transformed_2014_data_df[\"*\"],states_dimension_df[\"state_id\"])"
   ]
  },
  {
   "cell_type": "code",
   "execution_count": null,
   "metadata": {
    "application/vnd.databricks.v1+cell": {
     "cellMetadata": {
      "byteLimit": 2048000,
      "rowLimit": 10000
     },
     "inputWidgets": {},
     "nuid": "a1cf8477-1aea-4b75-b548-f3aeddffdde3",
     "showTitle": false,
     "title": ""
    }
   },
   "outputs": [
    {
     "data": {
      "text/plain": [
       "8355"
      ]
     },
     "execution_count": 733,
     "metadata": {},
     "output_type": "execute_result"
    }
   ],
   "source": [
    "join_with_states_dim_df.count()"
   ]
  },
  {
   "cell_type": "code",
   "execution_count": null,
   "metadata": {
    "application/vnd.databricks.v1+cell": {
     "cellMetadata": {
      "byteLimit": 2048000,
      "rowLimit": 10000
     },
     "inputWidgets": {},
     "nuid": "906f0a85-0d8d-4934-a7a1-db67c01ad0dd",
     "showTitle": false,
     "title": ""
    }
   },
   "outputs": [],
   "source": [
    "join_with_states_party_dim_df = join_with_states_dim_df.join(parties_2014_dimension_df,\n",
    "                             \n",
    "                             (join_with_states_dim_df[\"party\"]==parties_2014_dimension_df[\"party\"]) & \n",
    "\n",
    "                             (join_with_states_dim_df[\"party_symbol\"]==parties_2014_dimension_df[\"party_symbol\"]),\n",
    "                             \n",
    "                             \"inner\").select(parties_2014_dimension_df[\"party_id\"],join_with_states_dim_df[\"*\"])"
   ]
  },
  {
   "cell_type": "code",
   "execution_count": null,
   "metadata": {
    "application/vnd.databricks.v1+cell": {
     "cellMetadata": {
      "byteLimit": 2048000,
      "rowLimit": 10000
     },
     "inputWidgets": {},
     "nuid": "7849ca11-47c4-4276-978e-bbe043485845",
     "showTitle": false,
     "title": ""
    }
   },
   "outputs": [
    {
     "name": "stdout",
     "output_type": "stream",
     "text": [
      "+--------+---------+--------+------------+---+---+--------+-----+------------+-------------+------------+-----------+--------------+--------+\n",
      "|party_id|    state| pc_name|   candidate|sex|age|category|party|party_symbol|general_votes|postal_votes|total_votes|total_electors|state_id|\n",
      "+--------+---------+--------+------------+---+---+--------+-----+------------+-------------+------------+-----------+--------------+--------+\n",
      "|     760|telangana|adilabad|godam nagesh|  m| 49|      st|  trs|         car|       425762|        5085|     430847|       1386282|      32|\n",
      "+--------+---------+--------+------------+---+---+--------+-----+------------+-------------+------------+-----------+--------------+--------+\n",
      "only showing top 1 row\n",
      "\n"
     ]
    }
   ],
   "source": [
    "join_with_states_party_dim_df.show(1)"
   ]
  },
  {
   "cell_type": "code",
   "execution_count": null,
   "metadata": {
    "application/vnd.databricks.v1+cell": {
     "cellMetadata": {
      "byteLimit": 2048000,
      "rowLimit": 10000
     },
     "inputWidgets": {},
     "nuid": "07d63525-407f-4452-bd6f-af24ced0b172",
     "showTitle": false,
     "title": ""
    }
   },
   "outputs": [
    {
     "data": {
      "text/plain": [
       "8355"
      ]
     },
     "execution_count": 737,
     "metadata": {},
     "output_type": "execute_result"
    }
   ],
   "source": [
    "join_with_states_party_dim_df.count()"
   ]
  },
  {
   "cell_type": "code",
   "execution_count": null,
   "metadata": {
    "application/vnd.databricks.v1+cell": {
     "cellMetadata": {
      "byteLimit": 2048000,
      "rowLimit": 10000
     },
     "inputWidgets": {},
     "nuid": "1bb8d20c-def2-4e02-8d43-8bb55be19fb9",
     "showTitle": false,
     "title": ""
    }
   },
   "outputs": [],
   "source": [
    "join_with_candidate_state_party_df = join_with_states_party_dim_df.join(\n",
    "    candidates_2014_dimension_df,\n",
    "    (join_with_states_party_dim_df[\"candidate\"] == candidates_2014_dimension_df[\"candidate\"]) &\n",
    "    (join_with_states_party_dim_df[\"sex\"] == candidates_2014_dimension_df[\"sex\"]) &\n",
    "    (join_with_states_party_dim_df[\"age\"] == candidates_2014_dimension_df[\"age\"]) &\n",
    "    (join_with_states_party_dim_df[\"category\"] == candidates_2014_dimension_df[\"category\"]),\n",
    "    \"inner\"\n",
    ").select(\n",
    "    candidates_2014_dimension_df[\"candidate_id\"].alias(\"candidate_id\"),\n",
    "    join_with_states_party_dim_df[\"*\"]\n",
    ")"
   ]
  },
  {
   "cell_type": "code",
   "execution_count": null,
   "metadata": {
    "application/vnd.databricks.v1+cell": {
     "cellMetadata": {
      "byteLimit": 2048000,
      "rowLimit": 10000
     },
     "inputWidgets": {},
     "nuid": "fe93d538-a4db-42de-823e-79fafb155b4b",
     "showTitle": false,
     "title": ""
    }
   },
   "outputs": [
    {
     "data": {
      "text/plain": [
       "8355"
      ]
     },
     "execution_count": 739,
     "metadata": {},
     "output_type": "execute_result"
    }
   ],
   "source": [
    "join_with_candidate_state_party_df.count()"
   ]
  },
  {
   "cell_type": "code",
   "execution_count": null,
   "metadata": {
    "application/vnd.databricks.v1+cell": {
     "cellMetadata": {
      "byteLimit": 2048000,
      "rowLimit": 10000
     },
     "inputWidgets": {},
     "nuid": "0ced9a28-b17c-4467-a0f4-4a86a768cf6e",
     "showTitle": false,
     "title": ""
    }
   },
   "outputs": [
    {
     "name": "stdout",
     "output_type": "stream",
     "text": [
      "root\n",
      " |-- candidate_id: integer (nullable = true)\n",
      " |-- party_id: integer (nullable = true)\n",
      " |-- state: string (nullable = true)\n",
      " |-- pc_name: string (nullable = true)\n",
      " |-- candidate: string (nullable = true)\n",
      " |-- sex: string (nullable = true)\n",
      " |-- age: integer (nullable = true)\n",
      " |-- category: string (nullable = true)\n",
      " |-- party: string (nullable = true)\n",
      " |-- party_symbol: string (nullable = true)\n",
      " |-- general_votes: long (nullable = true)\n",
      " |-- postal_votes: long (nullable = true)\n",
      " |-- total_votes: long (nullable = true)\n",
      " |-- total_electors: long (nullable = true)\n",
      " |-- state_id: integer (nullable = true)\n",
      "\n"
     ]
    }
   ],
   "source": [
    "join_with_candidate_state_party_df.printSchema()"
   ]
  },
  {
   "cell_type": "code",
   "execution_count": null,
   "metadata": {
    "application/vnd.databricks.v1+cell": {
     "cellMetadata": {
      "byteLimit": 2048000,
      "rowLimit": 10000
     },
     "inputWidgets": {},
     "nuid": "ab4a78b8-ebf2-466d-9cf4-dfce7b6c7c58",
     "showTitle": false,
     "title": ""
    }
   },
   "outputs": [],
   "source": [
    "fact_2014 = join_with_candidate_state_party_df.select(\n",
    "\"state_id\",\n",
    "\"pc_name\",\n",
    "\"candidate_id\",\n",
    "\"party_id\",\n",
    "\"general_votes\",\n",
    "\"postal_votes\",\n",
    "\"total_votes\",\n",
    "\"total_electors\"\n",
    ")"
   ]
  },
  {
   "cell_type": "code",
   "execution_count": null,
   "metadata": {
    "application/vnd.databricks.v1+cell": {
     "cellMetadata": {
      "byteLimit": 2048000,
      "rowLimit": 10000
     },
     "inputWidgets": {},
     "nuid": "9770fd3a-3668-40fc-b188-6c3019228ff0",
     "showTitle": false,
     "title": ""
    }
   },
   "outputs": [
    {
     "name": "stdout",
     "output_type": "stream",
     "text": [
      "+--------+--------+------------+--------+-------------+------------+-----------+--------------+\n",
      "|state_id| pc_name|candidate_id|party_id|general_votes|postal_votes|total_votes|total_electors|\n",
      "+--------+--------+------------+--------+-------------+------------+-----------+--------------+\n",
      "|      32|adilabad|        2263|     760|       425762|        5085|     430847|       1386282|\n",
      "+--------+--------+------------+--------+-------------+------------+-----------+--------------+\n",
      "only showing top 1 row\n",
      "\n"
     ]
    }
   ],
   "source": [
    "fact_2014.show(1)"
   ]
  },
  {
   "cell_type": "code",
   "execution_count": null,
   "metadata": {
    "application/vnd.databricks.v1+cell": {
     "cellMetadata": {},
     "inputWidgets": {},
     "nuid": "cf7395cf-e1ba-4a93-9f4c-855a57957076",
     "showTitle": false,
     "title": ""
    }
   },
   "outputs": [
    {
     "data": {
      "text/plain": [
       "8"
      ]
     },
     "execution_count": 745,
     "metadata": {},
     "output_type": "execute_result"
    }
   ],
   "source": [
    "len(fact_2014.columns)"
   ]
  },
  {
   "cell_type": "code",
   "execution_count": null,
   "metadata": {
    "application/vnd.databricks.v1+cell": {
     "cellMetadata": {
      "byteLimit": 2048000,
      "rowLimit": 10000
     },
     "inputWidgets": {},
     "nuid": "5a5c2cfb-7533-402f-8f89-6a2987dca367",
     "showTitle": false,
     "title": ""
    }
   },
   "outputs": [],
   "source": [
    "fact_2014.write.format(\"csv\")\\\n",
    ".option(\"header\",\"true\")\\\n",
    ".mode(\"overwrite\")\\\n",
    ".save(\"dbfs:/mnt/dim-electiondata/fact-tables/fact_2014\")"
   ]
  },
  {
   "cell_type": "code",
   "execution_count": null,
   "metadata": {
    "application/vnd.databricks.v1+cell": {
     "cellMetadata": {
      "byteLimit": 2048000,
      "rowLimit": 10000
     },
     "inputWidgets": {},
     "nuid": "85d84aed-8e32-4556-8593-7361b964512a",
     "showTitle": false,
     "title": ""
    }
   },
   "outputs": [
    {
     "data": {
      "text/plain": [
       "[FileInfo(path='dbfs:/mnt/dim-electiondata/fact-tables/fact_2014/_SUCCESS', name='_SUCCESS', size=0, modificationTime=1717768732000),\n",
       " FileInfo(path='dbfs:/mnt/dim-electiondata/fact-tables/fact_2014/_committed_5628462581743197371', name='_committed_5628462581743197371', size=114, modificationTime=1717768732000),\n",
       " FileInfo(path='dbfs:/mnt/dim-electiondata/fact-tables/fact_2014/_started_5628462581743197371', name='_started_5628462581743197371', size=0, modificationTime=1717768732000),\n",
       " FileInfo(path='dbfs:/mnt/dim-electiondata/fact-tables/fact_2014/part-00000-tid-5628462581743197371-67e1591e-4185-45a6-ba09-0cdd7c1aafd7-1084-1-c000.csv', name='part-00000-tid-5628462581743197371-67e1591e-4185-45a6-ba09-0cdd7c1aafd7-1084-1-c000.csv', size=355710, modificationTime=1717768732000)]"
      ]
     },
     "execution_count": 749,
     "metadata": {},
     "output_type": "execute_result"
    }
   ],
   "source": [
    "dbutils.fs.ls(\"dbfs:/mnt/dim-electiondata/fact-tables/fact_2014\")"
   ]
  },
  {
   "cell_type": "markdown",
   "metadata": {
    "application/vnd.databricks.v1+cell": {
     "cellMetadata": {},
     "inputWidgets": {},
     "nuid": "68d67c18-72e9-4848-a1a1-3b36da901871",
     "showTitle": false,
     "title": ""
    }
   },
   "source": [
    "**fact_2019**"
   ]
  },
  {
   "cell_type": "code",
   "execution_count": null,
   "metadata": {
    "application/vnd.databricks.v1+cell": {
     "cellMetadata": {
      "byteLimit": 2048000,
      "rowLimit": 10000
     },
     "inputWidgets": {},
     "nuid": "b1c68a60-1355-4a9f-b2f8-03ada8615293",
     "showTitle": false,
     "title": ""
    }
   },
   "outputs": [
    {
     "data": {
      "text/plain": [
       "8597"
      ]
     },
     "execution_count": 759,
     "metadata": {},
     "output_type": "execute_result"
    }
   ],
   "source": [
    "transformed_2019_data_df.count()"
   ]
  },
  {
   "cell_type": "code",
   "execution_count": null,
   "metadata": {
    "application/vnd.databricks.v1+cell": {
     "cellMetadata": {
      "byteLimit": 2048000,
      "rowLimit": 10000
     },
     "inputWidgets": {},
     "nuid": "358c5166-4821-4e33-afdb-58bc089d4c18",
     "showTitle": false,
     "title": ""
    }
   },
   "outputs": [],
   "source": [
    "join_with_states_dim_df = transformed_2019_data_df.join(states_dimension_df, \n",
    "                                                transformed_2019_data_df[\"state\"] == states_dimension_df[\"state_name\"], \n",
    "                                                \"inner\").select(transformed_2019_data_df[\"*\"],states_dimension_df[\"state_id\"])"
   ]
  },
  {
   "cell_type": "code",
   "execution_count": null,
   "metadata": {
    "application/vnd.databricks.v1+cell": {
     "cellMetadata": {
      "byteLimit": 2048000,
      "rowLimit": 10000
     },
     "inputWidgets": {},
     "nuid": "80a30a0f-5a87-4658-be9b-a563d07e2689",
     "showTitle": false,
     "title": ""
    }
   },
   "outputs": [],
   "source": [
    "join_with_states_party_dim_df = join_with_states_dim_df.join(parties_2019_dimension_df,\n",
    "                             \n",
    "                             (join_with_states_dim_df[\"party\"]==parties_2019_dimension_df[\"party\"]) & \n",
    "\n",
    "                             (join_with_states_dim_df[\"party_symbol\"]==parties_2019_dimension_df[\"party_symbol\"]),\n",
    "                             \n",
    "                             \"inner\").select(parties_2019_dimension_df[\"party_id\"],join_with_states_dim_df[\"*\"])"
   ]
  },
  {
   "cell_type": "code",
   "execution_count": null,
   "metadata": {
    "application/vnd.databricks.v1+cell": {
     "cellMetadata": {
      "byteLimit": 2048000,
      "rowLimit": 10000
     },
     "inputWidgets": {},
     "nuid": "000ec962-482d-4ad3-816d-be58780119f0",
     "showTitle": false,
     "title": ""
    }
   },
   "outputs": [],
   "source": [
    "join_with_candidate_state_party_df = join_with_states_party_dim_df.join(\n",
    "    candidates_2019_dimension_df,\n",
    "    (join_with_states_party_dim_df[\"candidate\"] == candidates_2019_dimension_df[\"candidate\"]) &\n",
    "    (join_with_states_party_dim_df[\"sex\"] == candidates_2019_dimension_df[\"sex\"]) &\n",
    "    (join_with_states_party_dim_df[\"age\"] == candidates_2019_dimension_df[\"age\"]) &\n",
    "    (join_with_states_party_dim_df[\"category\"] == candidates_2019_dimension_df[\"category\"]),\n",
    "    \"inner\"\n",
    ").select(\n",
    "    candidates_2019_dimension_df[\"candidate_id\"].alias(\"candidate_id\"),\n",
    "    join_with_states_party_dim_df[\"*\"]\n",
    ")"
   ]
  },
  {
   "cell_type": "code",
   "execution_count": null,
   "metadata": {
    "application/vnd.databricks.v1+cell": {
     "cellMetadata": {
      "byteLimit": 2048000,
      "rowLimit": 10000
     },
     "inputWidgets": {},
     "nuid": "2fda71f0-b702-44d0-b6be-09f34c72337a",
     "showTitle": false,
     "title": ""
    }
   },
   "outputs": [],
   "source": [
    "fact_2019 = join_with_candidate_state_party_df.select(\n",
    "\"state_id\",\n",
    "\"pc_name\",\n",
    "\"candidate_id\",\n",
    "\"party_id\",\n",
    "\"general_votes\",\n",
    "\"postal_votes\",\n",
    "\"total_votes\",\n",
    "\"total_electors\"\n",
    ")"
   ]
  },
  {
   "cell_type": "code",
   "execution_count": null,
   "metadata": {
    "application/vnd.databricks.v1+cell": {
     "cellMetadata": {
      "byteLimit": 2048000,
      "rowLimit": 10000
     },
     "inputWidgets": {},
     "nuid": "27db4338-9c4d-471d-a209-35e973b771d0",
     "showTitle": false,
     "title": ""
    }
   },
   "outputs": [
    {
     "name": "stdout",
     "output_type": "stream",
     "text": [
      "+--------+-------+------------+--------+-------------+------------+-----------+--------------+\n",
      "|state_id|pc_name|candidate_id|party_id|general_votes|postal_votes|total_votes|total_electors|\n",
      "+--------+-------+------------+--------+-------------+------------+-----------+--------------+\n",
      "|       2|  aruku|        3412|    1086|       336163|        1938|     338101|       1451418|\n",
      "+--------+-------+------------+--------+-------------+------------+-----------+--------------+\n",
      "only showing top 1 row\n",
      "\n"
     ]
    }
   ],
   "source": [
    "fact_2019.show(1)"
   ]
  },
  {
   "cell_type": "code",
   "execution_count": null,
   "metadata": {
    "application/vnd.databricks.v1+cell": {
     "cellMetadata": {
      "byteLimit": 2048000,
      "rowLimit": 10000
     },
     "inputWidgets": {},
     "nuid": "5642b89b-cbad-4ad2-86fe-cb0a3af23725",
     "showTitle": false,
     "title": ""
    }
   },
   "outputs": [
    {
     "data": {
      "text/plain": [
       "8597"
      ]
     },
     "execution_count": 763,
     "metadata": {},
     "output_type": "execute_result"
    }
   ],
   "source": [
    "fact_2019.count()"
   ]
  },
  {
   "cell_type": "code",
   "execution_count": null,
   "metadata": {
    "application/vnd.databricks.v1+cell": {
     "cellMetadata": {
      "byteLimit": 2048000,
      "rowLimit": 10000
     },
     "inputWidgets": {},
     "nuid": "53de2a5c-0aee-4454-9dbd-6913b2a4a867",
     "showTitle": false,
     "title": ""
    }
   },
   "outputs": [],
   "source": [
    "fact_2019.write.format(\"csv\")\\\n",
    ".option(\"header\",\"true\")\\\n",
    ".mode(\"overwrite\")\\\n",
    ".save(\"dbfs:/mnt/dim-electiondata/fact-tables/fact_2019\")"
   ]
  },
  {
   "cell_type": "code",
   "execution_count": null,
   "metadata": {
    "application/vnd.databricks.v1+cell": {
     "cellMetadata": {
      "byteLimit": 2048000,
      "rowLimit": 10000
     },
     "inputWidgets": {},
     "nuid": "7b9bca84-7d77-4d40-873b-31aeb873be57",
     "showTitle": false,
     "title": ""
    }
   },
   "outputs": [
    {
     "name": "stdout",
     "output_type": "stream",
     "text": [
      "root\n",
      " |-- state_id: integer (nullable = true)\n",
      " |-- pc_name: string (nullable = true)\n",
      " |-- candidate_id: integer (nullable = true)\n",
      " |-- party_id: integer (nullable = true)\n",
      " |-- general_votes: long (nullable = true)\n",
      " |-- postal_votes: long (nullable = true)\n",
      " |-- total_votes: long (nullable = true)\n",
      " |-- total_electors: long (nullable = true)\n",
      "\n"
     ]
    }
   ],
   "source": [
    "fact_2019.printSchema()"
   ]
  },
  {
   "cell_type": "markdown",
   "metadata": {
    "application/vnd.databricks.v1+cell": {
     "cellMetadata": {},
     "inputWidgets": {},
     "nuid": "af677f90-cc33-4e40-98fe-20e58f7acc87",
     "showTitle": false,
     "title": ""
    }
   },
   "source": [
    "**Load the fact_tables**"
   ]
  },
  {
   "cell_type": "code",
   "execution_count": null,
   "metadata": {
    "application/vnd.databricks.v1+cell": {
     "cellMetadata": {
      "byteLimit": 2048000,
      "rowLimit": 10000
     },
     "inputWidgets": {},
     "nuid": "42089597-2e84-40d9-8dd1-97dcdd610833",
     "showTitle": false,
     "title": ""
    }
   },
   "outputs": [],
   "source": [
    "my_schema = StructType([\n",
    "    StructField(\"state_id\", IntegerType(), True),\n",
    "    StructField(\"pc_name\", StringType(), True),\n",
    "    StructField(\"candidate_id\", IntegerType(), True),\n",
    "    StructField(\"party_id\", IntegerType(), True),\n",
    "    StructField(\"general_votes\", LongType(), True),\n",
    "    StructField(\"postal_votes\", LongType(), True),\n",
    "    StructField(\"total_votes\", LongType(), True),\n",
    "    StructField(\"total_electors\", LongType(), True)\n",
    "])\n",
    "\n",
    "fact_2014_df = spark.read.format(\"csv\")\\\n",
    ".option(\"header\",\"true\")\\\n",
    ".schema(my_schema)\\\n",
    ".load(\"dbfs:/mnt/dim-electiondata/fact-tables/fact_2014\")"
   ]
  },
  {
   "cell_type": "code",
   "execution_count": null,
   "metadata": {
    "application/vnd.databricks.v1+cell": {
     "cellMetadata": {
      "byteLimit": 2048000,
      "rowLimit": 10000
     },
     "inputWidgets": {},
     "nuid": "8be3f43c-5ad2-4db3-84a3-3e526d30989a",
     "showTitle": false,
     "title": ""
    }
   },
   "outputs": [
    {
     "name": "stdout",
     "output_type": "stream",
     "text": [
      "root\n",
      " |-- state_id: integer (nullable = true)\n",
      " |-- pc_name: string (nullable = true)\n",
      " |-- candidate_id: integer (nullable = true)\n",
      " |-- party_id: integer (nullable = true)\n",
      " |-- general_votes: long (nullable = true)\n",
      " |-- postal_votes: long (nullable = true)\n",
      " |-- total_votes: long (nullable = true)\n",
      " |-- total_electors: long (nullable = true)\n",
      "\n"
     ]
    }
   ],
   "source": [
    "fact_2014_df.printSchema()"
   ]
  },
  {
   "cell_type": "code",
   "execution_count": null,
   "metadata": {
    "application/vnd.databricks.v1+cell": {
     "cellMetadata": {
      "byteLimit": 2048000,
      "rowLimit": 10000
     },
     "inputWidgets": {},
     "nuid": "3dda1473-808e-45ac-8912-32d736b9bed4",
     "showTitle": false,
     "title": ""
    }
   },
   "outputs": [],
   "source": [
    "my_schema = StructType([\n",
    "    StructField(\"state_id\", IntegerType(), True),\n",
    "    StructField(\"pc_name\", StringType(), True),\n",
    "    StructField(\"candidate_id\", IntegerType(), True),\n",
    "    StructField(\"party_id\", IntegerType(), True),\n",
    "    StructField(\"general_votes\", LongType(), True),\n",
    "    StructField(\"postal_votes\", LongType(), True),\n",
    "    StructField(\"total_votes\", LongType(), True),\n",
    "    StructField(\"total_electors\", LongType(), True)\n",
    "])\n",
    "\n",
    "fact_2019_df = spark.read.format(\"csv\")\\\n",
    ".option(\"header\",\"true\")\\\n",
    ".schema(my_schema)\\\n",
    ".load(\"dbfs:/mnt/dim-electiondata/fact-tables/fact_2019\")"
   ]
  },
  {
   "cell_type": "code",
   "execution_count": null,
   "metadata": {
    "application/vnd.databricks.v1+cell": {
     "cellMetadata": {
      "byteLimit": 2048000,
      "rowLimit": 10000
     },
     "inputWidgets": {},
     "nuid": "bd55ce5d-e987-4802-b378-96d101030015",
     "showTitle": false,
     "title": ""
    }
   },
   "outputs": [
    {
     "name": "stdout",
     "output_type": "stream",
     "text": [
      "root\n",
      " |-- state_id: integer (nullable = true)\n",
      " |-- pc_name: string (nullable = true)\n",
      " |-- candidate_id: integer (nullable = true)\n",
      " |-- party_id: integer (nullable = true)\n",
      " |-- general_votes: long (nullable = true)\n",
      " |-- postal_votes: long (nullable = true)\n",
      " |-- total_votes: long (nullable = true)\n",
      " |-- total_electors: long (nullable = true)\n",
      "\n"
     ]
    }
   ],
   "source": [
    "fact_2019_df.printSchema()"
   ]
  },
  {
   "cell_type": "markdown",
   "metadata": {
    "application/vnd.databricks.v1+cell": {
     "cellMetadata": {},
     "inputWidgets": {},
     "nuid": "e70fa988-9198-4036-8732-1145881b8e6b",
     "showTitle": false,
     "title": ""
    }
   },
   "source": [
    "prepare spark sql tables"
   ]
  },
  {
   "cell_type": "code",
   "execution_count": null,
   "metadata": {
    "application/vnd.databricks.v1+cell": {
     "cellMetadata": {
      "byteLimit": 2048000,
      "rowLimit": 10000
     },
     "inputWidgets": {},
     "nuid": "1f815a64-473f-4ae0-b636-bbde4c9a8ea2",
     "showTitle": false,
     "title": ""
    }
   },
   "outputs": [],
   "source": [
    "states_dimension_df.createOrReplaceTempView(\"dim_states_table\") \n",
    "\n",
    "#2014\n",
    "\n",
    "parties_2014_dimension_df.createOrReplaceTempView(\"dim_parties_2014_table\") \n",
    "candidates_2014_dimension_df.createOrReplaceTempView(\"dim_candidates_2014_table\") \n",
    "\n",
    "#2019 \n",
    "\n",
    "parties_2019_dimension_df.createOrReplaceTempView(\"dim_parties_2019_table\") \n",
    "candidates_2019_dimension_df.createOrReplaceTempView(\"dim_candidates_2019_table\") \n"
   ]
  },
  {
   "cell_type": "code",
   "execution_count": null,
   "metadata": {
    "application/vnd.databricks.v1+cell": {
     "cellMetadata": {
      "byteLimit": 2048000,
      "rowLimit": 10000
     },
     "inputWidgets": {},
     "nuid": "d14d861f-7000-4dbf-b973-7013f24a8dd1",
     "showTitle": false,
     "title": ""
    }
   },
   "outputs": [],
   "source": [
    "fact_2014_df.createOrReplaceTempView(\"fact_2014_table\") \n",
    "fact_2019_df.createOrReplaceTempView(\"fact_2019_table\") \n"
   ]
  },
  {
   "cell_type": "code",
   "execution_count": null,
   "metadata": {
    "application/vnd.databricks.v1+cell": {
     "cellMetadata": {
      "byteLimit": 2048000,
      "rowLimit": 10000
     },
     "inputWidgets": {},
     "nuid": "52242023-adc9-4988-ad89-5f1dd934eb90",
     "showTitle": false,
     "title": ""
    }
   },
   "outputs": [
    {
     "data": {
      "text/plain": [
       "True"
      ]
     },
     "execution_count": 802,
     "metadata": {},
     "output_type": "execute_result"
    }
   ],
   "source": [
    "# container@storageacc\n",
    "dbutils.fs.mount(\n",
    "    source = \"abfss://analytical-results@myprojects.dfs.core.windows.net\",\n",
    "    mount_point = \"/mnt/analytics/\",\n",
    "    extra_configs = configs\n",
    ")"
   ]
  },
  {
   "cell_type": "markdown",
   "metadata": {
    "application/vnd.databricks.v1+cell": {
     "cellMetadata": {},
     "inputWidgets": {},
     "nuid": "e933b8f5-4d2a-48ce-9c57-bd266c0ee0f9",
     "showTitle": false,
     "title": ""
    }
   },
   "source": [
    "# Primary Analysis"
   ]
  },
  {
   "cell_type": "markdown",
   "metadata": {
    "application/vnd.databricks.v1+cell": {
     "cellMetadata": {},
     "inputWidgets": {},
     "nuid": "c33579e5-1554-47e7-997c-21140a1b43fb",
     "showTitle": false,
     "title": ""
    }
   },
   "source": [
    "# 1.List top 5 / bottom 5 constituencies of 2014 and 2019 in terms of voterturnout ratio\n"
   ]
  },
  {
   "cell_type": "markdown",
   "metadata": {
    "application/vnd.databricks.v1+cell": {
     "cellMetadata": {},
     "inputWidgets": {},
     "nuid": "93676008-0df1-4bda-9c0a-59da75a41ff7",
     "showTitle": false,
     "title": ""
    }
   },
   "source": [
    "**_Voter Turnout Ratio = (Total Votes Cast / Total Electors)× 100%_**"
   ]
  },
  {
   "cell_type": "markdown",
   "metadata": {
    "application/vnd.databricks.v1+cell": {
     "cellMetadata": {},
     "inputWidgets": {},
     "nuid": "8bb41a65-8078-4bf3-b9b8-7e4a894e7e94",
     "showTitle": false,
     "title": ""
    }
   },
   "source": [
    "**top 5 constituencies of 2014 based on voter turnout ratio**"
   ]
  },
  {
   "cell_type": "code",
   "execution_count": null,
   "metadata": {
    "application/vnd.databricks.v1+cell": {
     "cellMetadata": {
      "byteLimit": 2048000,
      "rowLimit": 10000
     },
     "inputWidgets": {},
     "nuid": "804f5834-1e8a-4cc3-b7dc-1f30f9c9e01c",
     "showTitle": false,
     "title": ""
    }
   },
   "outputs": [
    {
     "name": "stdout",
     "output_type": "stream",
     "text": [
      "+-----------------+-------------------+\n",
      "|constituency_name|voter_turnout_ratio|\n",
      "+-----------------+-------------------+\n",
      "|           dhubri|              88.35|\n",
      "|         nagaland|              87.82|\n",
      "|           tamluk|              87.59|\n",
      "|        bishnupur|              86.72|\n",
      "|      lakshadweep|              86.61|\n",
      "+-----------------+-------------------+\n",
      "\n"
     ]
    }
   ],
   "source": [
    "\n",
    "spark.sql(\"\"\"\n",
    "select pc_name as constituency_name ,round((sum(total_votes)/total_electors)*100,2) as voter_turnout_ratio\n",
    "from fact_2014_table \n",
    "group by pc_name,total_electors\n",
    "order by voter_turnout_ratio desc \n",
    "limit 5\n",
    "\"\"\").show()"
   ]
  },
  {
   "cell_type": "code",
   "execution_count": null,
   "metadata": {
    "application/vnd.databricks.v1+cell": {
     "cellMetadata": {
      "byteLimit": 2048000,
      "rowLimit": 10000
     },
     "inputWidgets": {},
     "nuid": "aaa2a1c4-54df-4c05-a613-8d514990a3ef",
     "showTitle": false,
     "title": ""
    }
   },
   "outputs": [
    {
     "name": "stdout",
     "output_type": "stream",
     "text": [
      "+-----------------+-------------------+\n",
      "|constituency_name|voter_turnout_ratio|\n",
      "+-----------------+-------------------+\n",
      "|           dhubri|              88.35|\n",
      "|         nagaland|              87.82|\n",
      "|           tamluk|              87.59|\n",
      "|        bishnupur|              86.72|\n",
      "|      lakshadweep|              86.61|\n",
      "+-----------------+-------------------+\n",
      "\n"
     ]
    }
   ],
   "source": [
    "df = fact_2014_df \\\n",
    "    .groupBy(\"pc_name\", \"total_electors\") \\\n",
    "    .agg(round((sum(\"total_votes\") / col(\"total_electors\")) * 100, 2).alias(\"voter_turnout_ratio\")) \\\n",
    "    .orderBy(col(\"voter_turnout_ratio\").desc()) \\\n",
    "    .limit(5)\n",
    "\n",
    "result_df = df.select(col(\"pc_name\").alias(\"constituency_name\"), \"voter_turnout_ratio\") \n",
    "\n",
    "result_df.show()"
   ]
  },
  {
   "cell_type": "code",
   "execution_count": null,
   "metadata": {
    "application/vnd.databricks.v1+cell": {
     "cellMetadata": {
      "byteLimit": 2048000,
      "rowLimit": 10000
     },
     "inputWidgets": {},
     "nuid": "30b80aa3-7bf6-4d05-83a0-fe65cdff9ada",
     "showTitle": false,
     "title": ""
    }
   },
   "outputs": [],
   "source": [
    "result_df.write.format(\"csv\")\\\n",
    ".option(\"header\",\"true\")\\\n",
    ".mode(\"overwrite\")\\\n",
    ".save(\"dbfs:/mnt/analytics/2014/top_5_constituencies_based_on_voterturnout_ratio\")"
   ]
  },
  {
   "cell_type": "markdown",
   "metadata": {
    "application/vnd.databricks.v1+cell": {
     "cellMetadata": {},
     "inputWidgets": {},
     "nuid": "12c01bac-6bb8-48ce-b7db-efa35677ee02",
     "showTitle": false,
     "title": ""
    }
   },
   "source": [
    "**bottom 5 constituencies of 2014 based on voter turnout ratio**"
   ]
  },
  {
   "cell_type": "code",
   "execution_count": null,
   "metadata": {
    "application/vnd.databricks.v1+cell": {
     "cellMetadata": {
      "byteLimit": 2048000,
      "rowLimit": 10000
     },
     "inputWidgets": {},
     "nuid": "2e9c6570-0377-4995-9703-f883752d6594",
     "showTitle": false,
     "title": ""
    }
   },
   "outputs": [
    {
     "name": "stdout",
     "output_type": "stream",
     "text": [
      "+-----------------+-------------------+\n",
      "|constituency_name|voter_turnout_ratio|\n",
      "+-----------------+-------------------+\n",
      "|         srinagar|              25.86|\n",
      "|         anantnag|              28.84|\n",
      "|        baramulla|              39.13|\n",
      "|           kalyan|              42.88|\n",
      "|      patna sahib|              45.33|\n",
      "+-----------------+-------------------+\n",
      "\n"
     ]
    }
   ],
   "source": [
    "result_df = fact_2014_df \\\n",
    "    .groupBy(\"pc_name\", \"total_electors\") \\\n",
    "    .agg(round((sum(\"total_votes\") / col(\"total_electors\")) * 100, 2).alias(\"voter_turnout_ratio\")) \\\n",
    "    .orderBy(col(\"voter_turnout_ratio\").asc()) \\\n",
    "    .limit(5)\n",
    "\n",
    "result_df = result_df.select(col(\"pc_name\").alias(\"constituency_name\"), \"voter_turnout_ratio\") \n",
    "result_df.show()"
   ]
  },
  {
   "cell_type": "code",
   "execution_count": null,
   "metadata": {
    "application/vnd.databricks.v1+cell": {
     "cellMetadata": {
      "byteLimit": 2048000,
      "rowLimit": 10000
     },
     "inputWidgets": {},
     "nuid": "06adeede-c31e-4d2c-82fa-8804bca8a6dc",
     "showTitle": false,
     "title": ""
    }
   },
   "outputs": [],
   "source": [
    "result_df.write.format(\"csv\")\\\n",
    ".option(\"header\",\"true\")\\\n",
    ".mode(\"overwrite\")\\\n",
    ".save(\"dbfs:/mnt/analytics/2014/bottom_5_constituencies_based_on_voterturnout_ratio\")"
   ]
  },
  {
   "cell_type": "markdown",
   "metadata": {
    "application/vnd.databricks.v1+cell": {
     "cellMetadata": {},
     "inputWidgets": {},
     "nuid": "5d75e57b-8a09-4f18-8694-3764256d06d3",
     "showTitle": false,
     "title": ""
    }
   },
   "source": [
    "> **top 5 constituencies of 2019 based on voter turnout ratio**"
   ]
  },
  {
   "cell_type": "code",
   "execution_count": null,
   "metadata": {
    "application/vnd.databricks.v1+cell": {
     "cellMetadata": {
      "byteLimit": 2048000,
      "rowLimit": 10000
     },
     "inputWidgets": {},
     "nuid": "f93875a9-ebca-4e92-b570-8f05d879061c",
     "showTitle": false,
     "title": ""
    }
   },
   "outputs": [
    {
     "name": "stdout",
     "output_type": "stream",
     "text": [
      "+-----------------+-------------------+\n",
      "|constituency_name|voter_turnout_ratio|\n",
      "+-----------------+-------------------+\n",
      "|           dhubri|              90.66|\n",
      "|        bishnupur|              87.31|\n",
      "|          barpeta|              86.55|\n",
      "|       jalpaiguri|              86.49|\n",
      "|   arunachal east|              86.46|\n",
      "+-----------------+-------------------+\n",
      "\n"
     ]
    }
   ],
   "source": [
    "result_df = fact_2019_df \\\n",
    "    .groupBy(\"pc_name\", \"total_electors\") \\\n",
    "    .agg(round((sum(\"total_votes\") / col(\"total_electors\")) * 100, 2).alias(\"voter_turnout_ratio\")) \\\n",
    "    .orderBy(col(\"voter_turnout_ratio\").desc()) \\\n",
    "    .limit(5)\n",
    "\n",
    "result_df = result_df.select(col(\"pc_name\").alias(\"constituency_name\"), \"voter_turnout_ratio\") \n",
    "\n",
    "result_df.show()"
   ]
  },
  {
   "cell_type": "code",
   "execution_count": null,
   "metadata": {
    "application/vnd.databricks.v1+cell": {
     "cellMetadata": {
      "byteLimit": 2048000,
      "rowLimit": 10000
     },
     "inputWidgets": {},
     "nuid": "9e530188-3bb3-4f87-a432-10a31b7590ab",
     "showTitle": false,
     "title": ""
    }
   },
   "outputs": [],
   "source": [
    "result_df.write.format(\"csv\")\\\n",
    ".option(\"header\",\"true\")\\\n",
    ".mode(\"overwrite\")\\\n",
    ".save(\"dbfs:/mnt/analytics/2019/top_5_constituencies_based_on_voterturnout_ratio\")"
   ]
  },
  {
   "cell_type": "markdown",
   "metadata": {
    "application/vnd.databricks.v1+cell": {
     "cellMetadata": {},
     "inputWidgets": {},
     "nuid": "f7c5a1a3-ce30-46c1-a561-ee2e8ef29914",
     "showTitle": false,
     "title": ""
    }
   },
   "source": [
    "> **bottom 5 constituencies of 2019 based on voter turnout ratio**"
   ]
  },
  {
   "cell_type": "code",
   "execution_count": null,
   "metadata": {
    "application/vnd.databricks.v1+cell": {
     "cellMetadata": {
      "byteLimit": 2048000,
      "rowLimit": 10000
     },
     "inputWidgets": {},
     "nuid": "0e8a92f4-fe58-4941-b4d3-8b49acc90120",
     "showTitle": false,
     "title": ""
    }
   },
   "outputs": [
    {
     "name": "stdout",
     "output_type": "stream",
     "text": [
      "+-----------------+-------------------+\n",
      "|constituency_name|voter_turnout_ratio|\n",
      "+-----------------+-------------------+\n",
      "|         anantnag|               8.94|\n",
      "|         srinagar|              14.43|\n",
      "|        baramulla|              34.57|\n",
      "|        hyderabad|              44.84|\n",
      "|           kalyan|              45.29|\n",
      "+-----------------+-------------------+\n",
      "\n"
     ]
    }
   ],
   "source": [
    "result_df = fact_2019_df \\\n",
    "    .groupBy(\"pc_name\", \"total_electors\") \\\n",
    "    .agg(round((sum(\"total_votes\") / col(\"total_electors\")) * 100, 2).alias(\"voter_turnout_ratio\")) \\\n",
    "    .orderBy(col(\"voter_turnout_ratio\").asc()) \\\n",
    "    .limit(5)\n",
    "\n",
    "result_df = result_df.select(col(\"pc_name\").alias(\"constituency_name\"), \"voter_turnout_ratio\") \n",
    "result_df.show()"
   ]
  },
  {
   "cell_type": "code",
   "execution_count": null,
   "metadata": {
    "application/vnd.databricks.v1+cell": {
     "cellMetadata": {
      "byteLimit": 2048000,
      "rowLimit": 10000
     },
     "inputWidgets": {},
     "nuid": "d5a70850-50ff-4330-9b9b-6850baa8b5f7",
     "showTitle": false,
     "title": ""
    }
   },
   "outputs": [],
   "source": [
    "result_df.write.format(\"csv\")\\\n",
    ".option(\"header\",\"true\")\\\n",
    ".mode(\"overwrite\")\\\n",
    ".save(\"dbfs:/mnt/analytics/2019/bottom_5_constituencies_based_on_voterturnout_ratio\")"
   ]
  },
  {
   "cell_type": "markdown",
   "metadata": {
    "application/vnd.databricks.v1+cell": {
     "cellMetadata": {},
     "inputWidgets": {},
     "nuid": "cc7ecafd-29df-403f-b8ce-d3bda9c0958d",
     "showTitle": false,
     "title": ""
    }
   },
   "source": [
    "# 2. List top 5 / bottom 5 states of 2014 and 2019 in terms of voterturnout ratio?"
   ]
  },
  {
   "cell_type": "markdown",
   "metadata": {
    "application/vnd.databricks.v1+cell": {
     "cellMetadata": {},
     "inputWidgets": {},
     "nuid": "51022376-a0a2-4d43-be6e-8e69987aa128",
     "showTitle": false,
     "title": ""
    }
   },
   "source": [
    "**top 5 states of 2014 in terms of voterturnout ratio**"
   ]
  },
  {
   "cell_type": "code",
   "execution_count": null,
   "metadata": {
    "application/vnd.databricks.v1+cell": {
     "cellMetadata": {
      "byteLimit": 2048000,
      "rowLimit": 10000
     },
     "inputWidgets": {},
     "nuid": "e13dc0eb-da81-40f7-8e31-c13e1e4920fc",
     "showTitle": false,
     "title": ""
    }
   },
   "outputs": [],
   "source": [
    "top_5_states_voter_turnout_ratio_df =spark.sql(\"\"\" \n",
    "with q1 as \n",
    "(\n",
    "SELECT state_id,total_electors\n",
    "FROM fact_2014_table \n",
    "GROUP BY state_id,total_electors \n",
    "),\n",
    "state_wise_total_electors as \n",
    "( \n",
    "select state_id,sum(total_electors) \n",
    "as overall_total_electors\n",
    "from q1 \n",
    "group by state_id \n",
    "),\n",
    "state_wise_total_votes as \n",
    "(\n",
    "SELECT state_id, sum(total_votes) as sum_of_total_votes\n",
    "FROM fact_2014_table \n",
    "GROUP BY state_id \n",
    "), \n",
    "data_joins as \n",
    "(\n",
    "select state_wise_total_votes.*,state_wise_total_electors.overall_total_electors\n",
    "from state_wise_total_electors \n",
    "inner join state_wise_total_votes \n",
    "on state_wise_total_electors.state_id = state_wise_total_votes.state_id \n",
    "),\n",
    "voter_turnout_ratio as \n",
    "(\n",
    "select state_id, \n",
    "round((sum_of_total_votes/overall_total_electors)*100,2) as voter_turnout_ratio\n",
    "from data_joins \n",
    "order by voter_turnout_ratio desc \n",
    "limit 5 \n",
    ")\n",
    "select  dim_states_table.state_name,voter_turnout_ratio.voter_turnout_ratio\n",
    "from voter_turnout_ratio \n",
    "inner join dim_states_table\n",
    "on voter_turnout_ratio.state_id=dim_states_table.state_id \n",
    "order by voter_turnout_ratio.voter_turnout_ratio desc\n",
    "\"\"\") \n",
    "\n",
    "\n",
    "\n"
   ]
  },
  {
   "cell_type": "code",
   "execution_count": null,
   "metadata": {
    "application/vnd.databricks.v1+cell": {
     "cellMetadata": {
      "byteLimit": 2048000,
      "rowLimit": 10000
     },
     "inputWidgets": {},
     "nuid": "5efc54cf-4bf8-423c-ad58-f283621700ee",
     "showTitle": false,
     "title": ""
    }
   },
   "outputs": [
    {
     "name": "stdout",
     "output_type": "stream",
     "text": [
      "+--------------------+-------------------+\n",
      "|          state_name|voter_turnout_ratio|\n",
      "+--------------------+-------------------+\n",
      "|            nagaland|              87.82|\n",
      "|         lakshadweep|              86.61|\n",
      "|             tripura|              84.72|\n",
      "|dadra & nagar haveli|              84.07|\n",
      "|              sikkim|              83.33|\n",
      "+--------------------+-------------------+\n",
      "\n"
     ]
    }
   ],
   "source": [
    "top_5_states_voter_turnout_ratio_df.show()"
   ]
  },
  {
   "cell_type": "code",
   "execution_count": null,
   "metadata": {
    "application/vnd.databricks.v1+cell": {
     "cellMetadata": {
      "byteLimit": 2048000,
      "rowLimit": 10000
     },
     "inputWidgets": {},
     "nuid": "6179f7dd-ea9c-4dd4-af29-051550247e81",
     "showTitle": false,
     "title": ""
    }
   },
   "outputs": [],
   "source": [
    "top_5_states_voter_turnout_ratio_df.write.format(\"csv\")\\\n",
    ".option(\"header\",\"true\")\\\n",
    ".mode(\"overwrite\")\\\n",
    ".save(\"dbfs:/mnt/analytics/2014/top_5_states_based_on_voterturnout_ratio\")"
   ]
  },
  {
   "cell_type": "markdown",
   "metadata": {
    "application/vnd.databricks.v1+cell": {
     "cellMetadata": {},
     "inputWidgets": {},
     "nuid": "b4ce8eb9-da03-4c78-b302-c9067a1e5ef0",
     "showTitle": false,
     "title": ""
    }
   },
   "source": [
    "**bottom 5 states of 2014 based on voter turnout ratio**"
   ]
  },
  {
   "cell_type": "code",
   "execution_count": null,
   "metadata": {
    "application/vnd.databricks.v1+cell": {
     "cellMetadata": {
      "byteLimit": 2048000,
      "rowLimit": 10000
     },
     "inputWidgets": {},
     "nuid": "a7cb5e1d-8632-4fa1-83b4-382e47ddf9ac",
     "showTitle": false,
     "title": ""
    }
   },
   "outputs": [],
   "source": [
    "bottom_5_states_voter_turnout_ratio_df =spark.sql(\"\"\" \n",
    "with q1 as \n",
    "(\n",
    "SELECT state_id,total_electors\n",
    "FROM fact_2014_table \n",
    "GROUP BY state_id,total_electors \n",
    "),\n",
    "state_wise_total_electors as \n",
    "( \n",
    "select state_id,sum(total_electors) \n",
    "as overall_total_electors\n",
    "from q1 \n",
    "group by state_id \n",
    "),\n",
    "state_wise_total_votes as \n",
    "(\n",
    "SELECT state_id, sum(total_votes) as sum_of_total_votes\n",
    "FROM fact_2014_table \n",
    "GROUP BY state_id \n",
    "), \n",
    "data_joins as \n",
    "(\n",
    "select state_wise_total_votes.*,state_wise_total_electors.overall_total_electors\n",
    "from state_wise_total_electors \n",
    "inner join state_wise_total_votes \n",
    "on state_wise_total_electors.state_id = state_wise_total_votes.state_id \n",
    "),\n",
    "voter_turnout_ratio as \n",
    "(\n",
    "select state_id, \n",
    "round((sum_of_total_votes/overall_total_electors)*100,2) as voter_turnout_ratio\n",
    "from data_joins \n",
    "order by voter_turnout_ratio asc\n",
    "limit 5 \n",
    ")\n",
    "select  dim_states_table.state_name,voter_turnout_ratio.voter_turnout_ratio\n",
    "from voter_turnout_ratio \n",
    "inner join dim_states_table\n",
    "on voter_turnout_ratio.state_id=dim_states_table.state_id \n",
    "order by voter_turnout_ratio.voter_turnout_ratio asc\n",
    "\"\"\") "
   ]
  },
  {
   "cell_type": "code",
   "execution_count": null,
   "metadata": {
    "application/vnd.databricks.v1+cell": {
     "cellMetadata": {
      "byteLimit": 2048000,
      "rowLimit": 10000
     },
     "inputWidgets": {},
     "nuid": "17303332-50d9-452c-8b93-fd4dac47dde1",
     "showTitle": false,
     "title": ""
    }
   },
   "outputs": [
    {
     "name": "stdout",
     "output_type": "stream",
     "text": [
      "+---------------+-------------------+\n",
      "|     state_name|voter_turnout_ratio|\n",
      "+---------------+-------------------+\n",
      "|jammu & kashmir|              49.66|\n",
      "|          bihar|              56.25|\n",
      "|  uttar pradesh|              58.42|\n",
      "|    maharashtra|              60.29|\n",
      "| madhya pradesh|              61.59|\n",
      "+---------------+-------------------+\n",
      "\n"
     ]
    }
   ],
   "source": [
    "bottom_5_states_voter_turnout_ratio_df.show()"
   ]
  },
  {
   "cell_type": "code",
   "execution_count": null,
   "metadata": {
    "application/vnd.databricks.v1+cell": {
     "cellMetadata": {
      "byteLimit": 2048000,
      "rowLimit": 10000
     },
     "inputWidgets": {},
     "nuid": "d3a315b9-e04f-4ffe-9510-0fe0ff93a78e",
     "showTitle": false,
     "title": ""
    }
   },
   "outputs": [],
   "source": [
    "bottom_5_states_voter_turnout_ratio_df.write.format(\"csv\")\\\n",
    ".option(\"header\",\"true\")\\\n",
    ".mode(\"overwrite\")\\\n",
    ".save(\"dbfs:/mnt/analytics/2014/bottom_5_states_based_on_voterturnout_ratio\")"
   ]
  },
  {
   "cell_type": "markdown",
   "metadata": {
    "application/vnd.databricks.v1+cell": {
     "cellMetadata": {},
     "inputWidgets": {},
     "nuid": "7d45581f-7a43-4d9b-9bd8-baa8cac78622",
     "showTitle": false,
     "title": ""
    }
   },
   "source": [
    "**top 5 states of 2019 based on voter turnout ratio**"
   ]
  },
  {
   "cell_type": "code",
   "execution_count": null,
   "metadata": {
    "application/vnd.databricks.v1+cell": {
     "cellMetadata": {
      "byteLimit": 2048000,
      "rowLimit": 10000
     },
     "inputWidgets": {},
     "nuid": "8d4f7f76-fafa-4d49-9088-e2bf30bda939",
     "showTitle": false,
     "title": ""
    }
   },
   "outputs": [],
   "source": [
    "top_5_2019_states_voter_turnout_ratio_df =spark.sql(\"\"\" \n",
    "with q1 as \n",
    "(\n",
    "SELECT state_id,total_electors\n",
    "FROM fact_2019_table \n",
    "GROUP BY state_id,total_electors \n",
    "),\n",
    "state_wise_total_electors as \n",
    "( \n",
    "select state_id,sum(total_electors) \n",
    "as overall_total_electors\n",
    "from q1 \n",
    "group by state_id \n",
    "),\n",
    "state_wise_total_votes as \n",
    "(\n",
    "SELECT state_id, sum(total_votes) as sum_of_total_votes\n",
    "FROM fact_2019_table \n",
    "GROUP BY state_id \n",
    "), \n",
    "data_joins as \n",
    "(\n",
    "select state_wise_total_votes.*,state_wise_total_electors.overall_total_electors\n",
    "from state_wise_total_electors \n",
    "inner join state_wise_total_votes \n",
    "on state_wise_total_electors.state_id = state_wise_total_votes.state_id \n",
    "),\n",
    "voter_turnout_ratio as \n",
    "(\n",
    "select state_id, \n",
    "round((sum_of_total_votes/overall_total_electors)*100,2) as voter_turnout_ratio\n",
    "from data_joins \n",
    "order by voter_turnout_ratio desc\n",
    "limit 5 \n",
    ")\n",
    "select  dim_states_table.state_name,voter_turnout_ratio.voter_turnout_ratio\n",
    "from voter_turnout_ratio \n",
    "inner join dim_states_table\n",
    "on voter_turnout_ratio.state_id=dim_states_table.state_id \n",
    "order by voter_turnout_ratio.voter_turnout_ratio desc\n",
    "\"\"\") "
   ]
  },
  {
   "cell_type": "code",
   "execution_count": null,
   "metadata": {
    "application/vnd.databricks.v1+cell": {
     "cellMetadata": {
      "byteLimit": 2048000,
      "rowLimit": 10000
     },
     "inputWidgets": {},
     "nuid": "a34eff55-f6d7-4ae2-8079-f9c5a28cd778",
     "showTitle": false,
     "title": ""
    }
   },
   "outputs": [
    {
     "name": "stdout",
     "output_type": "stream",
     "text": [
      "+-----------+-------------------+\n",
      "| state_name|voter_turnout_ratio|\n",
      "+-----------+-------------------+\n",
      "|lakshadweep|              85.18|\n",
      "|   nagaland|              82.91|\n",
      "|    manipur|              82.54|\n",
      "|    tripura|              82.35|\n",
      "|west bengal|              81.72|\n",
      "+-----------+-------------------+\n",
      "\n"
     ]
    }
   ],
   "source": [
    "top_5_2019_states_voter_turnout_ratio_df.show()"
   ]
  },
  {
   "cell_type": "code",
   "execution_count": null,
   "metadata": {
    "application/vnd.databricks.v1+cell": {
     "cellMetadata": {
      "byteLimit": 2048000,
      "rowLimit": 10000
     },
     "inputWidgets": {},
     "nuid": "15a91387-9512-4282-8e17-8fbd63c7d1e6",
     "showTitle": false,
     "title": ""
    }
   },
   "outputs": [],
   "source": [
    "top_5_2019_states_voter_turnout_ratio_df.write.format(\"csv\")\\\n",
    ".option(\"header\",\"true\")\\\n",
    ".mode(\"overwrite\")\\\n",
    ".save(\"dbfs:/mnt/analytics/2019/top_5_states_based_on_voterturnout_ratio\")"
   ]
  },
  {
   "cell_type": "markdown",
   "metadata": {
    "application/vnd.databricks.v1+cell": {
     "cellMetadata": {},
     "inputWidgets": {},
     "nuid": "dc8486ba-ae1c-4fb0-8f99-92d1b193b19f",
     "showTitle": false,
     "title": ""
    }
   },
   "source": [
    "**bottom 5 states of 2019 based on voter turnout ratio**"
   ]
  },
  {
   "cell_type": "code",
   "execution_count": null,
   "metadata": {
    "application/vnd.databricks.v1+cell": {
     "cellMetadata": {
      "byteLimit": 2048000,
      "rowLimit": 10000
     },
     "inputWidgets": {},
     "nuid": "9d3d2553-ccb4-4846-b88d-e7e5029bf4a7",
     "showTitle": false,
     "title": ""
    }
   },
   "outputs": [],
   "source": [
    "bottom_5_2019_states_voter_turnout_ratio_df =spark.sql(\"\"\" \n",
    "with q1 as \n",
    "(\n",
    "SELECT state_id,total_electors\n",
    "FROM fact_2019_table \n",
    "GROUP BY state_id,total_electors \n",
    "),\n",
    "state_wise_total_electors as \n",
    "( \n",
    "select state_id,sum(total_electors) \n",
    "as overall_total_electors\n",
    "from q1 \n",
    "group by state_id \n",
    "),\n",
    "state_wise_total_votes as \n",
    "(\n",
    "SELECT state_id, sum(total_votes) as sum_of_total_votes\n",
    "FROM fact_2019_table \n",
    "GROUP BY state_id \n",
    "), \n",
    "data_joins as \n",
    "(\n",
    "select state_wise_total_votes.*,state_wise_total_electors.overall_total_electors\n",
    "from state_wise_total_electors \n",
    "inner join state_wise_total_votes \n",
    "on state_wise_total_electors.state_id = state_wise_total_votes.state_id \n",
    "),\n",
    "voter_turnout_ratio as \n",
    "(\n",
    "select state_id, \n",
    "round((sum_of_total_votes/overall_total_electors)*100,2) as voter_turnout_ratio\n",
    "from data_joins \n",
    "order by voter_turnout_ratio asc\n",
    "limit 5 \n",
    ")\n",
    "select  dim_states_table.state_name,voter_turnout_ratio.voter_turnout_ratio\n",
    "from voter_turnout_ratio \n",
    "inner join dim_states_table\n",
    "on voter_turnout_ratio.state_id=dim_states_table.state_id \n",
    "order by voter_turnout_ratio.voter_turnout_ratio asc\n",
    "\"\"\") "
   ]
  },
  {
   "cell_type": "code",
   "execution_count": null,
   "metadata": {
    "application/vnd.databricks.v1+cell": {
     "cellMetadata": {
      "byteLimit": 2048000,
      "rowLimit": 10000
     },
     "inputWidgets": {},
     "nuid": "a0162551-19e8-4ebb-bef7-33e0d04e0607",
     "showTitle": false,
     "title": ""
    }
   },
   "outputs": [
    {
     "name": "stdout",
     "output_type": "stream",
     "text": [
      "+---------------+-------------------+\n",
      "|     state_name|voter_turnout_ratio|\n",
      "+---------------+-------------------+\n",
      "|jammu & kashmir|              44.84|\n",
      "|          bihar|               57.3|\n",
      "|  uttar pradesh|              59.18|\n",
      "|   nct of delhi|              60.58|\n",
      "|    maharashtra|              60.96|\n",
      "+---------------+-------------------+\n",
      "\n"
     ]
    }
   ],
   "source": [
    "bottom_5_2019_states_voter_turnout_ratio_df.show()"
   ]
  },
  {
   "cell_type": "code",
   "execution_count": null,
   "metadata": {
    "application/vnd.databricks.v1+cell": {
     "cellMetadata": {
      "byteLimit": 2048000,
      "rowLimit": 10000
     },
     "inputWidgets": {},
     "nuid": "ad994817-c849-4178-877c-414f348b20b2",
     "showTitle": false,
     "title": ""
    }
   },
   "outputs": [],
   "source": [
    "bottom_5_2019_states_voter_turnout_ratio_df.write.format(\"csv\")\\\n",
    ".option(\"header\",\"true\")\\\n",
    ".mode(\"overwrite\")\\\n",
    ".save(\"dbfs:/mnt/analytics/2019/bottom_5_states_based_on_voterturnout_ratio\")"
   ]
  },
  {
   "cell_type": "markdown",
   "metadata": {
    "application/vnd.databricks.v1+cell": {
     "cellMetadata": {},
     "inputWidgets": {},
     "nuid": "177db4fb-b1fe-4dc0-b8d1-da8bb4cb12a6",
     "showTitle": false,
     "title": ""
    }
   },
   "source": [
    "# 3. Which constituencies have elected the same party for two consecutive elections,rank them by % of votes to that winning party in 2019"
   ]
  },
  {
   "cell_type": "code",
   "execution_count": null,
   "metadata": {
    "application/vnd.databricks.v1+cell": {
     "cellMetadata": {
      "byteLimit": 2048000,
      "rowLimit": 10000
     },
     "inputWidgets": {},
     "nuid": "e5ab6d6c-a2a8-450e-8a8a-888e37897adf",
     "showTitle": false,
     "title": ""
    }
   },
   "outputs": [],
   "source": [
    "res_df = spark.sql(\"\"\"\n",
    "with party_2014 as\n",
    "(\n",
    "   select fact_2014_table.pc_name,fact_2014_table.total_votes,fact_2014_table.total_electors,\n",
    "   dim_parties_2014_table.party \n",
    "   from fact_2014_table \n",
    "   inner join dim_parties_2014_table \n",
    "   on dim_parties_2014_table.party_id = fact_2014_table.party_id\n",
    "\n",
    "),\n",
    "rank_party_2014 as \n",
    "(\n",
    "   select *,\n",
    "   rank() over(partition by pc_name order by total_votes desc) as rank_2014\n",
    "   from party_2014 \n",
    "),\n",
    "winner_2014 as \n",
    "(\n",
    "select pc_name,party from rank_party_2014 \n",
    "where rank_2014=1 \n",
    "),\n",
    "party_2019 as\n",
    "(\n",
    "   select fact_2019_table.pc_name,fact_2019_table.total_votes,fact_2019_table.total_electors,\n",
    "   dim_parties_2019_table.party \n",
    "   from fact_2019_table \n",
    "   inner join dim_parties_2019_table \n",
    "   on dim_parties_2019_table.party_id = fact_2019_table.party_id\n",
    "\n",
    "),\n",
    "rank_party_2019 as \n",
    "(\n",
    "   select *,\n",
    "   rank() over(partition by pc_name order by total_votes desc) as rank_2019\n",
    "   from party_2019 \n",
    "),\n",
    "winner_2019 as \n",
    "(\n",
    "select pc_name,party from rank_party_2019 \n",
    "where rank_2019=1 \n",
    ") ,\n",
    "union_data as \n",
    "(\n",
    "select pc_name,party\n",
    "from winner_2014 \n",
    "union all \n",
    "select pc_name,party\n",
    "from winner_2019\n",
    "),\n",
    "unique_combination_count as \n",
    "(\n",
    "select pc_name,party,count(1) as cnt\n",
    "from union_data \n",
    "group by pc_name,party \n",
    "),\n",
    "consecutive_winners as \n",
    "( \n",
    "select pc_name,party from unique_combination_count \n",
    "where cnt=2\n",
    "),\n",
    "winning_party_vote_metrics as \n",
    "(\n",
    "    select pc_name,party,total_votes,\n",
    "    sum(total_votes) over(partition by pc_name) as total_votes_per_constituency\n",
    "    from party_2019 \n",
    "),\n",
    "winning_party_vote_percentage_2019 as \n",
    "(\n",
    "select pc_name,party,\n",
    "round((total_votes/total_votes_per_constituency)*100,2 ) \n",
    "as vote_percentage\n",
    "from winning_party_vote_metrics\n",
    "),\n",
    "join_winners_to_their_winning_percentage as \n",
    "(\n",
    "select consecutive_winners.pc_name,consecutive_winners.party,\n",
    "winning_party_vote_percentage_2019.vote_percentage \n",
    "from consecutive_winners\n",
    "inner join winning_party_vote_percentage_2019 \n",
    "on consecutive_winners.pc_name = winning_party_vote_percentage_2019.pc_name and  consecutive_winners.party=winning_party_vote_percentage_2019.party  \n",
    "),\n",
    "add_row_num as \n",
    "(\n",
    "select *,\n",
    "rank() over(partition by pc_name  order by vote_percentage desc) as rn\n",
    "from  join_winners_to_their_winning_percentage\n",
    "),\n",
    "pick_top_1 as\n",
    "(\n",
    "select pc_name,party,vote_percentage\n",
    "from add_row_num \n",
    "where rn=1 \n",
    "order by vote_percentage desc\n",
    ")\n",
    "select * from pick_top_1\n",
    "\n",
    "\n",
    "\"\"\")\n"
   ]
  },
  {
   "cell_type": "code",
   "execution_count": null,
   "metadata": {
    "application/vnd.databricks.v1+cell": {
     "cellMetadata": {
      "byteLimit": 2048000,
      "rowLimit": 10000
     },
     "inputWidgets": {},
     "nuid": "3fccbb15-e959-4f67-aa7d-866f52de4471",
     "showTitle": false,
     "title": ""
    }
   },
   "outputs": [
    {
     "name": "stdout",
     "output_type": "stream",
     "text": [
      "+--------------------+------+---------------+\n",
      "|             pc_name| party|vote_percentage|\n",
      "+--------------------+------+---------------+\n",
      "|               surat|   bjp|          74.47|\n",
      "|             navsari|   bjp|          74.37|\n",
      "|            vadodara|   bjp|           72.3|\n",
      "|              kangra|   bjp|          72.02|\n",
      "|            bhilwara|   bjp|          71.59|\n",
      "|        mumbai north|   bjp|           71.4|\n",
      "|              karnal|   bjp|          70.08|\n",
      "|         gandhinagar|   bjp|          69.67|\n",
      "|           rajsamand|   bjp|          69.61|\n",
      "|         hoshangabad|   bjp|          69.35|\n",
      "|           faridabad|   bjp|           68.8|\n",
      "|               mandi|   bjp|          68.75|\n",
      "|             garhwal|   bjp|          68.25|\n",
      "|             vidisha|   bjp|          68.23|\n",
      "|      uttara kannada|   bjp|          68.15|\n",
      "|          panchmahal|   bjp|          67.56|\n",
      "|          hazaribagh|   bjp|          67.42|\n",
      "|         chittorgarh|   bjp|          67.38|\n",
      "|      ahmedabad east|   bjp|          67.17|\n",
      "|              shimla|   bjp|          66.35|\n",
      "|                pali|   bjp|           66.2|\n",
      "|             dhanbad|   bjp|          66.03|\n",
      "|             jalgaon|   bjp|           65.6|\n",
      "|              indore|   bjp|          65.59|\n",
      "|            jabalpur|   bjp|          65.41|\n",
      "|             rajgarh|   bjp|          65.37|\n",
      "|               kheda|   bjp|          65.04|\n",
      "|           dibrugarh|   bjp|          64.94|\n",
      "|      jhalawar-baran|   bjp|          64.78|\n",
      "|             wayanad|   inc|          64.67|\n",
      "|               ajmer|   bjp|          64.58|\n",
      "|       tehri garhwal|   bjp|          64.53|\n",
      "|           khajuraho|   bjp|          64.49|\n",
      "|      ahmedabad west|   bjp|          64.35|\n",
      "|      fatehpur sikri|   bjp|          64.32|\n",
      "|        jaipur rural|   bjp|          64.24|\n",
      "|              almora|   bjp|          64.03|\n",
      "|              kadapa| ysrcp|          63.79|\n",
      "|            varanasi|   bjp|          63.62|\n",
      "|           bhavnagar|   bjp|          63.51|\n",
      "|              rajkot|   bjp|          63.47|\n",
      "|bhiwani-mahendragarh|   bjp|          63.45|\n",
      "|              jaipur|   bjp|          63.45|\n",
      "|               thane|   shs|           63.3|\n",
      "|             belgaum|   bjp|          63.22|\n",
      "|              ujjain|   bjp|          63.21|\n",
      "|         muzaffarpur|   bjp|          63.03|\n",
      "|      arunachal west|   bjp|          63.02|\n",
      "|              kalyan|   shs|          62.87|\n",
      "|             palamau|   bjp|          62.46|\n",
      "|   udupi chikmagalur|   bjp|          62.46|\n",
      "|               sagar|   bjp|          62.31|\n",
      "|             kachchh|   bjp|          62.26|\n",
      "|             kodarma|   bjp|          62.26|\n",
      "|     bangalore south|   bjp|           62.2|\n",
      "|      chhota udaipur|   bjp|          62.03|\n",
      "|           ghaziabad|   bjp|          61.96|\n",
      "|            mandsour|   bjp|          61.85|\n",
      "|         patna sahib|   bjp|          61.85|\n",
      "|           madhubani|   bjp|          61.83|\n",
      "|          ganganagar|   bjp|           61.8|\n",
      "|           bharatpur|   bjp|          61.74|\n",
      "|               dewas|   bjp|          61.65|\n",
      "|         banaskantha|   bjp|          61.62|\n",
      "|           jhunjhunu|   bjp|          61.57|\n",
      "|              bhopal|   bjp|          61.54|\n",
      "|            udhampur|   bjp|          61.38|\n",
      "|nainital-udhamsin...|   bjp|          61.35|\n",
      "|           tikamgarh|   bjp|           61.3|\n",
      "|              valsad|   bjp|          61.25|\n",
      "|                pune|   bjp|          61.13|\n",
      "|            mahesana|   bjp|          60.96|\n",
      "|             gurgaon|   bjp|          60.94|\n",
      "|             mathura|   bjp|          60.88|\n",
      "|           darbhanga|   bjp|          60.79|\n",
      "|         bulandshahr|   bjp|          60.64|\n",
      "|             sheohar|   bjp|          60.59|\n",
      "|   mumbai north west|   shs|          60.55|\n",
      "|           gorakhpur|   bjp|          60.54|\n",
      "|               damoh|   bjp|          60.51|\n",
      "|           lakhimpur|   bjp|          60.49|\n",
      "|    north west delhi|   bjp|          60.49|\n",
      "|             shahdol|   bjp|          60.43|\n",
      "|            azamgarh|    sp|           60.4|\n",
      "|               alwar|   bjp|          60.06|\n",
      "|          west delhi|   bjp|          60.05|\n",
      "|               raver|   bjp|          59.96|\n",
      "|             udaipur|   bjp|          59.92|\n",
      "|               betul|   bjp|          59.74|\n",
      "|               churu|   bjp|          59.69|\n",
      "| gautam buddha nagar|   bjp|          59.64|\n",
      "|   paschim champaran|   bjp|           59.6|\n",
      "|              barmer|   bjp|          59.52|\n",
      "|             hathras|   bjp|          59.49|\n",
      "|          jamshedpur|   bjp|           59.4|\n",
      "|            pilibhit|   bjp|          59.38|\n",
      "|           porbandar|   bjp|          59.36|\n",
      "|          kaiserganj|   bjp|          59.24|\n",
      "|          darjeeling|   bjp|          59.19|\n",
      "|           hyderabad| aimim|          58.95|\n",
      "|       surendranagar|   bjp|          58.63|\n",
      "|              jhansi|   bjp|          58.61|\n",
      "|             jodhpur|   bjp|           58.6|\n",
      "|          ahmadnagar|   bjp|          58.54|\n",
      "|            jamnagar|   bjp|          58.52|\n",
      "|                kota|   bjp|          58.52|\n",
      "|              amreli|   bjp|          58.19|\n",
      "|               sikar|   bjp|          58.19|\n",
      "|        shahjahanpur|   bjp|          58.09|\n",
      "|               jammu|   bjp|          58.02|\n",
      "|     purvi champaran|   bjp|          57.81|\n",
      "|               jalna|   bjp|          57.78|\n",
      "|            warangal|   trs|          57.69|\n",
      "|         sabarkantha|   bjp|          57.62|\n",
      "|                rewa|   bjp|          57.61|\n",
      "|    dakshina kannada|   bjp|          57.57|\n",
      "|              tezpur|   bjp|          57.48|\n",
      "|            rajampet| ysrcp|          57.35|\n",
      "|             bijapur|   bjp|          57.22|\n",
      "|              ranchi|   bjp|          57.21|\n",
      "|             gauhati|   bjp|           57.2|\n",
      "|              deoria|   bjp|          57.19|\n",
      "|             khandwa|   bjp|          57.14|\n",
      "|           north goa|   bjp|          57.12|\n",
      "|               anand|   bjp|           57.1|\n",
      "|              chatra|   bjp|          57.03|\n",
      "|          malappuram|  iuml|          57.01|\n",
      "|               unnao|   bjp|          56.87|\n",
      "|             shimoga|   bjp|          56.86|\n",
      "|         farrukhabad|   bjp|          56.82|\n",
      "|              jalore|   bjp|          56.76|\n",
      "|              ambala|   bjp|          56.72|\n",
      "|             lucknow|   bjp|           56.7|\n",
      "|            akbarpur|   bjp|          56.69|\n",
      "|         kushi nagar|   bjp|          56.69|\n",
      "|   mumbai north east|   bjp|          56.61|\n",
      "|         south delhi|   bjp|          56.58|\n",
      "|               dhule|   bjp|          56.54|\n",
      "|                agra|   bjp|          56.48|\n",
      "|           begusarai|   bjp|          56.48|\n",
      "|             dharwad|   bjp|          56.43|\n",
      "|             aligarh|   bjp|          56.42|\n",
      "|            bansgaon|   bjp|          56.41|\n",
      "|               patan|   bjp|          56.24|\n",
      "|               latur|   bjp|          56.22|\n",
      "|     diamond harbour|  aitc|          56.15|\n",
      "|            ujiarpur|   bjp|          56.11|\n",
      "|         kurukshetra|   bjp|          55.98|\n",
      "|          rae bareli|   inc|           55.8|\n",
      "|          jamui (sc)|   ljp|          55.75|\n",
      "|             phulpur|   bjp|          55.68|\n",
      "|              nagpur|   bjp|          55.67|\n",
      "|              kanpur|   bjp|          55.63|\n",
      "|           allahabad|   bjp|          55.62|\n",
      "|             nandyal| ysrcp|          55.49|\n",
      "|             bharuch|   bjp|          55.47|\n",
      "|          east delhi|   bjp|          55.35|\n",
      "|     samastipur (sc)|   ljp|          55.19|\n",
      "|            kaliabor|   inc|          55.18|\n",
      "|            bagalkot|   bjp|          55.17|\n",
      "|              ongole| ysrcp|          55.07|\n",
      "|             bardoli|   bjp|          55.06|\n",
      "|            tirupati| ysrcp|          55.03|\n",
      "|               gonda|   bjp|          55.01|\n",
      "|               bhind|   bjp|          54.93|\n",
      "|              purnia| jd(u)|          54.85|\n",
      "|           new delhi|   bjp|          54.77|\n",
      "|          davanagere|   bjp|          54.66|\n",
      "|            basirhat|  aitc|          54.56|\n",
      "|                etah|   bjp|          54.56|\n",
      "|            junagadh|   bjp|          54.52|\n",
      "|               sidhi|   bjp|          54.44|\n",
      "|            fatehpur|   bjp|          54.24|\n",
      "|            khargone|   bjp|          54.19|\n",
      "|     bangalore rural|   inc|          54.15|\n",
      "|            firozpur|   sad|          54.05|\n",
      "|              haveri|   bjp|          53.97|\n",
      "|mumbai north central|   bjp|          53.97|\n",
      "|              wardha|   bjp|          53.92|\n",
      "|    north east delhi|   bjp|           53.9|\n",
      "|        hajipur (sc)|   ljp|          53.76|\n",
      "|            mainpuri|    sp|          53.75|\n",
      "|                dhar|   bjp|          53.73|\n",
      "|              hardoi|   bjp|          53.72|\n",
      "|               kheri|   bjp|          53.63|\n",
      "|            shillong|   inc|          53.52|\n",
      "|               godda|   bjp|           53.4|\n",
      "|mumbai south central|   shs|           53.3|\n",
      "|            bahraich|   bjp|          53.14|\n",
      "|             nellore| ysrcp|          53.13|\n",
      "|               saran|   bjp|          53.02|\n",
      "|            uluberia|  aitc|           53.0|\n",
      "|              hassan| jd(s)|          52.96|\n",
      "|       chandni chowk|   bjp|          52.94|\n",
      "|            bareilly|   bjp|          52.91|\n",
      "|     bangalore north|   bjp|          52.87|\n",
      "|               satna|   bjp|          52.87|\n",
      "|            vaishali|   ljp|          52.87|\n",
      "|               dahod|   bjp|          52.84|\n",
      "|            khagaria|   ljp|          52.77|\n",
      "|     karauli-dholpur|   bjp|          52.75|\n",
      "|               maval|   shs|          52.65|\n",
      "|      mumbai   south|   shs|          52.64|\n",
      "|            baramati|   ncp|          52.63|\n",
      "|             nalanda| jd(u)|          52.45|\n",
      "|             gwalior|   bjp|          52.44|\n",
      "|               arrah|   bjp|          52.42|\n",
      "|               bidar|   bjp|          52.41|\n",
      "|             hardwar|   bjp|          52.37|\n",
      "|               aruku| ysrcp|          52.32|\n",
      "|              mysore|   bjp|          52.27|\n",
      "| tonk-sawai madhopur|   bjp|          52.24|\n",
      "|  bhandara - gondiya|   bjp|          52.23|\n",
      "|                tura|  npep|          52.22|\n",
      "|            bhiwandi|   bjp|          52.09|\n",
      "|             misrikh|   bjp|          52.05|\n",
      "|             sonipat|   bjp|          52.03|\n",
      "|              satara|   ncp|          51.91|\n",
      "|          mathurapur|  aitc|          51.84|\n",
      "|               medak|   trs|          51.82|\n",
      "|            amritsar|   inc|          51.78|\n",
      "|               dausa|   bjp|          51.63|\n",
      "|              kollam|   rsp|          51.61|\n",
      "|              jalaun|   bjp|          51.49|\n",
      "|              jorhat|   bjp|          51.35|\n",
      "|             ponnani|  iuml|           51.3|\n",
      "|             asansol|   bjp|          51.16|\n",
      "|               aonla|   bjp|          51.07|\n",
      "|             kurnool| ysrcp|          50.95|\n",
      "|ratnagiri - sindh...|   shs|          50.83|\n",
      "|              etawah|   bjp|           50.8|\n",
      "|           ernakulam|   inc|          50.79|\n",
      "|        sasaram (sc)|   bjp|          50.76|\n",
      "|            balaghat|   bjp|          50.74|\n",
      "|            salempur|   bjp|          50.72|\n",
      "|          chandigarh|   bjp|          50.64|\n",
      "|           gurdaspur|   bjp|          50.61|\n",
      "|             bellary|   bjp|          50.44|\n",
      "|             kairana|   bjp|          50.44|\n",
      "|   bangalore central|   bjp|          50.35|\n",
      "|             baghpat|   bjp|          50.32|\n",
      "|              nashik|   shs|          50.27|\n",
      "|                beed|   bjp|          50.15|\n",
      "|              tamluk|  aitc|          50.08|\n",
      "|              kanthi|  aitc|          49.98|\n",
      "|        domariyaganj|   bjp|          49.96|\n",
      "|       kolkata uttar|  aitc|          49.96|\n",
      "|              ramtek|   shs|           49.9|\n",
      "|             dindori|   bjp|          49.88|\n",
      "|           nandurbar|   bjp|          49.86|\n",
      "|              ratlam|   bjp|           49.7|\n",
      "|        mohanlalganj|   bjp|          49.62|\n",
      "|               akola|   bjp|          49.53|\n",
      "|           osmanabad|   shs|          49.52|\n",
      "|       muzaffarnagar|   bjp|          49.46|\n",
      "|            banswara|   bjp|          49.44|\n",
      "|            vadakara|   inc|          49.43|\n",
      "|              koppal|   bjp|           49.3|\n",
      "|             bhadohi|   bjp|          49.07|\n",
      "|           mangaldoi|   bjp|          48.83|\n",
      "|            faizabad|   bjp|          48.66|\n",
      "|         lakshadweep|   ncp|          48.61|\n",
      "|              mandla|   bjp|          48.59|\n",
      "|            rajmahal|   jmm|          48.47|\n",
      "|             solapur|   bjp|          48.41|\n",
      "|             sitapur|   bjp|          48.33|\n",
      "|              ghatal|  aitc|          48.22|\n",
      "|           dhaurahra|   bjp|          48.21|\n",
      "|              meerut|   bjp|          48.19|\n",
      "|               buxar|   bjp|          47.94|\n",
      "|            jadavpur|  aitc|          47.91|\n",
      "|              bolpur|  aitc|          47.85|\n",
      "|              morena|   bjp|          47.63|\n",
      "|     kolkata dakshin|  aitc|           47.5|\n",
      "|              ballia|   bjp|           47.4|\n",
      "|              shirdi|   shs|          47.29|\n",
      "|         pataliputra|   bjp|          47.28|\n",
      "|        machhlishahr|   bjp|          47.19|\n",
      "|              howrah|  aitc|          47.18|\n",
      "|           chandauli|   bjp|          47.07|\n",
      "|          chhindwara|   inc|          47.06|\n",
      "|         mahabubabad|   trs|          46.98|\n",
      "|            buldhana|   shs|          46.59|\n",
      "|             barasat|  aitc|          46.47|\n",
      "|           barabanki|   bjp|          46.39|\n",
      "|            kottayam|kec(m)|          46.25|\n",
      "|               banda|   bjp|           46.2|\n",
      "|          srikakulam|   tdp|          46.19|\n",
      "|     yavatmal-washim|   shs|          46.17|\n",
      "|              khunti|   bjp|          45.97|\n",
      "|           sultanpur|   bjp|          45.91|\n",
      "|           kozhikode|   inc|          45.85|\n",
      "|   gadchiroli-chimur|   bjp|           45.5|\n",
      "|           srerampur|  aitc|           45.5|\n",
      "|          peddapalle|   trs|          45.49|\n",
      "|          baharampur|   inc|          45.47|\n",
      "|           lohardaga|   bjp|          45.45|\n",
      "|         mavelikkara|   inc|          45.36|\n",
      "|             birbhum|  aitc|          45.13|\n",
      "|          vijayawada|   tdp|          45.04|\n",
      "|        krishnanagar|  aitc|           45.0|\n",
      "|            nalgonda|   inc|          44.74|\n",
      "|               basti|   bjp|          44.68|\n",
      "|     bardhaman purba|  aitc|          44.52|\n",
      "|            arambagh|  aitc|          44.15|\n",
      "|    sant kabir nagar|   bjp|          43.97|\n",
      "|              guntur|   tdp|           43.5|\n",
      "|            parbhani|   shs|          43.02|\n",
      "|               theni|  admk|          43.02|\n",
      "|         daman & diu|   bjp|          42.98|\n",
      "|              sangli|   bjp|          42.77|\n",
      "|              dhubri| aiudf|          42.66|\n",
      "|          hoshiarpur|   bjp|          42.52|\n",
      "|             dum dum|  aitc|          42.51|\n",
      "|         secundrabad|   bjp|          42.05|\n",
      "|         mahbubnagar|   trs|          41.78|\n",
      "|           zahirabad|   trs|          41.58|\n",
      "|  thiruvananthapuram|   inc|          41.19|\n",
      "|            bathinda|   sad|          41.04|\n",
      "|           kaushambi|   bjp|          39.31|\n",
      "|           jalandhar|   inc|          37.85|\n",
      "|             sangrur|  aaap|           37.4|\n",
      "|      pathanamthitta|   inc|          37.11|\n",
      "|            ludhiana|   inc|          36.66|\n",
      "|     maldaha dakshin|   inc|          34.73|\n",
      "|              ladakh|   bjp|          33.94|\n",
      "|          kishanganj|   inc|          33.32|\n",
      "|         maharajganj|   bjp|          33.02|\n",
      "|            hamirpur|   bjp|          32.84|\n",
      "|           kokrajhar|   ind|          32.75|\n",
      "+--------------------+------+---------------+\n",
      "\n"
     ]
    }
   ],
   "source": [
    "res_df.show(330)"
   ]
  },
  {
   "cell_type": "code",
   "execution_count": null,
   "metadata": {
    "application/vnd.databricks.v1+cell": {
     "cellMetadata": {
      "byteLimit": 2048000,
      "rowLimit": 10000
     },
     "inputWidgets": {},
     "nuid": "e0a6c1a8-8d37-4104-ad17-5ba5afc13823",
     "showTitle": false,
     "title": ""
    }
   },
   "outputs": [
    {
     "data": {
      "text/plain": [
       "330"
      ]
     },
     "execution_count": 1163,
     "metadata": {},
     "output_type": "execute_result"
    }
   ],
   "source": [
    "res_df.count()"
   ]
  },
  {
   "cell_type": "code",
   "execution_count": null,
   "metadata": {
    "application/vnd.databricks.v1+cell": {
     "cellMetadata": {
      "byteLimit": 2048000,
      "rowLimit": 10000
     },
     "inputWidgets": {},
     "nuid": "89f783a6-d6b6-4c81-96bf-681478aef12c",
     "showTitle": false,
     "title": ""
    }
   },
   "outputs": [],
   "source": [
    "res_df.write.format(\"csv\")\\\n",
    ".option(\"header\",\"true\")\\\n",
    ".mode(\"overwrite\")\\\n",
    ".save(\"dbfs:/mnt/analytics/general/consecutive_elected_parties_ranked_by_2019_vote_percentage\")"
   ]
  },
  {
   "cell_type": "markdown",
   "metadata": {
    "application/vnd.databricks.v1+cell": {
     "cellMetadata": {},
     "inputWidgets": {},
     "nuid": "8789bcb8-f36c-4c3d-b790-e18656ed1dd3",
     "showTitle": false,
     "title": ""
    }
   },
   "source": [
    "# 4. Which constituencies have voted for different parties in two elections (list top 10\n",
    "# based on difference (2019-2014) in winnervote percentage in two elections)"
   ]
  },
  {
   "cell_type": "code",
   "execution_count": null,
   "metadata": {
    "application/vnd.databricks.v1+cell": {
     "cellMetadata": {
      "byteLimit": 2048000,
      "rowLimit": 10000
     },
     "inputWidgets": {},
     "nuid": "9b997c43-e1c3-45e5-b98e-c401a1435efc",
     "showTitle": false,
     "title": ""
    }
   },
   "outputs": [],
   "source": [
    "res_df = spark.sql(\"\"\"\n",
    "WITH party_2014 AS (\n",
    "    SELECT\n",
    "        fact_2014_table.pc_name,\n",
    "        fact_2014_table.total_votes,\n",
    "        dim_parties_2014_table.party\n",
    "    FROM fact_2014_table\n",
    "    INNER JOIN dim_parties_2014_table\n",
    "        ON dim_parties_2014_table.party_id = fact_2014_table.party_id\n",
    "),\n",
    "total_votes_per_constituency_2014 AS (\n",
    "    SELECT\n",
    "        pc_name,\n",
    "        SUM(total_votes) AS total_votes_per_constituency\n",
    "    FROM party_2014\n",
    "    GROUP BY pc_name\n",
    "),\n",
    "winning_party_vote_percentage_2014 AS (\n",
    "    SELECT\n",
    "        pc_name,\n",
    "        party,\n",
    "        total_votes,\n",
    "        total_votes_per_constituency,\n",
    "        ROUND((total_votes / total_votes_per_constituency) * 100, 2) AS vote_percentage_2014\n",
    "    FROM (\n",
    "        SELECT\n",
    "            p.pc_name,\n",
    "            p.party,\n",
    "            p.total_votes,\n",
    "            tv.total_votes_per_constituency,\n",
    "            RANK() OVER (PARTITION BY p.pc_name ORDER BY p.total_votes DESC) AS rank_2014\n",
    "        FROM party_2014 p\n",
    "        INNER JOIN total_votes_per_constituency_2014 tv\n",
    "            ON p.pc_name = tv.pc_name\n",
    "    ) ranked_2014\n",
    "    WHERE rank_2014 = 1\n",
    "),\n",
    "party_2019 AS (\n",
    "    SELECT\n",
    "        fact_2019_table.pc_name,\n",
    "        fact_2019_table.total_votes,\n",
    "        dim_parties_2019_table.party\n",
    "    FROM fact_2019_table\n",
    "    INNER JOIN dim_parties_2019_table\n",
    "        ON dim_parties_2019_table.party_id = fact_2019_table.party_id\n",
    "),\n",
    "total_votes_per_constituency_2019 AS (\n",
    "    SELECT\n",
    "        pc_name,\n",
    "        SUM(total_votes) AS total_votes_per_constituency\n",
    "    FROM party_2019\n",
    "    GROUP BY pc_name\n",
    "),\n",
    "winning_party_vote_percentage_2019 AS (\n",
    "    SELECT\n",
    "        pc_name,\n",
    "        party,\n",
    "        total_votes,\n",
    "        total_votes_per_constituency,\n",
    "        ROUND((total_votes / total_votes_per_constituency) * 100, 2) AS vote_percentage_2019\n",
    "    FROM (\n",
    "        SELECT\n",
    "            p.pc_name,\n",
    "            p.party,\n",
    "            p.total_votes,\n",
    "            tv.total_votes_per_constituency,\n",
    "            RANK() OVER (PARTITION BY p.pc_name ORDER BY p.total_votes DESC) AS rank_2019\n",
    "        FROM party_2019 p\n",
    "        INNER JOIN total_votes_per_constituency_2019 tv\n",
    "            ON p.pc_name = tv.pc_name\n",
    "    ) ranked_2019\n",
    "    WHERE rank_2019 = 1\n",
    "),\n",
    "different_party_winners AS (\n",
    "    SELECT\n",
    "        w2014.pc_name,\n",
    "        w2014.party AS party_2014,\n",
    "        w2014.vote_percentage_2014,\n",
    "        w2019.party AS party_2019,\n",
    "        w2019.vote_percentage_2019,\n",
    "        round(w2019.vote_percentage_2019 - w2014.vote_percentage_2014,2) AS diff_winner_percent_votes\n",
    "    FROM winning_party_vote_percentage_2014 w2014\n",
    "    INNER JOIN winning_party_vote_percentage_2019 w2019\n",
    "        ON w2014.pc_name = w2019.pc_name\n",
    "    WHERE w2014.party != w2019.party\n",
    ")\n",
    "SELECT\n",
    "    pc_name,\n",
    "    party_2014,\n",
    "    vote_percentage_2014,\n",
    "    party_2019,\n",
    "    vote_percentage_2019,\n",
    "    diff_winner_percent_votes\n",
    "FROM different_party_winners\n",
    "ORDER BY diff_winner_percent_votes DESC\n",
    "LIMIT 10;\n",
    "\n",
    "\n",
    "\"\"\")\n"
   ]
  },
  {
   "cell_type": "code",
   "execution_count": null,
   "metadata": {
    "application/vnd.databricks.v1+cell": {
     "cellMetadata": {
      "byteLimit": 2048000,
      "rowLimit": 10000
     },
     "inputWidgets": {},
     "nuid": "0e61d78d-bda1-4f4e-9606-f4bd1e034df0",
     "showTitle": false,
     "title": ""
    }
   },
   "outputs": [
    {
     "name": "stdout",
     "output_type": "stream",
     "text": [
      "+-------------------+----------+--------------------+----------+--------------------+-------------------------+\n",
      "|            pc_name|party_2014|vote_percentage_2014|party_2019|vote_percentage_2019|diff_winner_percent_votes|\n",
      "+-------------------+----------+--------------------+----------+--------------------+-------------------------+\n",
      "|        alipurduars|      aitc|               29.62|       bjp|                54.4|                    24.78|\n",
      "|autonomous district|       inc|               39.23|       bjp|               61.73|                     22.5|\n",
      "|      kanniyakumari|       bjp|               37.64|       inc|               59.83|                    22.19|\n",
      "|         puducherry|     ainrc|               34.57|       inc|               56.27|                     21.7|\n",
      "|          bhagalpur|       rjd|               37.74|     jd(u)|                59.3|                    21.56|\n",
      "|            sambhal|       bjp|               34.08|        sp|                55.6|                    21.52|\n",
      "|        jhanjharpur|       bjp|               35.64|     jd(u)|                56.8|                    21.16|\n",
      "|      chikkballapur|       inc|               33.63|       bjp|               53.78|                    20.15|\n",
      "|           ghazipur|       bjp|               31.11|       bsp|                51.2|                    20.09|\n",
      "|             supaul|       inc|                34.3|     jd(u)|               53.78|                    19.48|\n",
      "+-------------------+----------+--------------------+----------+--------------------+-------------------------+\n",
      "\n"
     ]
    }
   ],
   "source": [
    "res_df.show()"
   ]
  },
  {
   "cell_type": "code",
   "execution_count": null,
   "metadata": {
    "application/vnd.databricks.v1+cell": {
     "cellMetadata": {
      "byteLimit": 2048000,
      "rowLimit": 10000
     },
     "inputWidgets": {},
     "nuid": "a758f2fe-5446-4422-ac38-9d0c3e784c66",
     "showTitle": false,
     "title": ""
    }
   },
   "outputs": [],
   "source": [
    "res_df.write.format(\"csv\")\\\n",
    ".option(\"header\",\"true\")\\\n",
    ".mode(\"overwrite\")\\\n",
    ".save(\"dbfs:/mnt/analytics/general/top_10_non_consecutive_elected_parties_ranked_by_diff_in_vote_percentage\")"
   ]
  },
  {
   "cell_type": "markdown",
   "metadata": {
    "application/vnd.databricks.v1+cell": {
     "cellMetadata": {},
     "inputWidgets": {},
     "nuid": "d0e45dd0-f6f4-406a-aadc-89b138725b18",
     "showTitle": false,
     "title": ""
    }
   },
   "source": [
    "# 5. Top 5 candidates based on margin difference with runners in 2014 and 2019."
   ]
  },
  {
   "cell_type": "markdown",
   "metadata": {
    "application/vnd.databricks.v1+cell": {
     "cellMetadata": {},
     "inputWidgets": {},
     "nuid": "db9acf50-902e-4358-9421-d520f5631157",
     "showTitle": false,
     "title": ""
    }
   },
   "source": [
    "**in 2014**"
   ]
  },
  {
   "cell_type": "code",
   "execution_count": null,
   "metadata": {
    "application/vnd.databricks.v1+cell": {
     "cellMetadata": {
      "byteLimit": 2048000,
      "rowLimit": 10000
     },
     "inputWidgets": {},
     "nuid": "98739622-7ef5-4e57-921d-d83b67a80694",
     "showTitle": false,
     "title": ""
    }
   },
   "outputs": [],
   "source": [
    "res_2014_df = spark.sql(\"\"\" \n",
    "with ranking as \n",
    "(\n",
    "select pc_name,candidate_id,total_votes,\n",
    "row_number() over(partition by pc_name order by total_votes desc) as rnk\n",
    "from fact_2014_table \n",
    "),\n",
    "top_2 as \n",
    "( \n",
    "select * \n",
    "from ranking \n",
    "where rnk <=2\n",
    "),\n",
    "derive_winner_runnerup_columns as \n",
    "(\n",
    "select pc_name,candidate_id,total_votes as winner_votes ,rnk,\n",
    "lead(total_votes,1) over(partition by pc_name order by rnk asc) as runner_up_votes\n",
    "from top_2\n",
    "),\n",
    "derive_margin as \n",
    "( \n",
    "select pc_name,candidate_id,winner_votes, runner_up_votes,\n",
    "(winner_votes - runner_up_votes) as margin\n",
    "from derive_winner_runnerup_columns \n",
    "where rnk=1 \n",
    "order by margin desc \n",
    "limit 5\n",
    ")\n",
    "select derive_margin.pc_name,dim_candidates_2014_table.candidate,\n",
    "derive_margin.winner_votes,\n",
    "derive_margin.runner_up_votes,derive_margin.margin as margin_difference\n",
    "from derive_margin \n",
    "inner join dim_candidates_2014_table \n",
    "on derive_margin.candidate_id = dim_candidates_2014_table.candidate_id\n",
    "order by margin desc\n",
    "\"\"\")"
   ]
  },
  {
   "cell_type": "code",
   "execution_count": null,
   "metadata": {
    "application/vnd.databricks.v1+cell": {
     "cellMetadata": {
      "byteLimit": 2048000,
      "rowLimit": 10000
     },
     "inputWidgets": {},
     "nuid": "86c87119-fa8c-4c3e-be5d-6a3545ca5e9a",
     "showTitle": false,
     "title": ""
    }
   },
   "outputs": [
    {
     "name": "stdout",
     "output_type": "stream",
     "text": [
      "+---------+-----------------------+------------+---------------+-----------------+\n",
      "|pc_name  |candidate              |winner_votes|runner_up_votes|margin_difference|\n",
      "+---------+-----------------------+------------+---------------+-----------------+\n",
      "|vadodara |narendra modi          |845464      |275336         |570128           |\n",
      "|ghaziabad|vijay kumar singh      |758482      |191222         |567260           |\n",
      "|navsari  |c. r. patil            |820831      |262715         |558116           |\n",
      "|jaipur   |ramcharan bohara       |863358      |324013         |539345           |\n",
      "|surat    |darshana vikram jardosh|718412      |185222         |533190           |\n",
      "+---------+-----------------------+------------+---------------+-----------------+\n",
      "\n"
     ]
    }
   ],
   "source": [
    "res_2014_df.show(truncate=False)"
   ]
  },
  {
   "cell_type": "code",
   "execution_count": null,
   "metadata": {
    "application/vnd.databricks.v1+cell": {
     "cellMetadata": {
      "byteLimit": 2048000,
      "rowLimit": 10000
     },
     "inputWidgets": {},
     "nuid": "593fcc2d-1ace-40ca-ada2-fb2dcb9ed2e5",
     "showTitle": false,
     "title": ""
    }
   },
   "outputs": [],
   "source": [
    "res_2014_df.write.format(\"csv\")\\\n",
    ".option(\"header\",\"true\")\\\n",
    ".mode(\"overwrite\")\\\n",
    ".save(\"dbfs:/mnt/analytics/2014/top_5_candidates_based_on_margin_difference\")"
   ]
  },
  {
   "cell_type": "markdown",
   "metadata": {
    "application/vnd.databricks.v1+cell": {
     "cellMetadata": {},
     "inputWidgets": {},
     "nuid": "c3ee7a72-4571-4d24-a5a5-c1d37d5acf12",
     "showTitle": false,
     "title": ""
    }
   },
   "source": [
    "**in_2019**"
   ]
  },
  {
   "cell_type": "code",
   "execution_count": null,
   "metadata": {
    "application/vnd.databricks.v1+cell": {
     "cellMetadata": {
      "byteLimit": 2048000,
      "rowLimit": 10000
     },
     "inputWidgets": {},
     "nuid": "7b7d340b-b1cb-41fb-a04b-f3500bc5ba40",
     "showTitle": false,
     "title": ""
    }
   },
   "outputs": [],
   "source": [
    "res_2019_df = spark.sql(\"\"\" \n",
    "with ranking as \n",
    "(\n",
    "select pc_name,candidate_id,total_votes,\n",
    "row_number() over(partition by pc_name order by total_votes desc) as rnk\n",
    "from fact_2019_table \n",
    "),\n",
    "top_2 as \n",
    "( \n",
    "select * \n",
    "from ranking \n",
    "where rnk <=2\n",
    "),\n",
    "derive_winner_runnerup_columns as \n",
    "(\n",
    "select pc_name,candidate_id,total_votes as winner_votes ,rnk,\n",
    "lead(total_votes,1) over(partition by pc_name order by rnk asc) as runner_up_votes\n",
    "from top_2\n",
    "),\n",
    "derive_margin as \n",
    "( \n",
    "select pc_name,candidate_id,winner_votes, runner_up_votes,\n",
    "(winner_votes - runner_up_votes) as margin\n",
    "from derive_winner_runnerup_columns \n",
    "where rnk=1 \n",
    "order by margin desc \n",
    "limit 5\n",
    ")\n",
    "select derive_margin.pc_name,dim_candidates_2019_table.candidate,\n",
    "derive_margin.winner_votes,\n",
    "derive_margin.runner_up_votes,derive_margin.margin as margin_difference\n",
    "from derive_margin \n",
    "inner join dim_candidates_2019_table \n",
    "on derive_margin.candidate_id = dim_candidates_2019_table.candidate_id\n",
    "order by margin desc\n",
    "\"\"\")"
   ]
  },
  {
   "cell_type": "code",
   "execution_count": null,
   "metadata": {
    "application/vnd.databricks.v1+cell": {
     "cellMetadata": {
      "byteLimit": 2048000,
      "rowLimit": 10000
     },
     "inputWidgets": {},
     "nuid": "0b3a06ce-855e-4cbb-8ead-3da9dc9c8bee",
     "showTitle": false,
     "title": ""
    }
   },
   "outputs": [
    {
     "name": "stdout",
     "output_type": "stream",
     "text": [
      "+---------+-----------------------+------------+---------------+-----------------+\n",
      "|pc_name  |candidate              |winner_votes|runner_up_votes|margin_difference|\n",
      "+---------+-----------------------+------------+---------------+-----------------+\n",
      "|navsari  |c. r. patil            |972739      |283071         |689668           |\n",
      "|karnal   |sanjay bhatia          |911594      |255452         |656142           |\n",
      "|faridabad|krishan pal            |913222      |274983         |638239           |\n",
      "|bhilwara |subhash chandra baheria|938160      |326160         |612000           |\n",
      "|vadodara |ranjanben bhatt        |883719      |294542         |589177           |\n",
      "+---------+-----------------------+------------+---------------+-----------------+\n",
      "\n"
     ]
    }
   ],
   "source": [
    "res_2019_df.show(truncate=False)"
   ]
  },
  {
   "cell_type": "code",
   "execution_count": null,
   "metadata": {
    "application/vnd.databricks.v1+cell": {
     "cellMetadata": {
      "byteLimit": 2048000,
      "rowLimit": 10000
     },
     "inputWidgets": {},
     "nuid": "3ced3af6-e489-439f-8976-e13a0388911f",
     "showTitle": false,
     "title": ""
    }
   },
   "outputs": [],
   "source": [
    "res_2019_df.write.format(\"csv\")\\\n",
    ".option(\"header\",\"true\")\\\n",
    ".mode(\"overwrite\")\\\n",
    ".save(\"dbfs:/mnt/analytics/2019/top_5_candidates_based_on_margin_difference\")"
   ]
  },
  {
   "cell_type": "markdown",
   "metadata": {
    "application/vnd.databricks.v1+cell": {
     "cellMetadata": {},
     "inputWidgets": {},
     "nuid": "03e54a1a-4e5f-4722-adfd-7cbd6658ff0d",
     "showTitle": false,
     "title": ""
    }
   },
   "source": [
    "# 6. % Split of votes of parties between 2014 vs 2019 at national level"
   ]
  },
  {
   "cell_type": "markdown",
   "metadata": {
    "application/vnd.databricks.v1+cell": {
     "cellMetadata": {},
     "inputWidgets": {},
     "nuid": "8a53e140-a904-4863-a899-7ea7c93e3f51",
     "showTitle": false,
     "title": ""
    }
   },
   "source": [
    "**in 2014**"
   ]
  },
  {
   "cell_type": "code",
   "execution_count": null,
   "metadata": {
    "application/vnd.databricks.v1+cell": {
     "cellMetadata": {
      "byteLimit": 2048000,
      "rowLimit": 10000
     },
     "inputWidgets": {},
     "nuid": "a80b621e-7702-4486-88d6-b6e17890271b",
     "showTitle": false,
     "title": ""
    }
   },
   "outputs": [],
   "source": [
    "res_2014_df=spark.sql(\"\"\" \n",
    "with cte as \n",
    "(\n",
    "select party_id,sum(total_votes) as total_party_votes \n",
    "from fact_2014_table \n",
    "group by party_id \n",
    "order by total_party_votes desc \n",
    "),\n",
    "cte2 as \n",
    "(\n",
    "select party_id,total_party_votes ,sum(total_party_votes) over() as overall_total_votes\n",
    "from cte \n",
    "),\n",
    "cte3 as \n",
    "(\n",
    "select party_id,total_party_votes,\n",
    "round((total_party_votes/overall_total_votes)*100,2) as votes_percentage_split\n",
    "from cte2 \n",
    "limit 5\n",
    ")\n",
    "select dim_parties_2014_table.party,\n",
    " cte3.total_party_votes,cte3.votes_percentage_split \n",
    "from cte3 \n",
    "inner join dim_parties_2014_table \n",
    "on cte3.party_id = dim_parties_2014_table.party_id \n",
    "order by cte3.votes_percentage_split desc\n",
    "\"\"\")"
   ]
  },
  {
   "cell_type": "code",
   "execution_count": null,
   "metadata": {
    "application/vnd.databricks.v1+cell": {
     "cellMetadata": {
      "byteLimit": 2048000,
      "rowLimit": 10000
     },
     "inputWidgets": {},
     "nuid": "a60f27cd-94ee-4b1a-bdb0-dfa00d142cea",
     "showTitle": false,
     "title": ""
    }
   },
   "outputs": [
    {
     "name": "stdout",
     "output_type": "stream",
     "text": [
      "+-----+-----------------+----------------------+\n",
      "|party|total_party_votes|votes_percentage_split|\n",
      "+-----+-----------------+----------------------+\n",
      "|  bjp|        161047761|                 30.97|\n",
      "|  inc|         96641749|                 18.58|\n",
      "|  bsp|         22434033|                  4.31|\n",
      "| aitc|         21215661|                  4.08|\n",
      "|   sp|         18623266|                  3.58|\n",
      "+-----+-----------------+----------------------+\n",
      "\n"
     ]
    }
   ],
   "source": [
    "res_2014_df.show()"
   ]
  },
  {
   "cell_type": "code",
   "execution_count": null,
   "metadata": {
    "application/vnd.databricks.v1+cell": {
     "cellMetadata": {
      "byteLimit": 2048000,
      "rowLimit": 10000
     },
     "inputWidgets": {},
     "nuid": "92d8d56e-bbbc-4ee5-a13b-fca487060eac",
     "showTitle": false,
     "title": ""
    }
   },
   "outputs": [],
   "source": [
    "res_2014_df.write.format(\"csv\")\\\n",
    ".option(\"header\",\"true\")\\\n",
    ".mode(\"overwrite\")\\\n",
    ".save(\"dbfs:/mnt/analytics/2014/top_5_parties_based_on_vote_percentage_split\")"
   ]
  },
  {
   "cell_type": "markdown",
   "metadata": {
    "application/vnd.databricks.v1+cell": {
     "cellMetadata": {},
     "inputWidgets": {},
     "nuid": "15f3ae73-5e63-4908-b288-f8acc1330a8d",
     "showTitle": false,
     "title": ""
    }
   },
   "source": [
    "**in 2019**"
   ]
  },
  {
   "cell_type": "code",
   "execution_count": null,
   "metadata": {
    "application/vnd.databricks.v1+cell": {
     "cellMetadata": {
      "byteLimit": 2048000,
      "rowLimit": 10000
     },
     "inputWidgets": {},
     "nuid": "1410854e-64ac-4e74-9a9c-cfa9183e247e",
     "showTitle": false,
     "title": ""
    }
   },
   "outputs": [],
   "source": [
    "res_2019_df=spark.sql(\"\"\" \n",
    "with cte as \n",
    "(\n",
    "select party_id,sum(total_votes) as total_party_votes \n",
    "from fact_2019_table \n",
    "group by party_id \n",
    "order by total_party_votes desc \n",
    "),\n",
    "cte2 as \n",
    "(\n",
    "select party_id,total_party_votes ,sum(total_party_votes) over() as overall_total_votes\n",
    "from cte \n",
    "),\n",
    "cte3 as \n",
    "(\n",
    "select party_id,total_party_votes,\n",
    "round((total_party_votes/overall_total_votes)*100,2) as votes_percentage_split\n",
    "from cte2 \n",
    "limit 5\n",
    ")\n",
    "select dim_parties_2019_table.party,\n",
    " cte3.total_party_votes,cte3.votes_percentage_split \n",
    "from cte3 \n",
    "inner join dim_parties_2019_table \n",
    "on cte3.party_id = dim_parties_2019_table.party_id \n",
    "order by cte3.votes_percentage_split desc\n",
    "\"\"\")"
   ]
  },
  {
   "cell_type": "code",
   "execution_count": null,
   "metadata": {
    "application/vnd.databricks.v1+cell": {
     "cellMetadata": {
      "byteLimit": 2048000,
      "rowLimit": 10000
     },
     "inputWidgets": {},
     "nuid": "25782da1-ffad-4494-a7d8-fd4853c13110",
     "showTitle": false,
     "title": ""
    }
   },
   "outputs": [
    {
     "name": "stdout",
     "output_type": "stream",
     "text": [
      "+-----+-----------------+----------------------+\n",
      "|party|total_party_votes|votes_percentage_split|\n",
      "+-----+-----------------+----------------------+\n",
      "|  bjp|        229076879|                  37.3|\n",
      "|  inc|        119495214|                 19.46|\n",
      "| aitc|         24929330|                  4.06|\n",
      "|  bsp|         22246501|                  3.62|\n",
      "|   sp|         15636617|                  2.55|\n",
      "+-----+-----------------+----------------------+\n",
      "\n"
     ]
    }
   ],
   "source": [
    "res_2019_df.show()"
   ]
  },
  {
   "cell_type": "code",
   "execution_count": null,
   "metadata": {
    "application/vnd.databricks.v1+cell": {
     "cellMetadata": {
      "byteLimit": 2048000,
      "rowLimit": 10000
     },
     "inputWidgets": {},
     "nuid": "dcf9e653-d163-452e-907d-a51aa4fa7334",
     "showTitle": false,
     "title": ""
    }
   },
   "outputs": [],
   "source": [
    "res_2019_df.write.format(\"csv\")\\\n",
    ".option(\"header\",\"true\")\\\n",
    ".mode(\"overwrite\")\\\n",
    ".save(\"dbfs:/mnt/analytics/2019/top_5_parties_based_on_vote_percentage_split\")"
   ]
  },
  {
   "cell_type": "markdown",
   "metadata": {
    "application/vnd.databricks.v1+cell": {
     "cellMetadata": {},
     "inputWidgets": {},
     "nuid": "9f21d739-6045-4d37-955d-1b61458c18b8",
     "showTitle": false,
     "title": ""
    }
   },
   "source": [
    "# 7. % Split of votes of parties between 2014 vs 2019 at state level."
   ]
  },
  {
   "cell_type": "markdown",
   "metadata": {
    "application/vnd.databricks.v1+cell": {
     "cellMetadata": {},
     "inputWidgets": {},
     "nuid": "1273182f-ed43-4ebf-b2e9-5c4e047cf37b",
     "showTitle": false,
     "title": ""
    }
   },
   "source": [
    "**in 2014**"
   ]
  },
  {
   "cell_type": "code",
   "execution_count": null,
   "metadata": {
    "application/vnd.databricks.v1+cell": {
     "cellMetadata": {
      "byteLimit": 2048000,
      "rowLimit": 10000
     },
     "inputWidgets": {},
     "nuid": "070a597d-0c17-4898-83e3-f34c19091013",
     "showTitle": false,
     "title": ""
    }
   },
   "outputs": [],
   "source": [
    "res_2014_df = spark.sql(\"\"\"\n",
    "with cte as \n",
    "(\n",
    "select state_id,sum(total_votes) as total_statewise_votes\n",
    "from fact_2014_table\n",
    "group by state_id  \n",
    "),\n",
    "cte2 as \n",
    "(\n",
    "select state_id,party_id,\n",
    "sum(total_votes) as total_partywise_votes  \n",
    "from fact_2014_table \n",
    "group by state_id,party_id\n",
    "),\n",
    "cte3 as \n",
    "(\n",
    "select cte2.*,cte.total_statewise_votes,\n",
    "round(((cte2.total_partywise_votes/total_statewise_votes)*100),2) as vote_percentage_split\n",
    "from cte2 \n",
    "inner join cte \n",
    "on cte.state_id = cte2.state_id \n",
    "),\n",
    "cte4 as \n",
    "(\n",
    "select dim_states_table.state_name,cte3.party_id,\n",
    "cte3.total_partywise_votes,cte3.total_statewise_votes,cte3.vote_percentage_split\n",
    "from cte3 \n",
    "inner join dim_states_table \n",
    "on dim_states_table.state_id = cte3.state_id\n",
    ")\n",
    "select cte4.state_name, dim_parties_2014_table.party,cte4.total_partywise_votes,cte4.total_statewise_votes,\n",
    "cte4.vote_percentage_split\n",
    "from cte4 \n",
    "inner join dim_parties_2014_table \n",
    "on cte4.party_id = dim_parties_2014_table.party_id \n",
    "order by state_name asc,vote_percentage_split desc\n",
    "\"\"\")"
   ]
  },
  {
   "cell_type": "code",
   "execution_count": null,
   "metadata": {
    "application/vnd.databricks.v1+cell": {
     "cellMetadata": {
      "byteLimit": 2048000,
      "rowLimit": 10000
     },
     "inputWidgets": {},
     "nuid": "e92fd22b-3d52-4f23-be47-6c5ec6c9dc97",
     "showTitle": false,
     "title": ""
    }
   },
   "outputs": [
    {
     "name": "stdout",
     "output_type": "stream",
     "text": [
      "+-------------+-----+---------------------+---------------------+---------------------+\n",
      "|   state_name|party|total_partywise_votes|total_statewise_votes|vote_percentage_split|\n",
      "+-------------+-----+---------------------+---------------------+---------------------+\n",
      "|uttar pradesh|  bjp|             34318854|             81093120|                42.32|\n",
      "|uttar pradesh|   sp|             17988967|             81093120|                22.18|\n",
      "|uttar pradesh|  bsp|             15914194|             81093120|                19.62|\n",
      "|uttar pradesh|  inc|              6061267|             81093120|                 7.47|\n",
      "|uttar pradesh| aaap|               821302|             81093120|                 1.01|\n",
      "|uttar pradesh|  rld|               689409|             81093120|                 0.85|\n",
      "|uttar pradesh| nota|               592331|             81093120|                 0.73|\n",
      "|uttar pradesh| pecp|               499504|             81093120|                 0.62|\n",
      "|uttar pradesh|   ad|               436536|             81093120|                 0.54|\n",
      "|uttar pradesh|   ad|               375789|             81093120|                 0.46|\n",
      "|uttar pradesh|  qed|               354577|             81093120|                 0.44|\n",
      "|uttar pradesh|  ind|               170502|             81093120|                 0.21|\n",
      "|uttar pradesh| bmup|               149062|             81093120|                 0.18|\n",
      "|uttar pradesh|  cpi|               129471|             81093120|                 0.16|\n",
      "|uttar pradesh| sbsp|               111433|             81093120|                 0.14|\n",
      "|uttar pradesh| aitc|                99486|             81093120|                 0.12|\n",
      "|uttar pradesh|  rpd|                95644|             81093120|                 0.12|\n",
      "|uttar pradesh|  ind|                87176|             81093120|                 0.11|\n",
      "|uttar pradesh|  ind|                71778|             81093120|                 0.09|\n",
      "|uttar pradesh|  ind|                73398|             81093120|                 0.09|\n",
      "+-------------+-----+---------------------+---------------------+---------------------+\n",
      "only showing top 20 rows\n",
      "\n"
     ]
    }
   ],
   "source": [
    "res_2014_df.filter(col(\"state_name\")==\"uttar pradesh\").show()"
   ]
  },
  {
   "cell_type": "code",
   "execution_count": null,
   "metadata": {
    "application/vnd.databricks.v1+cell": {
     "cellMetadata": {
      "byteLimit": 2048000,
      "rowLimit": 10000
     },
     "inputWidgets": {},
     "nuid": "94813e32-0652-4931-88d2-7e8f25aef4fc",
     "showTitle": false,
     "title": ""
    }
   },
   "outputs": [
    {
     "name": "stdout",
     "output_type": "stream",
     "text": [
      "+--------------------+-----+---------------------+---------------------+---------------------+\n",
      "|          state_name|party|total_partywise_votes|total_statewise_votes|vote_percentage_split|\n",
      "+--------------------+-----+---------------------+---------------------+---------------------+\n",
      "|andaman & nicobar...|  bjp|                90969|               190328|                 47.8|\n",
      "+--------------------+-----+---------------------+---------------------+---------------------+\n",
      "only showing top 1 row\n",
      "\n"
     ]
    }
   ],
   "source": [
    "res_2014_df.show(1)"
   ]
  },
  {
   "cell_type": "code",
   "execution_count": null,
   "metadata": {
    "application/vnd.databricks.v1+cell": {
     "cellMetadata": {
      "byteLimit": 2048000,
      "rowLimit": 10000
     },
     "inputWidgets": {},
     "nuid": "ac57007f-7533-4ee6-99ef-30f918f6bd7e",
     "showTitle": false,
     "title": ""
    }
   },
   "outputs": [],
   "source": [
    "res_2014_df.write.format(\"csv\")\\\n",
    ".option(\"header\",\"true\")\\\n",
    ".mode(\"overwrite\")\\\n",
    ".save(\"dbfs:/mnt/analytics/2014/vote_percentage_split_on_state_party_level\")"
   ]
  },
  {
   "cell_type": "markdown",
   "metadata": {
    "application/vnd.databricks.v1+cell": {
     "cellMetadata": {},
     "inputWidgets": {},
     "nuid": "0099c4aa-bb3e-476b-a03f-fc0a7eb29fe8",
     "showTitle": false,
     "title": ""
    }
   },
   "source": [
    "**in 2019**"
   ]
  },
  {
   "cell_type": "code",
   "execution_count": null,
   "metadata": {
    "application/vnd.databricks.v1+cell": {
     "cellMetadata": {
      "byteLimit": 2048000,
      "rowLimit": 10000
     },
     "inputWidgets": {},
     "nuid": "0c021767-adfd-470e-91c6-5b09d94729c0",
     "showTitle": false,
     "title": ""
    }
   },
   "outputs": [],
   "source": [
    "res_2019_df = spark.sql(\"\"\"\n",
    "with cte as \n",
    "(\n",
    "select state_id,sum(total_votes) as total_statewise_votes\n",
    "from fact_2019_table\n",
    "group by state_id  \n",
    "),\n",
    "cte2 as \n",
    "(\n",
    "select state_id,party_id,\n",
    "sum(total_votes) as total_partywise_votes  \n",
    "from fact_2019_table \n",
    "group by state_id,party_id\n",
    "),\n",
    "cte3 as \n",
    "(\n",
    "select cte2.*,cte.total_statewise_votes,\n",
    "round(((cte2.total_partywise_votes/total_statewise_votes)*100),2) as vote_percentage_split\n",
    "from cte2 \n",
    "inner join cte \n",
    "on cte.state_id = cte2.state_id \n",
    "),\n",
    "cte4 as \n",
    "(\n",
    "select dim_states_table.state_name,cte3.party_id,\n",
    "cte3.total_partywise_votes,cte3.total_statewise_votes,cte3.vote_percentage_split\n",
    "from cte3 \n",
    "inner join dim_states_table \n",
    "on dim_states_table.state_id = cte3.state_id\n",
    ")\n",
    "select cte4.state_name, dim_parties_2019_table.party,cte4.total_partywise_votes,cte4.total_statewise_votes,\n",
    "cte4.vote_percentage_split\n",
    "from cte4 \n",
    "inner join dim_parties_2019_table \n",
    "on cte4.party_id = dim_parties_2019_table.party_id \n",
    "order by state_name asc,vote_percentage_split desc\n",
    "\"\"\")"
   ]
  },
  {
   "cell_type": "code",
   "execution_count": null,
   "metadata": {
    "application/vnd.databricks.v1+cell": {
     "cellMetadata": {
      "byteLimit": 2048000,
      "rowLimit": 10000
     },
     "inputWidgets": {},
     "nuid": "93a964cd-de50-40b9-a46d-4d0fcc5a93e5",
     "showTitle": false,
     "title": ""
    }
   },
   "outputs": [
    {
     "name": "stdout",
     "output_type": "stream",
     "text": [
      "+-------------+-------+---------------------+---------------------+---------------------+\n",
      "|   state_name|  party|total_partywise_votes|total_statewise_votes|vote_percentage_split|\n",
      "+-------------+-------+---------------------+---------------------+---------------------+\n",
      "|uttar pradesh|    bjp|             42858171|             86481398|                49.56|\n",
      "|uttar pradesh|    bsp|             16659754|             86481398|                19.26|\n",
      "|uttar pradesh|     sp|             15533620|             86481398|                17.96|\n",
      "|uttar pradesh|    inc|              5457352|             86481398|                 6.31|\n",
      "|uttar pradesh|    rld|              1447363|             86481398|                 1.67|\n",
      "|uttar pradesh|   adal|              1039478|             86481398|                  1.2|\n",
      "|uttar pradesh|   nota|               725097|             86481398|                 0.84|\n",
      "|uttar pradesh|   sbsp|               277308|             86481398|                 0.32|\n",
      "|uttar pradesh|   pspl|               265580|             86481398|                 0.31|\n",
      "|uttar pradesh|    jdl|               203369|             86481398|                 0.24|\n",
      "|uttar pradesh|    cpi|               119223|             86481398|                 0.14|\n",
      "|uttar pradesh|    ind|                72505|             86481398|                 0.08|\n",
      "|uttar pradesh|    ind|                59935|             86481398|                 0.07|\n",
      "|uttar pradesh|bhaprap|                40624|             86481398|                 0.05|\n",
      "|uttar pradesh|    ind|                45509|             86481398|                 0.05|\n",
      "|uttar pradesh|   madp|                44703|             86481398|                 0.05|\n",
      "|uttar pradesh|    ind|                40075|             86481398|                 0.05|\n",
      "|uttar pradesh|    ind|                36027|             86481398|                 0.04|\n",
      "|uttar pradesh|   bmup|                35361|             86481398|                 0.04|\n",
      "|uttar pradesh|    ind|                37852|             86481398|                 0.04|\n",
      "+-------------+-------+---------------------+---------------------+---------------------+\n",
      "only showing top 20 rows\n",
      "\n"
     ]
    }
   ],
   "source": [
    "res_2019_df.filter(col(\"state_name\")==\"uttar pradesh\").show()"
   ]
  },
  {
   "cell_type": "code",
   "execution_count": null,
   "metadata": {
    "application/vnd.databricks.v1+cell": {
     "cellMetadata": {
      "byteLimit": 2048000,
      "rowLimit": 10000
     },
     "inputWidgets": {},
     "nuid": "c0611ee3-2a52-465b-bb53-a64f20b701aa",
     "showTitle": false,
     "title": ""
    }
   },
   "outputs": [],
   "source": [
    "res_2019_df.write.format(\"csv\")\\\n",
    ".option(\"header\",\"true\")\\\n",
    ".mode(\"overwrite\")\\\n",
    ".save(\"dbfs:/mnt/analytics/2019/vote_percentage_split_on_state_party_level\")"
   ]
  },
  {
   "cell_type": "markdown",
   "metadata": {
    "application/vnd.databricks.v1+cell": {
     "cellMetadata": {},
     "inputWidgets": {},
     "nuid": "1abc1260-03f8-4dc1-af69-974d77b75aa7",
     "showTitle": false,
     "title": ""
    }
   },
   "source": [
    "# 8. List top 5 constituencies for two major national parties where they have gained vote\n",
    "# share in 2019 as compared to 2014."
   ]
  },
  {
   "cell_type": "markdown",
   "metadata": {
    "application/vnd.databricks.v1+cell": {
     "cellMetadata": {},
     "inputWidgets": {},
     "nuid": "9196fca7-9341-4bf2-a0c4-c62621b25951",
     "showTitle": false,
     "title": ""
    }
   },
   "source": [
    "**drawing inference from question 6 results and general knowledge that 2 major national parties are bjp and inc**"
   ]
  },
  {
   "cell_type": "markdown",
   "metadata": {
    "application/vnd.databricks.v1+cell": {
     "cellMetadata": {},
     "inputWidgets": {},
     "nuid": "ef45c419-78b1-470b-a974-f0bc00231436",
     "showTitle": false,
     "title": ""
    }
   },
   "source": [
    "**bjp case**"
   ]
  },
  {
   "cell_type": "code",
   "execution_count": null,
   "metadata": {
    "application/vnd.databricks.v1+cell": {
     "cellMetadata": {
      "byteLimit": 2048000,
      "rowLimit": 10000
     },
     "inputWidgets": {},
     "nuid": "00bef416-c8b1-4f86-8884-c98ca50384f9",
     "showTitle": false,
     "title": ""
    }
   },
   "outputs": [
    {
     "name": "stdout",
     "output_type": "stream",
     "text": [
      "+--------+-----+------------+\n",
      "|party_id|party|party_symbol|\n",
      "+--------+-----+------------+\n",
      "|     134|  bjp|       lotus|\n",
      "+--------+-----+------------+\n",
      "\n"
     ]
    }
   ],
   "source": [
    "spark.sql(\"\"\"\n",
    "select * from dim_parties_2014_table \n",
    "where party=\"bjp\"        \n",
    "\"\"\").show()"
   ]
  },
  {
   "cell_type": "code",
   "execution_count": null,
   "metadata": {
    "application/vnd.databricks.v1+cell": {
     "cellMetadata": {
      "byteLimit": 2048000,
      "rowLimit": 10000
     },
     "inputWidgets": {},
     "nuid": "0d6133e8-d604-499c-9d5d-f29254876b74",
     "showTitle": false,
     "title": ""
    }
   },
   "outputs": [
    {
     "name": "stdout",
     "output_type": "stream",
     "text": [
      "+-----+------------+--------+\n",
      "|party|party_symbol|party_id|\n",
      "+-----+------------+--------+\n",
      "|  bjp|       lotus|     180|\n",
      "+-----+------------+--------+\n",
      "\n"
     ]
    }
   ],
   "source": [
    "spark.sql(\"\"\"\n",
    "select * from dim_parties_2019_table \n",
    "where party=\"bjp\"        \n",
    "\"\"\").show()"
   ]
  },
  {
   "cell_type": "code",
   "execution_count": null,
   "metadata": {
    "application/vnd.databricks.v1+cell": {
     "cellMetadata": {
      "byteLimit": 2048000,
      "rowLimit": 10000
     },
     "inputWidgets": {},
     "nuid": "aba71368-11a8-48aa-9d3e-6bf8443448ff",
     "showTitle": false,
     "title": ""
    }
   },
   "outputs": [],
   "source": [
    "bjp_vote_share_df = spark.sql(\"\"\" \n",
    "with q1 as \n",
    "(\n",
    "select pc_name,total_votes as bjp_total_votes\n",
    "from fact_2014_table \n",
    "where party_id = 134   \n",
    "),\n",
    "q2 as \n",
    "(\n",
    "select pc_name,sum(total_votes) as total_constituency_wise_votes\n",
    "from fact_2014_table \n",
    "group by  pc_name\n",
    "),\n",
    "q3 as\n",
    "(\n",
    "select q2.pc_name,\n",
    "round((q1.bjp_total_votes/q2.total_constituency_wise_votes)*100,2) as vote_percentage_2014\n",
    "from q2\n",
    "inner join q1 \n",
    "on q2.pc_name = q1.pc_name\n",
    "),\n",
    "q4 as \n",
    "(\n",
    "select pc_name,total_votes as bjp_total_votes\n",
    "from fact_2019_table \n",
    "where party_id = 180   \n",
    "),\n",
    "q5 as \n",
    "(\n",
    "select pc_name,sum(total_votes) as total_constituency_wise_votes\n",
    "from fact_2019_table \n",
    "group by  pc_name\n",
    "),\n",
    "q6 as\n",
    "(\n",
    "select q4.pc_name,\n",
    "round((q4.bjp_total_votes/q5.total_constituency_wise_votes)*100,2) as vote_percentage_2019\n",
    "from q4\n",
    "inner join q5\n",
    "on q4.pc_name = q5.pc_name\n",
    "),\n",
    "q7 as\n",
    "(\n",
    "select q6.pc_name,q3.vote_percentage_2014,q6.vote_percentage_2019\n",
    "from q6 \n",
    "inner join q3 \n",
    "on q6.pc_name = q3.pc_name\n",
    "),\n",
    "vote_percentage_change as \n",
    "(\n",
    "select *,\n",
    "round((vote_percentage_2019-vote_percentage_2014),2) as change_in_vote_share_percentage\n",
    "from q7\n",
    ")\n",
    "select * from vote_percentage_change\n",
    "\"\"\")"
   ]
  },
  {
   "cell_type": "code",
   "execution_count": null,
   "metadata": {
    "application/vnd.databricks.v1+cell": {
     "cellMetadata": {
      "byteLimit": 2048000,
      "rowLimit": 10000
     },
     "inputWidgets": {},
     "nuid": "5b864f64-341b-4090-9a9d-77acd8bec8ef",
     "showTitle": false,
     "title": ""
    }
   },
   "outputs": [],
   "source": [
    "top_5_bjp_vote_share_gain_df = bjp_vote_share_df.orderBy(col(\"change_in_vote_share_percentage\").desc()).limit(5) \n",
    "\n"
   ]
  },
  {
   "cell_type": "code",
   "execution_count": null,
   "metadata": {
    "application/vnd.databricks.v1+cell": {
     "cellMetadata": {
      "byteLimit": 2048000,
      "rowLimit": 10000
     },
     "inputWidgets": {},
     "nuid": "3980f655-044f-48b0-99c6-f7b5d903c16d",
     "showTitle": false,
     "title": ""
    }
   },
   "outputs": [
    {
     "name": "stdout",
     "output_type": "stream",
     "text": [
      "+------------+--------------------+--------------------+-------------------------------+\n",
      "|     pc_name|vote_percentage_2014|vote_percentage_2019|change_in_vote_share_percentage|\n",
      "+------------+--------------------+--------------------+-------------------------------+\n",
      "|tripura west|                 5.1|               51.77|                          46.67|\n",
      "|     purulia|                7.16|                49.3|                          42.14|\n",
      "|tripura east|                6.37|               46.12|                          39.75|\n",
      "|    ranaghat|               17.27|               52.78|                          35.51|\n",
      "|    jhargram|                9.74|               44.56|                          34.82|\n",
      "+------------+--------------------+--------------------+-------------------------------+\n",
      "\n"
     ]
    }
   ],
   "source": [
    "top_5_bjp_vote_share_gain_df.show() "
   ]
  },
  {
   "cell_type": "code",
   "execution_count": null,
   "metadata": {
    "application/vnd.databricks.v1+cell": {
     "cellMetadata": {
      "byteLimit": 2048000,
      "rowLimit": 10000
     },
     "inputWidgets": {},
     "nuid": "6e53a838-ed41-4e94-9676-f0ed0477492c",
     "showTitle": false,
     "title": ""
    }
   },
   "outputs": [],
   "source": [
    "top_5_bjp_vote_share_gain_df.write.format(\"csv\")\\\n",
    ".option(\"header\",\"true\")\\\n",
    ".mode(\"overwrite\")\\\n",
    ".save(\"dbfs:/mnt/analytics/general/top_5_constituencies_where_bjp_has_vote_share_gain\")"
   ]
  },
  {
   "cell_type": "markdown",
   "metadata": {
    "application/vnd.databricks.v1+cell": {
     "cellMetadata": {},
     "inputWidgets": {},
     "nuid": "96216f3a-3a09-4dc1-98ab-6dd816509bef",
     "showTitle": false,
     "title": ""
    }
   },
   "source": [
    "**inc case**"
   ]
  },
  {
   "cell_type": "code",
   "execution_count": null,
   "metadata": {
    "application/vnd.databricks.v1+cell": {
     "cellMetadata": {
      "byteLimit": 2048000,
      "rowLimit": 10000
     },
     "inputWidgets": {},
     "nuid": "324b00e3-c06b-4e90-b20b-ce2e0797f2ce",
     "showTitle": false,
     "title": ""
    }
   },
   "outputs": [
    {
     "name": "stdout",
     "output_type": "stream",
     "text": [
      "+--------+-----+------------+\n",
      "|party_id|party|party_symbol|\n",
      "+--------+-----+------------+\n",
      "|     258|  inc|        hand|\n",
      "+--------+-----+------------+\n",
      "\n"
     ]
    }
   ],
   "source": [
    "spark.sql(\"\"\"\n",
    "select * from dim_parties_2014_table \n",
    "where party=\"inc\"        \n",
    "\"\"\").show()"
   ]
  },
  {
   "cell_type": "code",
   "execution_count": null,
   "metadata": {
    "application/vnd.databricks.v1+cell": {
     "cellMetadata": {
      "byteLimit": 2048000,
      "rowLimit": 10000
     },
     "inputWidgets": {},
     "nuid": "98667937-6ee2-407a-9f82-78a578bd6536",
     "showTitle": false,
     "title": ""
    }
   },
   "outputs": [
    {
     "name": "stdout",
     "output_type": "stream",
     "text": [
      "+-----+------------+--------+\n",
      "|party|party_symbol|party_id|\n",
      "+-----+------------+--------+\n",
      "|  inc|        hand|     332|\n",
      "+-----+------------+--------+\n",
      "\n"
     ]
    }
   ],
   "source": [
    "spark.sql(\"\"\"\n",
    "select * from dim_parties_2019_table \n",
    "where party=\"inc\"        \n",
    "\"\"\").show()"
   ]
  },
  {
   "cell_type": "code",
   "execution_count": null,
   "metadata": {
    "application/vnd.databricks.v1+cell": {
     "cellMetadata": {
      "byteLimit": 2048000,
      "rowLimit": 10000
     },
     "inputWidgets": {},
     "nuid": "1b558b34-8619-4cb4-9a8a-eb6b55561daa",
     "showTitle": false,
     "title": ""
    }
   },
   "outputs": [],
   "source": [
    "inc_vote_share_df = spark.sql(\"\"\" \n",
    "with q1 as \n",
    "(\n",
    "select pc_name,total_votes as inc_total_votes\n",
    "from fact_2014_table \n",
    "where party_id = 258   \n",
    "),\n",
    "q2 as \n",
    "(\n",
    "select pc_name,sum(total_votes) as total_constituency_wise_votes\n",
    "from fact_2019_table \n",
    "group by  pc_name\n",
    "),\n",
    "q3 as\n",
    "(\n",
    "select q2.pc_name,\n",
    "round((q1.inc_total_votes/q2.total_constituency_wise_votes)*100,2) as vote_percentage_2014\n",
    "from q2\n",
    "inner join q1 \n",
    "on q2.pc_name = q1.pc_name\n",
    "),\n",
    "q4 as \n",
    "(\n",
    "select pc_name,total_votes as inc_total_votes\n",
    "from fact_2019_table \n",
    "where party_id = 332   \n",
    "),\n",
    "q5 as \n",
    "(\n",
    "select pc_name,sum(total_votes) as total_constituency_wise_votes\n",
    "from fact_2019_table \n",
    "group by  pc_name\n",
    "),\n",
    "q6 as\n",
    "(\n",
    "select q4.pc_name,\n",
    "round((q4.inc_total_votes/q5.total_constituency_wise_votes)*100,2) as vote_percentage_2019\n",
    "from q4\n",
    "inner join q5\n",
    "on q4.pc_name = q5.pc_name\n",
    "),\n",
    "q7 as\n",
    "(\n",
    "select q6.pc_name,q3.vote_percentage_2014,q6.vote_percentage_2019\n",
    "from q6 \n",
    "inner join q3 \n",
    "on q6.pc_name = q3.pc_name\n",
    "),\n",
    "vote_percentage_change as \n",
    "(\n",
    "select *,\n",
    "round((vote_percentage_2019-vote_percentage_2014),2) as change_in_vote_share_percentage\n",
    "from q7\n",
    ")\n",
    "select * from vote_percentage_change\n",
    "\"\"\")"
   ]
  },
  {
   "cell_type": "code",
   "execution_count": null,
   "metadata": {
    "application/vnd.databricks.v1+cell": {
     "cellMetadata": {
      "byteLimit": 2048000,
      "rowLimit": 10000
     },
     "inputWidgets": {},
     "nuid": "ab4a9ce2-dabc-4977-8a2e-3c25308251a9",
     "showTitle": false,
     "title": ""
    }
   },
   "outputs": [],
   "source": [
    "top_5_inc_vote_share_gain_df = inc_vote_share_df.orderBy(col(\"change_in_vote_share_percentage\").desc()).limit(5)"
   ]
  },
  {
   "cell_type": "code",
   "execution_count": null,
   "metadata": {
    "application/vnd.databricks.v1+cell": {
     "cellMetadata": {
      "byteLimit": 2048000,
      "rowLimit": 10000
     },
     "inputWidgets": {},
     "nuid": "7a5a5c8f-25ba-436f-a65a-20971910840e",
     "showTitle": false,
     "title": ""
    }
   },
   "outputs": [
    {
     "name": "stdout",
     "output_type": "stream",
     "text": [
      "+---------------+--------------------+--------------------+-------------------------------+\n",
      "|        pc_name|vote_percentage_2014|vote_percentage_2019|change_in_vote_share_percentage|\n",
      "+---------------+--------------------+--------------------+-------------------------------+\n",
      "|          karur|                2.76|               63.06|                           60.3|\n",
      "|tiruchirappalli|                4.92|               59.28|                          54.36|\n",
      "|          arani|                2.42|                54.0|                          51.58|\n",
      "|    thiruvallur|                3.12|               54.49|                          51.37|\n",
      "|    krishnagiri|                3.35|               52.64|                          49.29|\n",
      "+---------------+--------------------+--------------------+-------------------------------+\n",
      "\n"
     ]
    }
   ],
   "source": [
    "top_5_inc_vote_share_gain_df.show()"
   ]
  },
  {
   "cell_type": "code",
   "execution_count": null,
   "metadata": {
    "application/vnd.databricks.v1+cell": {
     "cellMetadata": {
      "byteLimit": 2048000,
      "rowLimit": 10000
     },
     "inputWidgets": {},
     "nuid": "237e43f5-817b-465e-ae44-8a95cbef10f7",
     "showTitle": false,
     "title": ""
    }
   },
   "outputs": [],
   "source": [
    "top_5_inc_vote_share_gain_df.write.format(\"csv\")\\\n",
    ".option(\"header\",\"true\")\\\n",
    ".mode(\"overwrite\")\\\n",
    ".save(\"dbfs:/mnt/analytics/general/top_5_constituencies_where_inc_has_vote_share_gain\")"
   ]
  },
  {
   "cell_type": "markdown",
   "metadata": {
    "application/vnd.databricks.v1+cell": {
     "cellMetadata": {},
     "inputWidgets": {},
     "nuid": "02b353bd-8d1e-4c17-81a1-8bfba0ce40f7",
     "showTitle": false,
     "title": ""
    }
   },
   "source": [
    "# 9. List top 5 constituencies for two major national parties where they have lost vote\n",
    "# share in 2019 as compared to 2014."
   ]
  },
  {
   "cell_type": "markdown",
   "metadata": {
    "application/vnd.databricks.v1+cell": {
     "cellMetadata": {},
     "inputWidgets": {},
     "nuid": "34c6a8ad-3220-4069-b87a-e65e14101a4c",
     "showTitle": false,
     "title": ""
    }
   },
   "source": [
    "**bjp case**"
   ]
  },
  {
   "cell_type": "code",
   "execution_count": null,
   "metadata": {
    "application/vnd.databricks.v1+cell": {
     "cellMetadata": {
      "byteLimit": 2048000,
      "rowLimit": 10000
     },
     "inputWidgets": {},
     "nuid": "c80be8cc-d549-4401-a4d2-c778ba7fe295",
     "showTitle": false,
     "title": ""
    }
   },
   "outputs": [],
   "source": [
    "top_5_bjp_vote_share_loss_df = bjp_vote_share_df.orderBy(col(\"change_in_vote_share_percentage\").asc()).limit(5) "
   ]
  },
  {
   "cell_type": "code",
   "execution_count": null,
   "metadata": {
    "application/vnd.databricks.v1+cell": {
     "cellMetadata": {
      "byteLimit": 2048000,
      "rowLimit": 10000
     },
     "inputWidgets": {},
     "nuid": "5051a572-7768-417d-9e95-a9a43b227de0",
     "showTitle": false,
     "title": ""
    }
   },
   "outputs": [
    {
     "name": "stdout",
     "output_type": "stream",
     "text": [
      "+-------------+--------------------+--------------------+-------------------------------+\n",
      "|      pc_name|vote_percentage_2014|vote_percentage_2019|change_in_vote_share_percentage|\n",
      "+-------------+--------------------+--------------------+-------------------------------+\n",
      "|   narsapuram|               49.62|                1.05|                         -48.57|\n",
      "|visakhapatnam|               48.72|                2.73|                         -45.99|\n",
      "|     tirupati|               44.76|                1.23|                         -43.53|\n",
      "|       sangli|               58.43|               42.77|                         -15.66|\n",
      "|  daman & diu|               53.83|               42.98|                         -10.85|\n",
      "+-------------+--------------------+--------------------+-------------------------------+\n",
      "\n"
     ]
    }
   ],
   "source": [
    "top_5_bjp_vote_share_loss_df.show()"
   ]
  },
  {
   "cell_type": "code",
   "execution_count": null,
   "metadata": {
    "application/vnd.databricks.v1+cell": {
     "cellMetadata": {
      "byteLimit": 2048000,
      "rowLimit": 10000
     },
     "inputWidgets": {},
     "nuid": "8e53ca56-952c-4e65-b0cd-49af0e514b93",
     "showTitle": false,
     "title": ""
    }
   },
   "outputs": [],
   "source": [
    "top_5_bjp_vote_share_loss_df.write.format(\"csv\")\\\n",
    ".option(\"header\",\"true\")\\\n",
    ".mode(\"overwrite\")\\\n",
    ".save(\"dbfs:/mnt/analytics/general/top_5_constituencies_where_bjp_has_vote_share_loss\")"
   ]
  },
  {
   "cell_type": "markdown",
   "metadata": {
    "application/vnd.databricks.v1+cell": {
     "cellMetadata": {},
     "inputWidgets": {},
     "nuid": "2b958e3c-945e-4dd9-937f-2d73df324898",
     "showTitle": false,
     "title": ""
    }
   },
   "source": [
    "**inc case**"
   ]
  },
  {
   "cell_type": "code",
   "execution_count": null,
   "metadata": {
    "application/vnd.databricks.v1+cell": {
     "cellMetadata": {
      "byteLimit": 2048000,
      "rowLimit": 10000
     },
     "inputWidgets": {},
     "nuid": "e2c121f0-66de-4237-995a-9f6d20daafb7",
     "showTitle": false,
     "title": ""
    }
   },
   "outputs": [],
   "source": [
    "top_5_inc_vote_share_loss_df = inc_vote_share_df.orderBy(col(\"change_in_vote_share_percentage\").asc()).limit(5)"
   ]
  },
  {
   "cell_type": "code",
   "execution_count": null,
   "metadata": {
    "application/vnd.databricks.v1+cell": {
     "cellMetadata": {
      "byteLimit": 2048000,
      "rowLimit": 10000
     },
     "inputWidgets": {},
     "nuid": "2a6d33f7-acaf-430e-922d-8b135067b602",
     "showTitle": false,
     "title": ""
    }
   },
   "outputs": [
    {
     "name": "stdout",
     "output_type": "stream",
     "text": [
      "+--------------------+--------------------+--------------------+-------------------------------+\n",
      "|             pc_name|vote_percentage_2014|vote_percentage_2019|change_in_vote_share_percentage|\n",
      "+--------------------+--------------------+--------------------+-------------------------------+\n",
      "|ratnagiri - sindh...|               38.07|                7.02|                         -31.05|\n",
      "|      arunachal west|               35.62|               14.22|                          -21.4|\n",
      "|           nizamabad|               25.61|                6.52|                         -19.09|\n",
      "|             raiganj|               24.73|                6.55|                         -18.18|\n",
      "|       outer manipur|               34.59|               17.77|                         -16.82|\n",
      "+--------------------+--------------------+--------------------+-------------------------------+\n",
      "\n"
     ]
    }
   ],
   "source": [
    "top_5_inc_vote_share_loss_df.show()"
   ]
  },
  {
   "cell_type": "code",
   "execution_count": null,
   "metadata": {
    "application/vnd.databricks.v1+cell": {
     "cellMetadata": {
      "byteLimit": 2048000,
      "rowLimit": 10000
     },
     "inputWidgets": {},
     "nuid": "dac446e3-cbc6-4313-ad4b-13edf65786f7",
     "showTitle": false,
     "title": ""
    }
   },
   "outputs": [],
   "source": [
    "top_5_inc_vote_share_loss_df.write.format(\"csv\")\\\n",
    ".option(\"header\",\"true\")\\\n",
    ".mode(\"overwrite\")\\\n",
    ".save(\"dbfs:/mnt/analytics/general/top_5_constituencies_where_inc_has_vote_share_loss\")"
   ]
  },
  {
   "cell_type": "markdown",
   "metadata": {
    "application/vnd.databricks.v1+cell": {
     "cellMetadata": {},
     "inputWidgets": {},
     "nuid": "6e50a251-e8eb-4b1e-a11d-91ae561ed871",
     "showTitle": false,
     "title": ""
    }
   },
   "source": [
    "# 10.Which constituency has voted the most for NOTA?"
   ]
  },
  {
   "cell_type": "markdown",
   "metadata": {
    "application/vnd.databricks.v1+cell": {
     "cellMetadata": {},
     "inputWidgets": {},
     "nuid": "d3e1fc7e-c861-4a73-9a57-bf30334c4c62",
     "showTitle": false,
     "title": ""
    }
   },
   "source": [
    "**2014 case**"
   ]
  },
  {
   "cell_type": "code",
   "execution_count": null,
   "metadata": {
    "application/vnd.databricks.v1+cell": {
     "cellMetadata": {
      "byteLimit": 2048000,
      "rowLimit": 10000
     },
     "inputWidgets": {},
     "nuid": "2de5f12a-5397-4599-93bc-2cc754f55af5",
     "showTitle": false,
     "title": ""
    }
   },
   "outputs": [
    {
     "name": "stdout",
     "output_type": "stream",
     "text": [
      "+------------+---------+---+---+--------+\n",
      "|candidate_id|candidate|sex|age|category|\n",
      "+------------+---------+---+---+--------+\n",
      "|        4617|     nota| na| -1|      na|\n",
      "+------------+---------+---+---+--------+\n",
      "\n"
     ]
    }
   ],
   "source": [
    "spark.sql(\"\"\"\n",
    "select *\n",
    "from dim_candidates_2014_table \n",
    "where candidate=\"nota\"\n",
    "\"\"\").show()"
   ]
  },
  {
   "cell_type": "code",
   "execution_count": null,
   "metadata": {
    "application/vnd.databricks.v1+cell": {
     "cellMetadata": {
      "byteLimit": 2048000,
      "rowLimit": 10000
     },
     "inputWidgets": {},
     "nuid": "e0bd74ea-0e66-414e-b879-b5dfb8a9c189",
     "showTitle": false,
     "title": ""
    }
   },
   "outputs": [],
   "source": [
    "top_5_constituencies_voting_nota_2014 = spark.sql(\"\"\"\n",
    "with only_nota_data as \n",
    "(\n",
    "select pc_name,total_votes as nota_total_votes\n",
    "from fact_2014_table\n",
    "where candidate_id = 4617\n",
    "),\n",
    "pc_wise_votes as \n",
    "( \n",
    "select pc_name,sum(total_votes) as constituency_wise_total_votes\n",
    "from fact_2014_table \n",
    "group by pc_name\n",
    ") \n",
    "select only_nota_data.pc_name,\n",
    "round((only_nota_data.nota_total_votes/pc_wise_votes.constituency_wise_total_votes)*100,2) as nota_vote_percentage\n",
    "from only_nota_data \n",
    "inner join pc_wise_votes \n",
    "on only_nota_data.pc_name = pc_wise_votes.pc_name \n",
    "order by nota_vote_percentage desc \n",
    "limit 5\n",
    "\"\"\")"
   ]
  },
  {
   "cell_type": "code",
   "execution_count": null,
   "metadata": {
    "application/vnd.databricks.v1+cell": {
     "cellMetadata": {
      "byteLimit": 2048000,
      "rowLimit": 10000
     },
     "inputWidgets": {},
     "nuid": "679a4463-b331-4c4c-9267-33e5dd0e045e",
     "showTitle": false,
     "title": ""
    }
   },
   "outputs": [
    {
     "name": "stdout",
     "output_type": "stream",
     "text": [
      "+---------------+--------------------+\n",
      "|        pc_name|nota_vote_percentage|\n",
      "+---------------+--------------------+\n",
      "|       nilgiris|                4.99|\n",
      "|           tura|                4.19|\n",
      "|          dahod|                3.59|\n",
      "|      singhbhum|                 3.4|\n",
      "|samastipur (sc)|                3.38|\n",
      "+---------------+--------------------+\n",
      "\n"
     ]
    }
   ],
   "source": [
    "top_5_constituencies_voting_nota_2014.show()"
   ]
  },
  {
   "cell_type": "code",
   "execution_count": null,
   "metadata": {
    "application/vnd.databricks.v1+cell": {
     "cellMetadata": {
      "byteLimit": 2048000,
      "rowLimit": 10000
     },
     "inputWidgets": {},
     "nuid": "33d5cb29-2434-4bb1-8786-71896cdb6bfc",
     "showTitle": false,
     "title": ""
    }
   },
   "outputs": [],
   "source": [
    "top_5_constituencies_voting_nota_2014.write.format(\"csv\")\\\n",
    ".option(\"header\",\"true\")\\\n",
    ".mode(\"overwrite\")\\\n",
    ".save(\"dbfs:/mnt/analytics/2014/top_5_constituencies_voting_nota\")"
   ]
  },
  {
   "cell_type": "markdown",
   "metadata": {
    "application/vnd.databricks.v1+cell": {
     "cellMetadata": {},
     "inputWidgets": {},
     "nuid": "1be70b70-23fe-479f-8db1-2938c4ea0674",
     "showTitle": false,
     "title": ""
    }
   },
   "source": [
    "**2019 case**"
   ]
  },
  {
   "cell_type": "code",
   "execution_count": null,
   "metadata": {
    "application/vnd.databricks.v1+cell": {
     "cellMetadata": {
      "byteLimit": 2048000,
      "rowLimit": 10000
     },
     "inputWidgets": {},
     "nuid": "17cfd091-83bf-4fdc-ba05-5ad2d802726a",
     "showTitle": false,
     "title": ""
    }
   },
   "outputs": [
    {
     "name": "stdout",
     "output_type": "stream",
     "text": [
      "+------------+---------+---+---+--------+\n",
      "|candidate_id|candidate|sex|age|category|\n",
      "+------------+---------+---+---+--------+\n",
      "|        4721|     nota| na| -1|      na|\n",
      "+------------+---------+---+---+--------+\n",
      "\n"
     ]
    }
   ],
   "source": [
    "spark.sql(\"\"\"\n",
    "select *\n",
    "from dim_candidates_2019_table \n",
    "where candidate=\"nota\"\n",
    "\"\"\").show()"
   ]
  },
  {
   "cell_type": "code",
   "execution_count": null,
   "metadata": {
    "application/vnd.databricks.v1+cell": {
     "cellMetadata": {
      "byteLimit": 2048000,
      "rowLimit": 10000
     },
     "inputWidgets": {},
     "nuid": "46e7a50e-cda4-41a5-803c-71a50f93fe74",
     "showTitle": false,
     "title": ""
    }
   },
   "outputs": [],
   "source": [
    "top_5_constituencies_voting_nota_2019 = spark.sql(\"\"\"\n",
    "with only_nota_data as \n",
    "(\n",
    "select pc_name,total_votes as nota_total_votes\n",
    "from fact_2019_table\n",
    "where candidate_id = 4721\n",
    "),\n",
    "pc_wise_votes as \n",
    "( \n",
    "select pc_name,sum(total_votes) as constituency_wise_total_votes\n",
    "from fact_2019_table \n",
    "group by pc_name\n",
    ") \n",
    "select only_nota_data.pc_name,\n",
    "round((only_nota_data.nota_total_votes/pc_wise_votes.constituency_wise_total_votes)*100,2) as nota_vote_percentage\n",
    "from only_nota_data \n",
    "inner join pc_wise_votes \n",
    "on only_nota_data.pc_name = pc_wise_votes.pc_name \n",
    "order by nota_vote_percentage desc \n",
    "limit 5\n",
    "\"\"\")"
   ]
  },
  {
   "cell_type": "code",
   "execution_count": null,
   "metadata": {
    "application/vnd.databricks.v1+cell": {
     "cellMetadata": {
      "byteLimit": 2048000,
      "rowLimit": 10000
     },
     "inputWidgets": {},
     "nuid": "d8f2d9ee-c45a-4b82-a9d4-72516d55cfbc",
     "showTitle": false,
     "title": ""
    }
   },
   "outputs": [
    {
     "name": "stdout",
     "output_type": "stream",
     "text": [
      "+-----------------+--------------------+\n",
      "|          pc_name|nota_vote_percentage|\n",
      "+-----------------+--------------------+\n",
      "|   gopalganj (sc)|                5.04|\n",
      "|           bastar|                4.56|\n",
      "|paschim champaran|                4.51|\n",
      "|            aruku|                4.46|\n",
      "|       jamui (sc)|                4.16|\n",
      "+-----------------+--------------------+\n",
      "\n"
     ]
    }
   ],
   "source": [
    "top_5_constituencies_voting_nota_2019.show()"
   ]
  },
  {
   "cell_type": "code",
   "execution_count": null,
   "metadata": {
    "application/vnd.databricks.v1+cell": {
     "cellMetadata": {
      "byteLimit": 2048000,
      "rowLimit": 10000
     },
     "inputWidgets": {},
     "nuid": "73409515-7f91-40db-9e30-3ef038d9cbf2",
     "showTitle": false,
     "title": ""
    }
   },
   "outputs": [],
   "source": [
    "top_5_constituencies_voting_nota_2019.write.format(\"csv\")\\\n",
    ".option(\"header\",\"true\")\\\n",
    ".mode(\"overwrite\")\\\n",
    ".save(\"dbfs:/mnt/analytics/2019/top_5_constituencies_voting_nota\")"
   ]
  },
  {
   "cell_type": "markdown",
   "metadata": {
    "application/vnd.databricks.v1+cell": {
     "cellMetadata": {},
     "inputWidgets": {},
     "nuid": "c11f8821-3c30-4e19-8f2d-958ed2904058",
     "showTitle": false,
     "title": ""
    }
   },
   "source": [
    "# 11.Which constituencies have elected candidates whose party has less than 10% vote\n",
    "# share at state level in 2019?"
   ]
  },
  {
   "cell_type": "code",
   "execution_count": null,
   "metadata": {
    "application/vnd.databricks.v1+cell": {
     "cellMetadata": {
      "byteLimit": 2048000,
      "rowLimit": 10000
     },
     "inputWidgets": {},
     "nuid": "ee48a2d2-cc13-4972-bb52-0535ca47cfae",
     "showTitle": false,
     "title": ""
    }
   },
   "outputs": [],
   "source": [
    "res_df = spark.sql(\"\"\"\n",
    "with derive_party_votes as \n",
    "(\n",
    "select state_id,party_id,sum(total_votes) as total_party_votes\n",
    "from  fact_2019_table \n",
    "group by state_id,party_id\n",
    "\n",
    "),\n",
    "derive_state_votes as \n",
    "(\n",
    "select state_id,sum(total_votes) as total_state_votes\n",
    "from  fact_2019_table \n",
    "group by state_id\n",
    "),\n",
    "derive_vote_percentage_of_party_in_state as \n",
    "(\n",
    "select derive_state_votes.state_id,\n",
    "derive_party_votes.party_id,\n",
    "round((derive_party_votes.total_party_votes/derive_state_votes.total_state_votes)*100,2)\n",
    "as vote_percentage_of_party_in_state\n",
    "from derive_party_votes \n",
    "inner join derive_state_votes \n",
    "on derive_party_votes.state_id = derive_state_votes.state_id\n",
    "),\n",
    "derive_winning_candidates as \n",
    "(\n",
    "select state_id,pc_name,party_id,candidate_id,total_votes,\n",
    "row_number() over(partition by pc_name order by total_votes desc) as rn\n",
    "from fact_2019_table \n",
    "),\n",
    "winning_candidates as \n",
    "(\n",
    "select state_id,pc_name,party_id,candidate_id,total_votes\n",
    "from derive_winning_candidates \n",
    "where rn=1\n",
    "),\n",
    "join_vote_percentage_of_party_to_winning_candidates as \n",
    "(\n",
    "select winning_candidates.*,derive_vote_percentage_of_party_in_state.vote_percentage_of_party_in_state \n",
    "from winning_candidates \n",
    "inner join derive_vote_percentage_of_party_in_state \n",
    "on winning_candidates.state_id = derive_vote_percentage_of_party_in_state.state_id and \n",
    "winning_candidates.party_id = derive_vote_percentage_of_party_in_state.party_id\n",
    "),\n",
    "parties_with_less_than_10_percent_vote_share as \n",
    "(\n",
    "select * \n",
    "from join_vote_percentage_of_party_to_winning_candidates \n",
    "where vote_percentage_of_party_in_state < 10 \n",
    "),\n",
    "actual_party_names as \n",
    "(\n",
    "select parties_with_less_than_10_percent_vote_share.state_id,\n",
    "parties_with_less_than_10_percent_vote_share.pc_name,\n",
    "parties_with_less_than_10_percent_vote_share.candidate_id,\n",
    "dim_parties_2019_table.party,\n",
    "parties_with_less_than_10_percent_vote_share.vote_percentage_of_party_in_state\n",
    "from parties_with_less_than_10_percent_vote_share \n",
    "inner join dim_parties_2019_table \n",
    "on dim_parties_2019_table.party_id = parties_with_less_than_10_percent_vote_share.party_id\n",
    "),\n",
    "actual_candidate_names as \n",
    "(\n",
    "select actual_party_names.state_id,\n",
    "actual_party_names.pc_name,dim_candidates_2019_table.candidate,\n",
    "actual_party_names.party,actual_party_names.vote_percentage_of_party_in_state \n",
    "from actual_party_names \n",
    "inner join dim_candidates_2019_table \n",
    "on actual_party_names.candidate_id = dim_candidates_2019_table.candidate_id\n",
    "),\n",
    "actual_state_names as  \n",
    "(\n",
    "select dim_states_table.state_name,actual_candidate_names.pc_name,\n",
    "actual_candidate_names.candidate,actual_candidate_names.party,\n",
    "actual_candidate_names.vote_percentage_of_party_in_state\n",
    "from actual_candidate_names \n",
    "inner join dim_states_table \n",
    "on actual_candidate_names.state_id = dim_states_table.state_id\n",
    "),\n",
    "final_output as \n",
    "(\n",
    "select * from actual_state_names \n",
    ")\n",
    "select * from final_output \n",
    "order by vote_percentage_of_party_in_state asc\n",
    "\"\"\")"
   ]
  },
  {
   "cell_type": "code",
   "execution_count": null,
   "metadata": {
    "application/vnd.databricks.v1+cell": {
     "cellMetadata": {
      "byteLimit": 2048000,
      "rowLimit": 10000
     },
     "inputWidgets": {},
     "nuid": "24c7df14-606a-43c3-9045-f24b55638ecb",
     "showTitle": false,
     "title": ""
    }
   },
   "outputs": [
    {
     "name": "stdout",
     "output_type": "stream",
     "text": [
      "+-------------+--------------------+--------------------+------+---------------------------------+\n",
      "|   state_name|             pc_name|           candidate| party|vote_percentage_of_party_in_state|\n",
      "+-------------+--------------------+--------------------+------+---------------------------------+\n",
      "|  maharashtra|mumbai south central|rahul ramesh shewale|   shs|                             0.79|\n",
      "|  maharashtra|            amravati|    navnit ravi rana|   ind|                             0.95|\n",
      "|   tamil nadu|      ramanathapuram|        k. navaskani|  iuml|                             1.08|\n",
      "|   tamil nadu|         chidambaram|thirumaavalavan thol|   vck|                             1.15|\n",
      "|uttar pradesh|         robertsganj|     pakauri lal kol|  adal|                              1.2|\n",
      "|uttar pradesh|            mirzapur|anupriya singh patel|  adal|                              1.2|\n",
      "|    rajasthan|              nagaur|     hanuman beniwal|  rltp|                             2.03|\n",
      "|    karnataka|              mandya| sumalatha ambareesh|   ind|                             2.05|\n",
      "|       kerala|            kottayam|  thomas chazhikadan|kec(m)|                             2.07|\n",
      "|   tamil nadu|             madurai|        venkatesan s|  cpim|                             2.35|\n",
      "|   tamil nadu|          coimbatore|      natarajan. p.r|  cpim|                             2.35|\n",
      "|   tamil nadu|            tiruppur|      subbarayan, k.|   cpi|                             2.38|\n",
      "|   tamil nadu|        nagapattinam|          selvaraj m|   cpi|                             2.38|\n",
      "|       kerala|              kollam|   n.k.premachandran|   rsp|                             2.45|\n",
      "|    telangana|           hyderabad|    asaduddin owaisi| aimim|                             2.78|\n",
      "|        assam|           kokrajhar|  naba kumar sarania|   ind|                             2.91|\n",
      "|    jharkhand|             giridih|chandra prakash c...| ajsup|                             4.33|\n",
      "|       kerala|             ponnani|e. t. mohammed ba...|  iuml|                             5.45|\n",
      "|       kerala|          malappuram|   p.k. kunhalikutty|  iuml|                             5.45|\n",
      "|  west bengal|     maldaha dakshin|abu hasem khan ch...|   inc|                             5.61|\n",
      "+-------------+--------------------+--------------------+------+---------------------------------+\n",
      "only showing top 20 rows\n",
      "\n"
     ]
    }
   ],
   "source": [
    "res_df.show()"
   ]
  },
  {
   "cell_type": "code",
   "execution_count": null,
   "metadata": {
    "application/vnd.databricks.v1+cell": {
     "cellMetadata": {
      "byteLimit": 2048000,
      "rowLimit": 10000
     },
     "inputWidgets": {},
     "nuid": "0ef17a44-87fb-484c-bb91-3bf9be597767",
     "showTitle": false,
     "title": ""
    }
   },
   "outputs": [
    {
     "data": {
      "text/plain": [
       "37"
      ]
     },
     "execution_count": 1408,
     "metadata": {},
     "output_type": "execute_result"
    }
   ],
   "source": [
    "res_df.count()"
   ]
  },
  {
   "cell_type": "code",
   "execution_count": null,
   "metadata": {
    "application/vnd.databricks.v1+cell": {
     "cellMetadata": {
      "byteLimit": 2048000,
      "rowLimit": 10000
     },
     "inputWidgets": {},
     "nuid": "d0ec8489-1b0a-4640-b917-0379a6ee76fe",
     "showTitle": false,
     "title": ""
    }
   },
   "outputs": [],
   "source": [
    "res_df.write.format(\"csv\")\\\n",
    ".option(\"header\",\"true\")\\\n",
    ".mode(\"overwrite\")\\\n",
    ".save(\"dbfs:/mnt/analytics/2019/winning_candidates_whose_parties_have_less_than_10_percent_share_at_state_level\")"
   ]
  },
  {
   "cell_type": "markdown",
   "metadata": {
    "application/vnd.databricks.v1+cell": {
     "cellMetadata": {},
     "inputWidgets": {},
     "nuid": "cbb4743e-2cb5-4cec-8d58-a6cd82110874",
     "showTitle": false,
     "title": ""
    }
   },
   "source": [
    "## Correlation refers to the statistical relationship between the two entities. It measures the extent to which two variables are linearly related. For example, the height and weight of a person are related, and taller people tend to be heavier than shorter people"
   ]
  },
  {
   "cell_type": "markdown",
   "metadata": {
    "application/vnd.databricks.v1+cell": {
     "cellMetadata": {},
     "inputWidgets": {},
     "nuid": "0aa37801-7221-42ad-a8f0-5868030c09e0",
     "showTitle": false,
     "title": ""
    }
   },
   "source": [
    "## The correlation coefficient is usually represented using the symbol r, and it ranges from -1 to +1.\n",
    "## \n",
    "## A correlation coefficient quite close to 0, but either positive or negative, implies little or no relationship between the two variables. A correlation coefficient close to plus 1 means a positive relationship between the two variables, with increases in one of the variables being associated with increases in the other variable.\n",
    "## \n",
    "## A correlation coefficient close to -1 indicates a negative relationship between two variables, with an increase in one of the variables being associated with a decrease in the other variable."
   ]
  },
  {
   "cell_type": "markdown",
   "metadata": {
    "application/vnd.databricks.v1+cell": {
     "cellMetadata": {},
     "inputWidgets": {},
     "nuid": "eb3f8d76-2523-462a-8f75-5ab2cf4d0e40",
     "showTitle": false,
     "title": ""
    }
   },
   "source": [
    "# Secondary Analysis"
   ]
  },
  {
   "cell_type": "markdown",
   "metadata": {
    "application/vnd.databricks.v1+cell": {
     "cellMetadata": {},
     "inputWidgets": {},
     "nuid": "0e861ef0-42a2-4bb7-9a67-9c6d37723241",
     "showTitle": false,
     "title": ""
    }
   },
   "source": [
    "# Is there a correlation between postalvotes % and voter turnout %?"
   ]
  },
  {
   "cell_type": "code",
   "execution_count": null,
   "metadata": {
    "application/vnd.databricks.v1+cell": {
     "cellMetadata": {
      "byteLimit": 2048000,
      "rowLimit": 10000
     },
     "inputWidgets": {},
     "nuid": "546c78a7-b320-4969-b34f-2e81cb88c5c3",
     "showTitle": false,
     "title": ""
    }
   },
   "outputs": [],
   "source": [
    "df_2019 = spark.sql(\"\"\"\n",
    "with state_wise as \n",
    "(\n",
    "select state_id,\n",
    "sum(total_votes) as state_wise_total_votes,\n",
    "sum(postal_votes) as state_wise_postal_votes,\n",
    "sum(total_electors) as state_wise_total_electors\n",
    "from fact_2019_table \n",
    "group by state_id\n",
    "), \n",
    "compute_turn_out_percentages as \n",
    "(\n",
    "select state_id,\n",
    "round((state_wise_total_votes/state_wise_total_electors)*100,2) as voter_turnout_percentage,\n",
    "round((state_wise_postal_votes/state_wise_total_electors)*100,2) as postal_turnout_percentage\n",
    "from state_wise\n",
    ")\n",
    "select dim_states_table.state_name,\n",
    "compute_turn_out_percentages.voter_turnout_percentage,\n",
    "compute_turn_out_percentages.postal_turnout_percentage\n",
    "from compute_turn_out_percentages\n",
    "inner join dim_states_table \n",
    "on dim_states_table.state_id = compute_turn_out_percentages.state_id\n",
    "\"\"\")"
   ]
  },
  {
   "cell_type": "code",
   "execution_count": null,
   "metadata": {
    "application/vnd.databricks.v1+cell": {
     "cellMetadata": {
      "byteLimit": 2048000,
      "rowLimit": 10000
     },
     "inputWidgets": {},
     "nuid": "e84c2ea9-e74f-4832-820e-0efde33194c1",
     "showTitle": false,
     "title": ""
    }
   },
   "outputs": [
    {
     "name": "stdout",
     "output_type": "stream",
     "text": [
      "+--------------------+------------------------+-------------------------+\n",
      "|          state_name|voter_turnout_percentage|postal_turnout_percentage|\n",
      "+--------------------+------------------------+-------------------------+\n",
      "|          tamil nadu|                    3.18|                     0.02|\n",
      "|       uttar pradesh|                    4.47|                     0.01|\n",
      "|              punjab|                    2.94|                     0.01|\n",
      "|              odisha|                    7.85|                     0.02|\n",
      "|          puducherry|                    4.28|                      0.0|\n",
      "|             haryana|                    3.02|                     0.01|\n",
      "|           meghalaya|                   12.15|                     0.02|\n",
      "|andaman & nicobar...|                    4.07|                      0.0|\n",
      "|    himachal pradesh|                    5.89|                     0.07|\n",
      "|           karnataka|                    3.71|                     0.01|\n",
      "|          chandigarh|                    1.91|                      0.0|\n",
      "|   arunachal pradesh|                   11.34|                     0.44|\n",
      "|         maharashtra|                    3.15|                     0.01|\n",
      "|               bihar|                    3.42|                     0.01|\n",
      "|      madhya pradesh|                    4.37|                     0.01|\n",
      "|           jharkhand|                    3.77|                     0.01|\n",
      "|              kerala|                    6.28|                     0.02|\n",
      "|         daman & diu|                   14.37|                      0.0|\n",
      "|         uttarakhand|                    5.33|                     0.07|\n",
      "|               assam|                    6.96|                     0.02|\n",
      "|dadra & nagar haveli|                    6.63|                      0.0|\n",
      "|             mizoram|                    9.01|                     0.05|\n",
      "|        chhattisgarh|                    4.29|                     0.01|\n",
      "|                 goa|                   10.73|                     0.02|\n",
      "|        nct of delhi|                    2.53|                      0.0|\n",
      "|            nagaland|                   16.58|                     0.07|\n",
      "|           rajasthan|                    6.01|                     0.03|\n",
      "|             manipur|                    7.91|                     0.05|\n",
      "|           telangana|                    2.41|                      0.0|\n",
      "|             gujarat|                    4.18|                     0.02|\n",
      "|             tripura|                    6.56|                     0.03|\n",
      "|     jammu & kashmir|                    2.72|                     0.03|\n",
      "|      andhra pradesh|                    5.81|                     0.04|\n",
      "|              sikkim|                    6.75|                     0.23|\n",
      "|         lakshadweep|                   12.17|                     0.03|\n",
      "|         west bengal|                     6.8|                     0.01|\n",
      "+--------------------+------------------------+-------------------------+\n",
      "\n"
     ]
    }
   ],
   "source": [
    "df_2019.show(36)"
   ]
  },
  {
   "cell_type": "code",
   "execution_count": null,
   "metadata": {
    "application/vnd.databricks.v1+cell": {
     "cellMetadata": {
      "byteLimit": 2048000,
      "rowLimit": 10000
     },
     "inputWidgets": {},
     "nuid": "4e385ce9-c4d0-4207-9b5e-af6732ae5e0c",
     "showTitle": false,
     "title": ""
    }
   },
   "outputs": [
    {
     "data": {
      "text/plain": [
       "0.32526239067752943"
      ]
     },
     "execution_count": 1509,
     "metadata": {},
     "output_type": "execute_result"
    }
   ],
   "source": [
    "df_2019.corr(\"voter_turnout_percentage\", \"postal_turnout_percentage\")"
   ]
  },
  {
   "cell_type": "markdown",
   "metadata": {
    "application/vnd.databricks.v1+cell": {
     "cellMetadata": {},
     "inputWidgets": {},
     "nuid": "06d972d7-f49b-4801-84d9-17a035ee2c4d",
     "showTitle": false,
     "title": ""
    }
   },
   "source": [
    "**this shows a very weak postive relationship or no relation between voter turnnout and postal percentage in 2019 data**"
   ]
  },
  {
   "cell_type": "code",
   "execution_count": null,
   "metadata": {
    "application/vnd.databricks.v1+cell": {
     "cellMetadata": {
      "byteLimit": 2048000,
      "rowLimit": 10000
     },
     "inputWidgets": {},
     "nuid": "87bd0656-53e4-4399-916d-5a4048ba15f4",
     "showTitle": false,
     "title": ""
    }
   },
   "outputs": [],
   "source": [
    "df_2019.write.format(\"csv\")\\\n",
    ".option(\"header\",\"true\")\\\n",
    ".mode(\"overwrite\")\\\n",
    ".save(\"dbfs:/mnt/analytics/secondary-analysis/correlation_between_voter_turnout_percentage_and_postal_percentage\")"
   ]
  },
  {
   "cell_type": "markdown",
   "metadata": {
    "application/vnd.databricks.v1+cell": {
     "cellMetadata": {},
     "inputWidgets": {},
     "nuid": "bb261f54-f43e-4313-bdf6-1de381bd18e9",
     "showTitle": false,
     "title": ""
    }
   },
   "source": [
    "# Is there any correlation between GDP of a state and voter turnout %??"
   ]
  },
  {
   "cell_type": "markdown",
   "metadata": {
    "application/vnd.databricks.v1+cell": {
     "cellMetadata": {},
     "inputWidgets": {},
     "nuid": "8960c637-66a6-4f8c-b5aa-d3396640a288",
     "showTitle": false,
     "title": ""
    }
   },
   "source": [
    "# 2018-2019 state wise gdp data \n",
    "# source :- https://en.wikipedia.org/wiki/List_of_Indian_states_and_union_territories_by_GDP"
   ]
  },
  {
   "cell_type": "code",
   "execution_count": null,
   "metadata": {
    "application/vnd.databricks.v1+cell": {
     "cellMetadata": {
      "byteLimit": 2048000,
      "rowLimit": 10000
     },
     "inputWidgets": {},
     "nuid": "c54d591c-545c-4da2-8791-cf3b8bb2cd20",
     "showTitle": false,
     "title": ""
    }
   },
   "outputs": [],
   "source": [
    "gdp_data = [\n",
    "    (\"andaman & nicobar islands\",90030),\n",
    "    (\"andhra pradesh\",8737210),\n",
    "    (\"arunachal pradesh\",253350),\n",
    "    (\"assam\",3093360),\n",
    "    (\"bihar\",5279760),\n",
    "    (\"chandigarh\",401390),\n",
    "    (\"chhattisgarh\",3271070),\n",
    "    (\"dadra & nagar haveli\",0),\n",
    "    (\"daman & diu\",0),\n",
    "    (\"goa\",718530),\n",
    "    (\"gujarat\",14921560),\n",
    "    (\"haryana\",6989400),\n",
    "    (\"himachal pradesh\",1483830),\n",
    "    (\"jammu & kashmir\",1598590),\n",
    "    (\"jharkhand\",3056950),\n",
    "    (\"karnataka\",14793910),\n",
    "    (\"kerala\",7882860),\n",
    "    (\"lakshadweep\",0),\n",
    "    (\"madhya pradesh\",8298050),\n",
    "    (\"maharashtra\",25288540),\n",
    "    (\"manipur\",273880),\n",
    "    (\"meghalaya\",321760),\n",
    "    (\"nagaland\",265270),\n",
    "    (\"nct of delhi\",6779000),\n",
    "    (\"odisha\",4403950),\n",
    "    (\"puducherry\",321290),\n",
    "    (\"punjab\",4710140),\n",
    "    (\"rajasthan\",8325290),\n",
    "    (\"sikkim\",259710),\n",
    "    (\"tamil nadu\",14650510), \n",
    "    (\"telangana\",7500500),\n",
    "    (\"tripura\",437160), \n",
    "    (\"uttar pradesh\",14399260),\n",
    "    (\"uttarakhand\",2202220),\n",
    "    (\"west bengal\",9747000)\n",
    "\n",
    "]"
   ]
  },
  {
   "cell_type": "code",
   "execution_count": null,
   "metadata": {
    "application/vnd.databricks.v1+cell": {
     "cellMetadata": {
      "byteLimit": 2048000,
      "rowLimit": 10000
     },
     "inputWidgets": {},
     "nuid": "6d79e0ca-de13-4110-a3f4-68c62beef635",
     "showTitle": false,
     "title": ""
    }
   },
   "outputs": [],
   "source": [
    "my_schema = StructType([\n",
    "    StructField(\"state_name\",StringType()),\n",
    "    StructField(\"gdp_in_millions_of_indian_rupees\",LongType())\n",
    "]) \n",
    "\n",
    "gdp_df = spark.createDataFrame(data=gdp_data,schema=my_schema) "
   ]
  },
  {
   "cell_type": "code",
   "execution_count": null,
   "metadata": {
    "application/vnd.databricks.v1+cell": {
     "cellMetadata": {
      "byteLimit": 2048000,
      "rowLimit": 10000
     },
     "inputWidgets": {},
     "nuid": "1460da2f-1d22-455a-8696-724dd424d94c",
     "showTitle": false,
     "title": ""
    }
   },
   "outputs": [
    {
     "name": "stdout",
     "output_type": "stream",
     "text": [
      "+--------------------+--------------------------------+\n",
      "|          state_name|gdp_in_millions_of_indian_rupees|\n",
      "+--------------------+--------------------------------+\n",
      "|andaman & nicobar...|                           90030|\n",
      "|      andhra pradesh|                         8737210|\n",
      "+--------------------+--------------------------------+\n",
      "only showing top 2 rows\n",
      "\n"
     ]
    }
   ],
   "source": [
    "gdp_df.show(2)"
   ]
  },
  {
   "cell_type": "code",
   "execution_count": null,
   "metadata": {
    "application/vnd.databricks.v1+cell": {
     "cellMetadata": {
      "byteLimit": 2048000,
      "rowLimit": 10000
     },
     "inputWidgets": {},
     "nuid": "20e6de4e-b1bc-44cb-9f3b-d8feefa04f53",
     "showTitle": false,
     "title": ""
    }
   },
   "outputs": [],
   "source": [
    "df = df_2019.join(gdp_df,df_2019[\"state_name\"]==gdp_df[\"state_name\"],\"inner\")\\\n",
    ".select(df_2019[\"state_name\"],df_2019[\"voter_turnout_percentage\"],gdp_df[\"gdp_in_millions_of_indian_rupees\"])\n"
   ]
  },
  {
   "cell_type": "code",
   "execution_count": null,
   "metadata": {
    "application/vnd.databricks.v1+cell": {
     "cellMetadata": {
      "byteLimit": 2048000,
      "rowLimit": 10000
     },
     "inputWidgets": {},
     "nuid": "2ae8f008-54a1-4a89-a744-c68c3f3cc11a",
     "showTitle": false,
     "title": ""
    }
   },
   "outputs": [
    {
     "name": "stdout",
     "output_type": "stream",
     "text": [
      "+--------------------+------------------------+--------------------------------+\n",
      "|          state_name|voter_turnout_percentage|gdp_in_millions_of_indian_rupees|\n",
      "+--------------------+------------------------+--------------------------------+\n",
      "|andaman & nicobar...|                    4.07|                           90030|\n",
      "|      andhra pradesh|                    5.81|                         8737210|\n",
      "+--------------------+------------------------+--------------------------------+\n",
      "only showing top 2 rows\n",
      "\n"
     ]
    }
   ],
   "source": [
    "df.show(2)"
   ]
  },
  {
   "cell_type": "code",
   "execution_count": null,
   "metadata": {
    "application/vnd.databricks.v1+cell": {
     "cellMetadata": {
      "byteLimit": 2048000,
      "rowLimit": 10000
     },
     "inputWidgets": {},
     "nuid": "d61b4394-0ae9-4947-beb4-bbdf8544af2d",
     "showTitle": false,
     "title": ""
    }
   },
   "outputs": [
    {
     "data": {
      "text/plain": [
       "-0.4458637187518575"
      ]
     },
     "execution_count": 1498,
     "metadata": {},
     "output_type": "execute_result"
    }
   ],
   "source": [
    "df.corr(\"voter_turnout_percentage\", \"gdp_in_millions_of_indian_rupees\")"
   ]
  },
  {
   "cell_type": "markdown",
   "metadata": {
    "application/vnd.databricks.v1+cell": {
     "cellMetadata": {},
     "inputWidgets": {},
     "nuid": "c4f2f1d2-7e39-4fdb-b8c4-889798a834de",
     "showTitle": false,
     "title": ""
    }
   },
   "source": [
    "**this shows a very weak negative relationship or no relation between voter turnnout state and gdp of state**"
   ]
  },
  {
   "cell_type": "code",
   "execution_count": null,
   "metadata": {
    "application/vnd.databricks.v1+cell": {
     "cellMetadata": {
      "byteLimit": 2048000,
      "rowLimit": 10000
     },
     "inputWidgets": {},
     "nuid": "5b4ed4a8-643e-4e93-8f30-c2951cc6098d",
     "showTitle": false,
     "title": ""
    }
   },
   "outputs": [],
   "source": [
    "df.write.format(\"csv\")\\\n",
    ".option(\"header\",\"true\")\\\n",
    ".mode(\"overwrite\")\\\n",
    ".save(\"dbfs:/mnt/analytics/secondary-analysis/correlation_between_voter_turnout_percentage_and_gdp_of_state\")"
   ]
  },
  {
   "cell_type": "markdown",
   "metadata": {
    "application/vnd.databricks.v1+cell": {
     "cellMetadata": {},
     "inputWidgets": {},
     "nuid": "7dc87e81-fb99-4079-92bb-e34ac77fe253",
     "showTitle": false,
     "title": ""
    }
   },
   "source": [
    "# Is there any correlation between literacy % of a state and voter turnout %?"
   ]
  },
  {
   "cell_type": "markdown",
   "metadata": {
    "application/vnd.databricks.v1+cell": {
     "cellMetadata": {},
     "inputWidgets": {},
     "nuid": "32b5b1e7-0608-4547-b446-0561a9f3236a",
     "showTitle": false,
     "title": ""
    }
   },
   "source": [
    "**Source :- https://en.wikipedia.org/wiki/List_of_Indian_states_and_union_territories_by_literacy_rate**"
   ]
  },
  {
   "cell_type": "code",
   "execution_count": null,
   "metadata": {
    "application/vnd.databricks.v1+cell": {
     "cellMetadata": {
      "byteLimit": 2048000,
      "rowLimit": 10000
     },
     "inputWidgets": {},
     "nuid": "82f1dcff-de69-45ee-add5-4e89ca794f5c",
     "showTitle": false,
     "title": ""
    }
   },
   "outputs": [],
   "source": [
    "literacy_data = [\n",
    "    (\"andaman & nicobar islands\",86.27),\n",
    "    (\"andhra pradesh\",66.9),\n",
    "    (\"arunachal pradesh\",66.95),\n",
    "    (\"assam\",85.9),\n",
    "    (\"bihar\",70.9),\n",
    "    (\"chandigarh\",86.43),\n",
    "    (\"chhattisgarh\",77.3),\n",
    "    (\"dadra & nagar haveli\",77.65),\n",
    "    (\"daman & diu\",87.07),\n",
    "    (\"goa\",87.4),\n",
    "    (\"gujarat\",82.4),\n",
    "    (\"haryana\",80.4),\n",
    "    (\"himachal pradesh\",86.6),\n",
    "    (\"jammu & kashmir\",77.3),\n",
    "    (\"jharkhand\",74.3),\n",
    "    (\"karnataka\",77.2),\n",
    "    (\"kerala\",96.2),\n",
    "    (\"lakshadweep\",92.28),\n",
    "    (\"madhya pradesh\",73.7),\n",
    "    (\"maharashtra\",84.8),\n",
    "    (\"manipur\",79.85),\n",
    "    (\"meghalaya\",75.48),\n",
    "    (\"nagaland\",80.11),\n",
    "    (\"nct of delhi\",88.70),\n",
    "    (\"odisha\",77.3),\n",
    "    (\"puducherry\",86.55),\n",
    "    (\"punjab\",83.7),\n",
    "    (\"rajasthan\",69.7),\n",
    "    (\"sikkim\",82.2),\n",
    "    (\"tamil nadu\",82.9), \n",
    "    (\"telangana\",72.8),\n",
    "    (\"tripura\",87.75), \n",
    "    (\"uttar pradesh\",73.0),\n",
    "    (\"uttarakhand\",87.6),\n",
    "    (\"west bengal\",80.50)\n",
    "\n",
    "]"
   ]
  },
  {
   "cell_type": "code",
   "execution_count": null,
   "metadata": {
    "application/vnd.databricks.v1+cell": {
     "cellMetadata": {
      "byteLimit": 2048000,
      "rowLimit": 10000
     },
     "inputWidgets": {},
     "nuid": "37235372-6826-4448-b814-4689c55c1716",
     "showTitle": false,
     "title": ""
    }
   },
   "outputs": [],
   "source": [
    "my_schema = StructType([\n",
    "    StructField(\"state_name\",StringType()),\n",
    "    StructField(\"literacy_rate\",FloatType()),\n",
    "]) \n",
    "\n",
    "literacy_df = spark.createDataFrame(data=literacy_data,schema=my_schema) "
   ]
  },
  {
   "cell_type": "code",
   "execution_count": null,
   "metadata": {
    "application/vnd.databricks.v1+cell": {
     "cellMetadata": {
      "byteLimit": 2048000,
      "rowLimit": 10000
     },
     "inputWidgets": {},
     "nuid": "53ffebf5-6984-421f-bd94-7989c04d9667",
     "showTitle": false,
     "title": ""
    }
   },
   "outputs": [
    {
     "name": "stdout",
     "output_type": "stream",
     "text": [
      "+--------------------+-------------+\n",
      "|          state_name|literacy_rate|\n",
      "+--------------------+-------------+\n",
      "|andaman & nicobar...|        86.27|\n",
      "|      andhra pradesh|         66.9|\n",
      "+--------------------+-------------+\n",
      "only showing top 2 rows\n",
      "\n"
     ]
    }
   ],
   "source": [
    "literacy_df.show(2)"
   ]
  },
  {
   "cell_type": "code",
   "execution_count": null,
   "metadata": {
    "application/vnd.databricks.v1+cell": {
     "cellMetadata": {
      "byteLimit": 2048000,
      "rowLimit": 10000
     },
     "inputWidgets": {},
     "nuid": "da405adc-9662-4248-9d5a-d506ee502ba7",
     "showTitle": false,
     "title": ""
    }
   },
   "outputs": [],
   "source": [
    "df = df_2019.join(literacy_df,df_2019[\"state_name\"]==literacy_df[\"state_name\"],\"inner\")\\\n",
    ".select(df_2019[\"state_name\"],df_2019[\"voter_turnout_percentage\"],literacy_df[\"literacy_rate\"])"
   ]
  },
  {
   "cell_type": "code",
   "execution_count": null,
   "metadata": {
    "application/vnd.databricks.v1+cell": {
     "cellMetadata": {
      "byteLimit": 2048000,
      "rowLimit": 10000
     },
     "inputWidgets": {},
     "nuid": "7203f09b-534c-4720-9af6-7f1f1a5a39a2",
     "showTitle": false,
     "title": ""
    }
   },
   "outputs": [
    {
     "name": "stdout",
     "output_type": "stream",
     "text": [
      "+--------------------+------------------------+-------------+\n",
      "|          state_name|voter_turnout_percentage|literacy_rate|\n",
      "+--------------------+------------------------+-------------+\n",
      "|andaman & nicobar...|                    4.07|        86.27|\n",
      "|      andhra pradesh|                    5.81|         66.9|\n",
      "+--------------------+------------------------+-------------+\n",
      "only showing top 2 rows\n",
      "\n"
     ]
    }
   ],
   "source": [
    "df.show(2)"
   ]
  },
  {
   "cell_type": "code",
   "execution_count": null,
   "metadata": {
    "application/vnd.databricks.v1+cell": {
     "cellMetadata": {
      "byteLimit": 2048000,
      "rowLimit": 10000
     },
     "inputWidgets": {},
     "nuid": "4682ede0-e320-418e-9dbc-32744c544cfd",
     "showTitle": false,
     "title": ""
    }
   },
   "outputs": [
    {
     "data": {
      "text/plain": [
       "0.07024954230941735"
      ]
     },
     "execution_count": 1518,
     "metadata": {},
     "output_type": "execute_result"
    }
   ],
   "source": [
    "df.corr(\"voter_turnout_percentage\", \"literacy_rate\")"
   ]
  },
  {
   "cell_type": "markdown",
   "metadata": {
    "application/vnd.databricks.v1+cell": {
     "cellMetadata": {},
     "inputWidgets": {},
     "nuid": "8fa9084e-ca85-4c5f-bb28-759df245b71d",
     "showTitle": false,
     "title": ""
    }
   },
   "source": [
    "**This shows there is no reationship between voter turn out percentage and literacy rate**"
   ]
  },
  {
   "cell_type": "code",
   "execution_count": null,
   "metadata": {
    "application/vnd.databricks.v1+cell": {
     "cellMetadata": {
      "byteLimit": 2048000,
      "rowLimit": 10000
     },
     "inputWidgets": {},
     "nuid": "aadc18bf-2283-4581-98f9-bc31c3606668",
     "showTitle": false,
     "title": ""
    }
   },
   "outputs": [],
   "source": [
    "df.write.format(\"csv\")\\\n",
    ".option(\"header\",\"true\")\\\n",
    ".mode(\"overwrite\")\\\n",
    ".save(\"dbfs:/mnt/analytics/secondary-analysis/correlation_between_voter_turnout_percentage_and_literacy_rate_of_state\")"
   ]
  },
  {
   "cell_type": "markdown",
   "metadata": {
    "application/vnd.databricks.v1+cell": {
     "cellMetadata": {},
     "inputWidgets": {},
     "nuid": "f76318b6-060a-487d-97d2-889081731f73",
     "showTitle": false,
     "title": ""
    }
   },
   "source": []
  }
 ],
 "metadata": {
  "application/vnd.databricks.v1+notebook": {
   "dashboards": [],
   "environmentMetadata": null,
   "language": "python",
   "notebookMetadata": {
    "mostRecentlyExecutedCommandWithImplicitDF": {
     "commandId": 3923091424027711,
     "dataframes": [
      "_sqldf"
     ]
    },
    "pythonIndentUnit": 4
   },
   "notebookName": "loksabha-elections-DE",
   "widgets": {}
  },
  "language_info": {
   "name": "python"
  }
 },
 "nbformat": 4,
 "nbformat_minor": 0
}
